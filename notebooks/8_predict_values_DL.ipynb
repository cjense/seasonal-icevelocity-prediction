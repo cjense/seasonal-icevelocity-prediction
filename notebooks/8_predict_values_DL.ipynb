{
 "cells": [
  {
   "cell_type": "markdown",
   "metadata": {},
   "source": [
    "# Predict velocity values using deep learning\n",
    "\n",
    "This notebook trains and uses an LSTM to predict velocity values. Modified from the code in [Encord's](https://encord.com/blog/time-series-predictions-with-recurrent-neural-networks/) post. An LSTM uses a memory cell to store information that the model uses to predict future values. Input, forget, and output gates control what is stored in, removed, and output from the LSTM. The LSTM's memory makes it ideal for predicting time series values; the lookback must be modified to encapsulate enough days to predict but not too many for overfitting.\n",
    "\n",
    "---"
   ]
  },
  {
   "cell_type": "markdown",
   "metadata": {},
   "source": [
    "### 1. Load packages and open dataset\n",
    "\n",
    "Choose a point (`upstream`, `middle`, `terminus`)."
   ]
  },
  {
   "cell_type": "code",
   "execution_count": 1,
   "metadata": {},
   "outputs": [],
   "source": [
    "import numpy as np\n",
    "import pandas as pd\n",
    "import math\n",
    "from keras.models import Sequential\n",
    "from keras.layers import Dense\n",
    "from keras.layers import Dropout\n",
    "from keras.layers import LSTM\n",
    "from keras.layers import Conv1D, MaxPooling1D, Flatten\n",
    "from sklearn.preprocessing import MinMaxScaler\n",
    "from sklearn.metrics import mean_squared_error\n",
    "import plotly.graph_objects as go"
   ]
  },
  {
   "cell_type": "code",
   "execution_count": 2,
   "metadata": {},
   "outputs": [
    {
     "data": {
      "text/plain": [
       "(364, 1)"
      ]
     },
     "execution_count": 2,
     "metadata": {},
     "output_type": "execute_result"
    }
   ],
   "source": [
    "point_name = 'middle' # 'upstream', 'middle', or 'terminus'\n",
    "input_file='../data/ai_ready/' + point_name + '_timeseries.csv'\n",
    "\n",
    "# load the dataset, drop the series column\n",
    "df = pd.read_csv(input_file)\n",
    "\n",
    "df.drop(columns=\"series\", inplace=True)\n",
    "dataset=df['velocity'].values.reshape(-1, 1)\n",
    "dataset.shape"
   ]
  },
  {
   "cell_type": "markdown",
   "metadata": {},
   "source": [
    "### 2. Preprocessing\n",
    "\n",
    "Here, we convert the values into a matrix, normalize, and split into train and test data. Normalization ensures that predictions are scaled properly so that one data point does not dominate training or predictions. We split into 80/20 train/test data and use a look back of 15, meaning that the model will consider the previous 15 values to predict the next value."
   ]
  },
  {
   "cell_type": "code",
   "execution_count": 3,
   "metadata": {},
   "outputs": [],
   "source": [
    "# convert an array of values into a dataset matrix\n",
    "def create_dataset(dataset, look_back=1):\n",
    "\tdataX, dataY = [], []\n",
    "\tfor i in range(len(dataset)-look_back-1):\n",
    "\t\ta = dataset[i:(i+look_back), 0]\n",
    "\t\tdataX.append(a)\n",
    "\t\tdataY.append(dataset[i + look_back, 0])\n",
    "\tprint(len(dataX), len(dataY))\n",
    "\treturn np.array(dataX), np.array(dataY)"
   ]
  },
  {
   "cell_type": "code",
   "execution_count": 4,
   "metadata": {},
   "outputs": [
    {
     "data": {
      "text/plain": [
       "(364, 1)"
      ]
     },
     "execution_count": 4,
     "metadata": {},
     "output_type": "execute_result"
    }
   ],
   "source": [
    "# normalize the dataset\n",
    "scaler = MinMaxScaler(feature_range=(0, 1))\n",
    "dataset = scaler.fit_transform(dataset)\n",
    "dataset.shape"
   ]
  },
  {
   "cell_type": "code",
   "execution_count": 5,
   "metadata": {},
   "outputs": [
    {
     "data": {
      "text/plain": [
       "((254, 1), (110, 1))"
      ]
     },
     "execution_count": 5,
     "metadata": {},
     "output_type": "execute_result"
    }
   ],
   "source": [
    "# split into train and test sets, 70% test data, 30% training data\n",
    "train_size = int(len(dataset) * 0.70)\n",
    "test_size = len(dataset) - train_size\n",
    "train, test = dataset[0:train_size,:], dataset[train_size:len(dataset),:]\n",
    "train.shape, test.shape"
   ]
  },
  {
   "cell_type": "code",
   "execution_count": 6,
   "metadata": {},
   "outputs": [
    {
     "name": "stdout",
     "output_type": "stream",
     "text": [
      "248 248\n",
      "104 104\n"
     ]
    },
    {
     "data": {
      "text/plain": [
       "((247, 5), (247,), (104, 5), (104,))"
      ]
     },
     "execution_count": 6,
     "metadata": {},
     "output_type": "execute_result"
    }
   ],
   "source": [
    "# reshape into X=t and Y=t+1, timestep 5\n",
    "look_back = 5\n",
    "trainX, trainY = create_dataset(train, look_back)\n",
    "testX, testY = create_dataset(test, look_back)\n",
    "\n",
    "trainX = trainX[:-1]\n",
    "trainY = trainY[:-1]\n",
    "trainX.shape, trainY.shape, testX.shape, testY.shape"
   ]
  },
  {
   "cell_type": "markdown",
   "metadata": {},
   "source": [
    "### 3. Train and test\n",
    "\n",
    "Create the model and train for 5000 epochs. Save it to the `models` folder."
   ]
  },
  {
   "cell_type": "code",
   "execution_count": 7,
   "metadata": {},
   "outputs": [
    {
     "data": {
      "text/plain": [
       "((247, 5, 1), (247,), (104, 5, 1), (104,))"
      ]
     },
     "execution_count": 7,
     "metadata": {},
     "output_type": "execute_result"
    }
   ],
   "source": [
    "# reshape input to be [samples, time steps, features]\n",
    "trainX = np.reshape(trainX, (trainX.shape[0], trainX.shape[1], 1))\n",
    "testX = np.reshape(testX, (testX.shape[0], testX.shape[1], 1))\n",
    "\n",
    "trainX.shape, trainY.shape, testX.shape, testY.shape"
   ]
  },
  {
   "cell_type": "code",
   "execution_count": 8,
   "metadata": {},
   "outputs": [
    {
     "name": "stderr",
     "output_type": "stream",
     "text": [
      "/Users/cjense/miniconda3/envs/mlgeo-jensencc/lib/python3.10/site-packages/keras/layers/rnn/rnn.py:205: UserWarning: Do not pass an `input_shape`/`input_dim` argument to a layer. When using Sequential models, prefer using an `Input(shape)` object as the first layer in the model instead.\n",
      "  super().__init__(**kwargs)\n"
     ]
    },
    {
     "data": {
      "text/html": [
       "<pre style=\"white-space:pre;overflow-x:auto;line-height:normal;font-family:Menlo,'DejaVu Sans Mono',consolas,'Courier New',monospace\"><span style=\"font-weight: bold\">Model: \"sequential\"</span>\n",
       "</pre>\n"
      ],
      "text/plain": [
       "\u001b[1mModel: \"sequential\"\u001b[0m\n"
      ]
     },
     "metadata": {},
     "output_type": "display_data"
    },
    {
     "data": {
      "text/html": [
       "<pre style=\"white-space:pre;overflow-x:auto;line-height:normal;font-family:Menlo,'DejaVu Sans Mono',consolas,'Courier New',monospace\">┏━━━━━━━━━━━━━━━━━━━━━━━━━━━━━━━━━┳━━━━━━━━━━━━━━━━━━━━━━━━┳━━━━━━━━━━━━━━━┓\n",
       "┃<span style=\"font-weight: bold\"> Layer (type)                    </span>┃<span style=\"font-weight: bold\"> Output Shape           </span>┃<span style=\"font-weight: bold\">       Param # </span>┃\n",
       "┡━━━━━━━━━━━━━━━━━━━━━━━━━━━━━━━━━╇━━━━━━━━━━━━━━━━━━━━━━━━╇━━━━━━━━━━━━━━━┩\n",
       "│ lstm (<span style=\"color: #0087ff; text-decoration-color: #0087ff\">LSTM</span>)                     │ (<span style=\"color: #00d7ff; text-decoration-color: #00d7ff\">None</span>, <span style=\"color: #00af00; text-decoration-color: #00af00\">5</span>, <span style=\"color: #00af00; text-decoration-color: #00af00\">100</span>)         │        <span style=\"color: #00af00; text-decoration-color: #00af00\">40,800</span> │\n",
       "├─────────────────────────────────┼────────────────────────┼───────────────┤\n",
       "│ dropout (<span style=\"color: #0087ff; text-decoration-color: #0087ff\">Dropout</span>)               │ (<span style=\"color: #00d7ff; text-decoration-color: #00d7ff\">None</span>, <span style=\"color: #00af00; text-decoration-color: #00af00\">5</span>, <span style=\"color: #00af00; text-decoration-color: #00af00\">100</span>)         │             <span style=\"color: #00af00; text-decoration-color: #00af00\">0</span> │\n",
       "├─────────────────────────────────┼────────────────────────┼───────────────┤\n",
       "│ lstm_1 (<span style=\"color: #0087ff; text-decoration-color: #0087ff\">LSTM</span>)                   │ (<span style=\"color: #00d7ff; text-decoration-color: #00d7ff\">None</span>, <span style=\"color: #00af00; text-decoration-color: #00af00\">5</span>, <span style=\"color: #00af00; text-decoration-color: #00af00\">100</span>)         │        <span style=\"color: #00af00; text-decoration-color: #00af00\">80,400</span> │\n",
       "├─────────────────────────────────┼────────────────────────┼───────────────┤\n",
       "│ dropout_1 (<span style=\"color: #0087ff; text-decoration-color: #0087ff\">Dropout</span>)             │ (<span style=\"color: #00d7ff; text-decoration-color: #00d7ff\">None</span>, <span style=\"color: #00af00; text-decoration-color: #00af00\">5</span>, <span style=\"color: #00af00; text-decoration-color: #00af00\">100</span>)         │             <span style=\"color: #00af00; text-decoration-color: #00af00\">0</span> │\n",
       "├─────────────────────────────────┼────────────────────────┼───────────────┤\n",
       "│ lstm_2 (<span style=\"color: #0087ff; text-decoration-color: #0087ff\">LSTM</span>)                   │ (<span style=\"color: #00d7ff; text-decoration-color: #00d7ff\">None</span>, <span style=\"color: #00af00; text-decoration-color: #00af00\">50</span>)             │        <span style=\"color: #00af00; text-decoration-color: #00af00\">30,200</span> │\n",
       "├─────────────────────────────────┼────────────────────────┼───────────────┤\n",
       "│ dropout_2 (<span style=\"color: #0087ff; text-decoration-color: #0087ff\">Dropout</span>)             │ (<span style=\"color: #00d7ff; text-decoration-color: #00d7ff\">None</span>, <span style=\"color: #00af00; text-decoration-color: #00af00\">50</span>)             │             <span style=\"color: #00af00; text-decoration-color: #00af00\">0</span> │\n",
       "├─────────────────────────────────┼────────────────────────┼───────────────┤\n",
       "│ dense (<span style=\"color: #0087ff; text-decoration-color: #0087ff\">Dense</span>)                   │ (<span style=\"color: #00d7ff; text-decoration-color: #00d7ff\">None</span>, <span style=\"color: #00af00; text-decoration-color: #00af00\">1</span>)              │            <span style=\"color: #00af00; text-decoration-color: #00af00\">51</span> │\n",
       "└─────────────────────────────────┴────────────────────────┴───────────────┘\n",
       "</pre>\n"
      ],
      "text/plain": [
       "┏━━━━━━━━━━━━━━━━━━━━━━━━━━━━━━━━━┳━━━━━━━━━━━━━━━━━━━━━━━━┳━━━━━━━━━━━━━━━┓\n",
       "┃\u001b[1m \u001b[0m\u001b[1mLayer (type)                   \u001b[0m\u001b[1m \u001b[0m┃\u001b[1m \u001b[0m\u001b[1mOutput Shape          \u001b[0m\u001b[1m \u001b[0m┃\u001b[1m \u001b[0m\u001b[1m      Param #\u001b[0m\u001b[1m \u001b[0m┃\n",
       "┡━━━━━━━━━━━━━━━━━━━━━━━━━━━━━━━━━╇━━━━━━━━━━━━━━━━━━━━━━━━╇━━━━━━━━━━━━━━━┩\n",
       "│ lstm (\u001b[38;5;33mLSTM\u001b[0m)                     │ (\u001b[38;5;45mNone\u001b[0m, \u001b[38;5;34m5\u001b[0m, \u001b[38;5;34m100\u001b[0m)         │        \u001b[38;5;34m40,800\u001b[0m │\n",
       "├─────────────────────────────────┼────────────────────────┼───────────────┤\n",
       "│ dropout (\u001b[38;5;33mDropout\u001b[0m)               │ (\u001b[38;5;45mNone\u001b[0m, \u001b[38;5;34m5\u001b[0m, \u001b[38;5;34m100\u001b[0m)         │             \u001b[38;5;34m0\u001b[0m │\n",
       "├─────────────────────────────────┼────────────────────────┼───────────────┤\n",
       "│ lstm_1 (\u001b[38;5;33mLSTM\u001b[0m)                   │ (\u001b[38;5;45mNone\u001b[0m, \u001b[38;5;34m5\u001b[0m, \u001b[38;5;34m100\u001b[0m)         │        \u001b[38;5;34m80,400\u001b[0m │\n",
       "├─────────────────────────────────┼────────────────────────┼───────────────┤\n",
       "│ dropout_1 (\u001b[38;5;33mDropout\u001b[0m)             │ (\u001b[38;5;45mNone\u001b[0m, \u001b[38;5;34m5\u001b[0m, \u001b[38;5;34m100\u001b[0m)         │             \u001b[38;5;34m0\u001b[0m │\n",
       "├─────────────────────────────────┼────────────────────────┼───────────────┤\n",
       "│ lstm_2 (\u001b[38;5;33mLSTM\u001b[0m)                   │ (\u001b[38;5;45mNone\u001b[0m, \u001b[38;5;34m50\u001b[0m)             │        \u001b[38;5;34m30,200\u001b[0m │\n",
       "├─────────────────────────────────┼────────────────────────┼───────────────┤\n",
       "│ dropout_2 (\u001b[38;5;33mDropout\u001b[0m)             │ (\u001b[38;5;45mNone\u001b[0m, \u001b[38;5;34m50\u001b[0m)             │             \u001b[38;5;34m0\u001b[0m │\n",
       "├─────────────────────────────────┼────────────────────────┼───────────────┤\n",
       "│ dense (\u001b[38;5;33mDense\u001b[0m)                   │ (\u001b[38;5;45mNone\u001b[0m, \u001b[38;5;34m1\u001b[0m)              │            \u001b[38;5;34m51\u001b[0m │\n",
       "└─────────────────────────────────┴────────────────────────┴───────────────┘\n"
      ]
     },
     "metadata": {},
     "output_type": "display_data"
    },
    {
     "data": {
      "text/html": [
       "<pre style=\"white-space:pre;overflow-x:auto;line-height:normal;font-family:Menlo,'DejaVu Sans Mono',consolas,'Courier New',monospace\"><span style=\"font-weight: bold\"> Total params: </span><span style=\"color: #00af00; text-decoration-color: #00af00\">151,451</span> (591.61 KB)\n",
       "</pre>\n"
      ],
      "text/plain": [
       "\u001b[1m Total params: \u001b[0m\u001b[38;5;34m151,451\u001b[0m (591.61 KB)\n"
      ]
     },
     "metadata": {},
     "output_type": "display_data"
    },
    {
     "data": {
      "text/html": [
       "<pre style=\"white-space:pre;overflow-x:auto;line-height:normal;font-family:Menlo,'DejaVu Sans Mono',consolas,'Courier New',monospace\"><span style=\"font-weight: bold\"> Trainable params: </span><span style=\"color: #00af00; text-decoration-color: #00af00\">151,451</span> (591.61 KB)\n",
       "</pre>\n"
      ],
      "text/plain": [
       "\u001b[1m Trainable params: \u001b[0m\u001b[38;5;34m151,451\u001b[0m (591.61 KB)\n"
      ]
     },
     "metadata": {},
     "output_type": "display_data"
    },
    {
     "data": {
      "text/html": [
       "<pre style=\"white-space:pre;overflow-x:auto;line-height:normal;font-family:Menlo,'DejaVu Sans Mono',consolas,'Courier New',monospace\"><span style=\"font-weight: bold\"> Non-trainable params: </span><span style=\"color: #00af00; text-decoration-color: #00af00\">0</span> (0.00 B)\n",
       "</pre>\n"
      ],
      "text/plain": [
       "\u001b[1m Non-trainable params: \u001b[0m\u001b[38;5;34m0\u001b[0m (0.00 B)\n"
      ]
     },
     "metadata": {},
     "output_type": "display_data"
    },
    {
     "name": "stdout",
     "output_type": "stream",
     "text": [
      "None\n"
     ]
    },
    {
     "data": {
      "text/plain": [
       "<keras.callbacks.history.History at 0x31b3fdb70>"
      ]
     },
     "execution_count": 8,
     "metadata": {},
     "output_type": "execute_result"
    }
   ],
   "source": [
    "# create and fit the LSTM network, optimizer=adam, 50 neurons, 2 LSTM layers\n",
    "lstm_model = Sequential()\n",
    "lstm_model.add(LSTM(100, return_sequences=True, input_shape=(look_back, 1)))\n",
    "lstm_model.add(Dropout(0.2))\n",
    "lstm_model.add(LSTM(100, return_sequences=True))\n",
    "lstm_model.add(Dropout(0.2))\n",
    "lstm_model.add(LSTM(50))\n",
    "lstm_model.add(Dropout(0.2))\n",
    "lstm_model.add(Dense(1))\n",
    "lstm_model.compile(loss='mse', optimizer='adam')\n",
    "print(lstm_model.summary())\n",
    "lstm_model.fit(trainX, trainY, epochs=500, batch_size=32, validation_data=(testX, testY), verbose=0)"
   ]
  },
  {
   "cell_type": "code",
   "execution_count": 9,
   "metadata": {},
   "outputs": [
    {
     "name": "stdout",
     "output_type": "stream",
     "text": [
      "\u001b[1m8/8\u001b[0m \u001b[32m━━━━━━━━━━━━━━━━━━━━\u001b[0m\u001b[37m\u001b[0m \u001b[1m0s\u001b[0m 20ms/step\n",
      "\u001b[1m4/4\u001b[0m \u001b[32m━━━━━━━━━━━━━━━━━━━━\u001b[0m\u001b[37m\u001b[0m \u001b[1m0s\u001b[0m 2ms/step\n"
     ]
    }
   ],
   "source": [
    "# make predictions\n",
    "trainPredict_lstm = lstm_model.predict(trainX)\n",
    "testPredict_lstm = lstm_model.predict(testX)"
   ]
  },
  {
   "cell_type": "code",
   "execution_count": 10,
   "metadata": {},
   "outputs": [],
   "source": [
    "lstm_model.save('../models/' + point_name + '_lstm_model.keras')"
   ]
  },
  {
   "cell_type": "code",
   "execution_count": 11,
   "metadata": {},
   "outputs": [],
   "source": [
    "# invert predictions\n",
    "trainPredict_lstm = scaler.inverse_transform(trainPredict_lstm)\n",
    "trainY = scaler.inverse_transform([trainY])\n",
    "testPredict_lstm = scaler.inverse_transform(testPredict_lstm)\n",
    "testY = scaler.inverse_transform([testY])"
   ]
  },
  {
   "cell_type": "markdown",
   "metadata": {},
   "source": [
    "### 4. Analyze and plot predictions\n",
    "\n",
    "Calculate RMSE for train and test, shift for plotting, and plot using Plotly. Note that the first 15 timesteps of both train and test are not accounted for in the prediction data since they were used to train the model."
   ]
  },
  {
   "cell_type": "code",
   "execution_count": 12,
   "metadata": {},
   "outputs": [
    {
     "name": "stdout",
     "output_type": "stream",
     "text": [
      "Train Score: 37.46 RMSE\n",
      "Test Score: 42.18 RMSE\n"
     ]
    }
   ],
   "source": [
    "# calculate root mean squared error\n",
    "trainScore_lstm = math.sqrt(mean_squared_error(trainY[0], trainPredict_lstm[:,0]))\n",
    "print('Train Score: %.2f RMSE' % (trainScore_lstm))\n",
    "testScore_lstm = math.sqrt(mean_squared_error(testY[0], testPredict_lstm[:,0]))\n",
    "print('Test Score: %.2f RMSE' % (testScore_lstm))"
   ]
  },
  {
   "cell_type": "code",
   "execution_count": 13,
   "metadata": {},
   "outputs": [],
   "source": [
    "# shift train predictions for plotting\n",
    "trainPredictPlot_lstm = np.empty_like(dataset)\n",
    "trainPredictPlot_lstm[:, :] = np.nan\n",
    "trainPredictPlot_lstm[look_back:len(trainPredict_lstm) + look_back, :] = trainPredict_lstm"
   ]
  },
  {
   "cell_type": "code",
   "execution_count": 14,
   "metadata": {},
   "outputs": [],
   "source": [
    "# shift test predictions for plotting\n",
    "testPredictPlot_lstm = np.empty_like(dataset)\n",
    "testPredictPlot_lstm[:, :] = np.nan\n",
    "testPredictPlot_lstm[len(trainPredict_lstm)+(look_back*2)+1:len(dataset)-2, :] = testPredict_lstm"
   ]
  },
  {
   "cell_type": "code",
   "execution_count": 15,
   "metadata": {},
   "outputs": [
    {
     "data": {
      "application/vnd.plotly.v1+json": {
       "config": {
        "plotlyServerURL": "https://plot.ly"
       },
       "data": [
        {
         "mode": "lines",
         "name": "Actual Data",
         "type": "scatter",
         "y": [
          779.53534,
          738.42413,
          741.9333,
          736.29333,
          731.44696,
          783.8993999999999,
          801.9030999999999,
          737.65625,
          682.86725,
          778.01483,
          720.2944300000001,
          764.0380000000001,
          807.8212999999998,
          803.03564,
          739.8966,
          778.28174,
          790.3799399999999,
          766.97675,
          775.7110599999999,
          773.8064,
          769.74316,
          769.5829499999999,
          786.32153,
          778.7888999999999,
          792.45435,
          763.81726,
          806.6888,
          888.0428,
          912.9139,
          929.5636,
          750.8795,
          753.1004,
          742.8684,
          765.5128000000001,
          745.14087,
          731.84906,
          737.8129,
          802.55536,
          761.0836,
          769.71655,
          827.0431,
          784.8896499999998,
          892.1064000000001,
          781.1029,
          761.3725999999999,
          839.83875,
          761.7999,
          761.11285,
          814.53217,
          729.8833600000002,
          774.7037000000001,
          755.82556,
          760.9177,
          758.64935,
          765.5382,
          750.0122000000001,
          799.3717,
          759.1179000000001,
          807.7095,
          781.23956,
          793.1362000000001,
          773.3901400000001,
          807.1425999999999,
          809.65875,
          775.64667,
          810.0696,
          777.7804,
          812.9107999999999,
          863.68146,
          782.8091999999999,
          794.82446,
          793.0781,
          829.9197999999999,
          757.5804,
          762.94727,
          815.7253399999998,
          828.2929,
          746.1347,
          979.03687,
          807.9018599999999,
          837.9640999999999,
          843.12646,
          864.8735,
          747.812,
          773.926,
          811.81415,
          787.9254,
          740.1255,
          828.8951999999999,
          819.7054,
          813.4805,
          846.9989,
          789.5592,
          814.1469,
          829.0668,
          821.93823,
          815.7347999999998,
          827.3362,
          826.8686,
          846.60944,
          810.25433,
          944.5558,
          859.783,
          776.1410999999999,
          860.7285,
          784.1573,
          776.9295999999999,
          829.2263,
          818.2905,
          863.39655,
          848.26624,
          838.15735,
          820.5433,
          843.01324,
          903.2396,
          920.8287000000001,
          701.6564,
          734.9771,
          857.1394000000001,
          957.8990499999999,
          890.17126,
          826.97186,
          823.71234,
          823.6747,
          830.22516,
          827.4907000000001,
          826.2654,
          838.7302,
          830.75714,
          853.87317,
          876.07434,
          843.78564,
          826.93384,
          782.0467,
          839.0111,
          840.1141999999999,
          809.34247,
          846.3443,
          845.2434,
          840.3825999999999,
          841.9008,
          844.24384,
          839.3294999999999,
          837.2445699999998,
          844.5326,
          837.3416,
          845.1107,
          862.8172,
          861.8744,
          849.7458,
          838.27045,
          830.01953,
          835.5708,
          833.964,
          847.4599000000001,
          848.9426,
          846.0026999999999,
          852.79425,
          840.45825,
          858.9449,
          843.8492,
          829.75806,
          834.30444,
          845.4909999999999,
          842.97644,
          849.8517,
          842.9386000000001,
          743.20465,
          820.0958,
          948.1581399999999,
          679.17847,
          728.18353,
          745.0368999999998,
          625.2242,
          786.2057500000001,
          793.80206,
          796.18207,
          788.5788,
          795.98096,
          805.4753000000001,
          809.70374,
          828.09735,
          808.27136,
          807.0099,
          812.7288999999998,
          811.39453,
          811.8516,
          807.05536,
          829.0688500000001,
          836.55975,
          828.9171,
          835.9408,
          848.8149,
          830.27673,
          830.8216,
          829.38385,
          814.40857,
          838.7331999999999,
          842.80786,
          828.7443,
          833.2852,
          836.56195,
          837.8084,
          832.99664,
          840.33295,
          845.8898999999999,
          854.14716,
          847.1035999999999,
          869.7076,
          849.6133,
          850.3320000000001,
          851.0433,
          858.1084599999999,
          893.64465,
          856.161,
          871.5333,
          883.9967,
          806.8979,
          850.83575,
          944.0604,
          966.42816,
          977.6059,
          902.7519,
          776.9396399999999,
          760.2787999999999,
          737.2519,
          780.7937600000001,
          783.98224,
          778.1462,
          788.54425,
          786.12335,
          788.6476,
          788.3852,
          788.5048,
          813.4975600000001,
          790.72845,
          802.1187000000001,
          808.6795,
          808.1745999999999,
          803.2641,
          820.6401,
          820.55786,
          814.7866,
          821.8431,
          854.5204,
          823.9852,
          818.9256,
          836.8924600000001,
          822.72876,
          829.7194,
          839.76807,
          816.4167,
          826.2480499999999,
          845.6341000000001,
          830.9395999999999,
          814.9132000000001,
          837.6171,
          827.0943,
          831.05414,
          841.5177,
          817.1129000000001,
          849.0217,
          840.69794,
          838.90344,
          851.06433,
          842.9311,
          848.3822,
          851.82587,
          813.0235,
          846.92316,
          887.2899,
          855.2439,
          727.6456999999999,
          885.7745400000001,
          945.8258700000001,
          960.0337,
          930.5928000000001,
          905.5867300000001,
          940.5631999999999,
          867.36017,
          820.31946,
          838.007,
          828.22003,
          824.91364,
          839.00946,
          845.1768,
          834.329,
          858.4682,
          822.0428,
          839.1544,
          824.6978,
          831.4095,
          844.6448000000001,
          850.7153,
          855.60126,
          854.1229,
          827.1391,
          844.0580399999999,
          845.94104,
          841.1847,
          872.64355,
          825.82367,
          857.70386,
          874.7331500000001,
          876.8169,
          846.2484,
          860.6264999999999,
          858.6454,
          858.0603,
          865.4502600000001,
          864.37646,
          881.6574,
          915.58887,
          946.7455,
          804.004,
          833.9113,
          877.5230000000001,
          894.8965,
          888.1239600000001,
          837.4727,
          871.6311,
          864.1263,
          865.25696,
          893.01465,
          850.8103,
          823.4797,
          869.7585399999999,
          876.8725599999999,
          860.8418999999999,
          862.7819,
          888.0641,
          862.12354,
          838.5176999999999,
          859.83154,
          843.36633,
          868.70624,
          883.35785,
          875.4683,
          814.98004,
          899.4535000000001,
          957.9405999999999,
          805.1623500000001,
          726.8116,
          709.9305,
          731.0368700000001,
          752.65985,
          749.9105,
          804.1374,
          808.4432399999998,
          784.3592,
          813.3298,
          822.6051,
          824.1515,
          815.5497,
          821.66064,
          814.3937,
          815.4064,
          818.0148,
          829.8501600000001,
          829.9358000000001,
          844.6734,
          833.6204,
          838.2255,
          857.9733999999999
         ]
        },
        {
         "mode": "lines",
         "name": "Train Predictions",
         "type": "scatter",
         "y": [
          null,
          null,
          null,
          null,
          null,
          783.5332641601562,
          785.0607299804688,
          792.8131713867188,
          795.755859375,
          788.225830078125,
          781.760009765625,
          779.8096923828125,
          783.1547241210938,
          788.5751953125,
          801.6952514648438,
          800.4808349609375,
          800.7618408203125,
          800.649658203125,
          800.144775390625,
          799.1792602539062,
          799.2987060546875,
          799.6763305664062,
          797.7794799804688,
          799.5254516601562,
          800.41845703125,
          803.1322021484375,
          801.1488647460938,
          805.8013305664062,
          817.8328857421875,
          837.7267456054688,
          854.3056030273438,
          730.07958984375,
          734.3635864257812,
          780.818603515625,
          778.7267456054688,
          788.234619140625,
          787.30859375,
          783.748779296875,
          788.4837036132812,
          792.2572021484375,
          796.513427734375,
          801.1844482421875,
          807.27587890625,
          820.1705322265625,
          811.6337280273438,
          825.421142578125,
          808.4749755859375,
          795.8474731445312,
          804.6767578125,
          800.1612548828125,
          796.9944458007812,
          797.6614379882812,
          788.770263671875,
          793.924560546875,
          790.9920654296875,
          793.440185546875,
          791.6749877929688,
          795.6902465820312,
          795.8375854492188,
          802.171142578125,
          801.2555541992188,
          807.7379760742188,
          802.7188110351562,
          809.832275390625,
          809.2068481445312,
          809.0924682617188,
          811.1548461914062,
          807.89453125,
          813.3259887695312,
          818.5809936523438,
          814.2835083007812,
          820.5009765625,
          808.635498046875,
          825.8934326171875,
          806.6168823242188,
          807.5429077148438,
          803.4478149414062,
          813.6248779296875,
          805.5008544921875,
          829.9594116210938,
          798.287353515625,
          845.195068359375,
          799.0070190429688,
          743.646240234375,
          804.13232421875,
          837.46240234375,
          814.1188354492188,
          807.3845825195312,
          800.8092651367188,
          805.1582641601562,
          811.6239624023438,
          814.4356079101562,
          820.556640625,
          817.6854858398438,
          830.0458374023438,
          822.4202270507812,
          827.9708862304688,
          822.3650512695312,
          828.7432250976562,
          830.4578247070312,
          835.3544311523438,
          825.0471801757812,
          867.1514892578125,
          805.0067138671875,
          860.8842163085938,
          868.0173950195312,
          778.1294555664062,
          823.7010498046875,
          810.4229125976562,
          821.5345458984375,
          825.0775146484375,
          828.7875366210938,
          845.8101196289062,
          834.4298706054688,
          869.7241821289062,
          868.68310546875,
          865.1614379882812,
          746.7810668945312,
          810.29443359375,
          914.0902709960938,
          863.1801147460938,
          836.1636352539062,
          850.83642578125,
          786.7349243164062,
          777.8619995117188,
          866.7293701171875,
          832.0835571289062,
          832.5659790039062,
          835.9669189453125,
          834.481201171875,
          844.0736694335938,
          849.2415161132812,
          843.3938598632812,
          856.1519775390625,
          823.8008422851562,
          867.0918579101562,
          830.89453125,
          824.8841552734375,
          829.9782104492188,
          837.1268920898438,
          843.2411499023438,
          838.3804931640625,
          853.0307006835938,
          849.8035278320312,
          848.6630249023438,
          850.9078979492188,
          846.0447998046875,
          850.844970703125,
          853.4973754882812,
          855.5751342773438,
          856.2235107421875,
          859.9362182617188,
          865.9358520507812,
          863.0975952148438,
          846.2092895507812,
          846.4957885742188,
          842.461669921875,
          848.1419067382812,
          852.9417724609375,
          851.3163452148438,
          869.0726928710938,
          845.79345703125,
          860.1837158203125,
          850.7492065429688,
          858.3545532226562,
          845.5773315429688,
          846.9329223632812,
          845.32861328125,
          809.3721923828125,
          844.08642578125,
          863.841064453125,
          741.500244140625,
          811.8551635742188,
          658.688232421875,
          743.849365234375,
          769.6048583984375,
          772.1369018554688,
          790.40087890625,
          800.6619873046875,
          809.1466674804688,
          811.1422119140625,
          813.66259765625,
          818.0017700195312,
          818.55517578125,
          821.7822265625,
          821.0726928710938,
          822.9323120117188,
          820.3155517578125,
          819.4481811523438,
          824.3640747070312,
          826.3590698242188,
          828.4840698242188,
          832.7565307617188,
          841.6697998046875,
          837.8854370117188,
          843.0078125,
          839.4810180664062,
          838.5014038085938,
          839.0067138671875,
          835.5243530273438,
          835.1392211914062,
          836.6824340820312,
          842.1990966796875,
          843.980224609375,
          838.343505859375,
          843.8243408203125,
          844.7979736328125,
          849.7242431640625,
          846.44287109375,
          866.3878173828125,
          846.4183959960938,
          878.6854858398438,
          857.8562622070312,
          883.8165283203125,
          882.6954345703125,
          841.1478881835938,
          904.6633911132812,
          852.2601318359375,
          841.295654296875,
          894.35498046875,
          914.9127197265625,
          896.5423583984375,
          915.6990966796875,
          757.8775024414062,
          741.950927734375,
          749.1671142578125,
          770.8154907226562,
          798.120361328125,
          795.14208984375,
          798.6558837890625,
          800.9832153320312,
          804.089599609375,
          805.55810546875,
          805.5911865234375,
          806.7279052734375,
          809.9773559570312,
          809.8513793945312,
          812.6880493164062,
          812.87646484375,
          816.928466796875,
          815.1861572265625,
          819.5836791992188,
          821.1845703125,
          822.44189453125,
          824.1768798828125,
          834.5383911132812,
          827.6765747070312,
          834.4630737304688,
          835.8645629882812,
          837.1895751953125,
          834.6235961914062,
          834.180908203125,
          null,
          null,
          null,
          null,
          null,
          null,
          null,
          null,
          null,
          null,
          null,
          null,
          null,
          null,
          null,
          null,
          null,
          null,
          null,
          null,
          null,
          null,
          null,
          null,
          null,
          null,
          null,
          null,
          null,
          null,
          null,
          null,
          null,
          null,
          null,
          null,
          null,
          null,
          null,
          null,
          null,
          null,
          null,
          null,
          null,
          null,
          null,
          null,
          null,
          null,
          null,
          null,
          null,
          null,
          null,
          null,
          null,
          null,
          null,
          null,
          null,
          null,
          null,
          null,
          null,
          null,
          null,
          null,
          null,
          null,
          null,
          null,
          null,
          null,
          null,
          null,
          null,
          null,
          null,
          null,
          null,
          null,
          null,
          null,
          null,
          null,
          null,
          null,
          null,
          null,
          null,
          null,
          null,
          null,
          null,
          null,
          null,
          null,
          null,
          null,
          null,
          null,
          null,
          null,
          null,
          null,
          null,
          null,
          null,
          null,
          null,
          null
         ]
        },
        {
         "mode": "lines",
         "name": "Test Predictions",
         "type": "scatter",
         "y": [
          null,
          null,
          null,
          null,
          null,
          null,
          null,
          null,
          null,
          null,
          null,
          null,
          null,
          null,
          null,
          null,
          null,
          null,
          null,
          null,
          null,
          null,
          null,
          null,
          null,
          null,
          null,
          null,
          null,
          null,
          null,
          null,
          null,
          null,
          null,
          null,
          null,
          null,
          null,
          null,
          null,
          null,
          null,
          null,
          null,
          null,
          null,
          null,
          null,
          null,
          null,
          null,
          null,
          null,
          null,
          null,
          null,
          null,
          null,
          null,
          null,
          null,
          null,
          null,
          null,
          null,
          null,
          null,
          null,
          null,
          null,
          null,
          null,
          null,
          null,
          null,
          null,
          null,
          null,
          null,
          null,
          null,
          null,
          null,
          null,
          null,
          null,
          null,
          null,
          null,
          null,
          null,
          null,
          null,
          null,
          null,
          null,
          null,
          null,
          null,
          null,
          null,
          null,
          null,
          null,
          null,
          null,
          null,
          null,
          null,
          null,
          null,
          null,
          null,
          null,
          null,
          null,
          null,
          null,
          null,
          null,
          null,
          null,
          null,
          null,
          null,
          null,
          null,
          null,
          null,
          null,
          null,
          null,
          null,
          null,
          null,
          null,
          null,
          null,
          null,
          null,
          null,
          null,
          null,
          null,
          null,
          null,
          null,
          null,
          null,
          null,
          null,
          null,
          null,
          null,
          null,
          null,
          null,
          null,
          null,
          null,
          null,
          null,
          null,
          null,
          null,
          null,
          null,
          null,
          null,
          null,
          null,
          null,
          null,
          null,
          null,
          null,
          null,
          null,
          null,
          null,
          null,
          null,
          null,
          null,
          null,
          null,
          null,
          null,
          null,
          null,
          null,
          null,
          null,
          null,
          null,
          null,
          null,
          null,
          null,
          null,
          null,
          null,
          null,
          null,
          null,
          null,
          null,
          null,
          null,
          null,
          null,
          null,
          null,
          null,
          null,
          null,
          null,
          null,
          null,
          null,
          null,
          null,
          null,
          null,
          null,
          null,
          null,
          null,
          null,
          null,
          null,
          null,
          null,
          null,
          null,
          null,
          null,
          null,
          null,
          null,
          null,
          null,
          null,
          null,
          null,
          null,
          null,
          null,
          null,
          null,
          null,
          null,
          null,
          null,
          null,
          null,
          null,
          836.6605834960938,
          834.67236328125,
          833.08544921875,
          844.3201904296875,
          834.9256591796875,
          846.6302490234375,
          842.6052856445312,
          850.0341796875,
          855.3994750976562,
          852.0347900390625,
          840.95068359375,
          862.1333618164062,
          861.5623168945312,
          844.2698974609375,
          811.54931640625,
          880.8126831054688,
          879.3638916015625,
          871.0852661132812,
          867.947021484375,
          827.4791870117188,
          776.4150390625,
          776.4498291015625,
          729.956298828125,
          829.6891479492188,
          823.3709716796875,
          853.3799438476562,
          836.003662109375,
          841.347900390625,
          837.726318359375,
          848.7694091796875,
          831.02978515625,
          859.1639404296875,
          831.057861328125,
          851.9066772460938,
          837.1793823242188,
          844.6318359375,
          845.318603515625,
          850.6309814453125,
          847.8759765625,
          869.7167358398438,
          851.6097412109375,
          854.0985107421875,
          855.4420776367188,
          829.052734375,
          875.4580688476562,
          851.107421875,
          887.2930297851562,
          848.5973510742188,
          899.5248413085938,
          862.8292236328125,
          893.4414672851562,
          870.3949584960938,
          877.1719970703125,
          895.0694580078125,
          905.8198852539062,
          923.0987548828125,
          755.4678344726562,
          756.1710205078125,
          792.158447265625,
          869.6279296875,
          854.4991455078125,
          844.118408203125,
          904.59375,
          827.4310302734375,
          902.4653930664062,
          880.106201171875,
          842.3857421875,
          885.5538940429688,
          900.2657470703125,
          876.2827758789062,
          865.4537353515625,
          863.7152099609375,
          902.6675415039062,
          865.2354125976562,
          887.9447631835938,
          890.5108642578125,
          863.1697998046875,
          886.3408203125,
          860.7542114257812,
          881.939697265625,
          839.4562377929688,
          927.6456909179688,
          872.15869140625,
          757.6243896484375,
          852.2347412109375,
          782.9075927734375,
          741.9073486328125,
          780.2011108398438,
          781.6953735351562,
          789.8464965820312,
          799.4108276367188,
          805.732666015625,
          810.1657104492188,
          817.2136840820312,
          821.17626953125,
          820.7236328125,
          827.1593627929688,
          825.876220703125,
          826.9428100585938,
          824.673828125,
          828.2755126953125,
          827.7978515625,
          834.12158203125,
          832.9682006835938,
          null,
          null
         ]
        }
       ],
       "layout": {
        "template": {
         "data": {
          "bar": [
           {
            "error_x": {
             "color": "#2a3f5f"
            },
            "error_y": {
             "color": "#2a3f5f"
            },
            "marker": {
             "line": {
              "color": "#E5ECF6",
              "width": 0.5
             },
             "pattern": {
              "fillmode": "overlay",
              "size": 10,
              "solidity": 0.2
             }
            },
            "type": "bar"
           }
          ],
          "barpolar": [
           {
            "marker": {
             "line": {
              "color": "#E5ECF6",
              "width": 0.5
             },
             "pattern": {
              "fillmode": "overlay",
              "size": 10,
              "solidity": 0.2
             }
            },
            "type": "barpolar"
           }
          ],
          "carpet": [
           {
            "aaxis": {
             "endlinecolor": "#2a3f5f",
             "gridcolor": "white",
             "linecolor": "white",
             "minorgridcolor": "white",
             "startlinecolor": "#2a3f5f"
            },
            "baxis": {
             "endlinecolor": "#2a3f5f",
             "gridcolor": "white",
             "linecolor": "white",
             "minorgridcolor": "white",
             "startlinecolor": "#2a3f5f"
            },
            "type": "carpet"
           }
          ],
          "choropleth": [
           {
            "colorbar": {
             "outlinewidth": 0,
             "ticks": ""
            },
            "type": "choropleth"
           }
          ],
          "contour": [
           {
            "colorbar": {
             "outlinewidth": 0,
             "ticks": ""
            },
            "colorscale": [
             [
              0,
              "#0d0887"
             ],
             [
              0.1111111111111111,
              "#46039f"
             ],
             [
              0.2222222222222222,
              "#7201a8"
             ],
             [
              0.3333333333333333,
              "#9c179e"
             ],
             [
              0.4444444444444444,
              "#bd3786"
             ],
             [
              0.5555555555555556,
              "#d8576b"
             ],
             [
              0.6666666666666666,
              "#ed7953"
             ],
             [
              0.7777777777777778,
              "#fb9f3a"
             ],
             [
              0.8888888888888888,
              "#fdca26"
             ],
             [
              1,
              "#f0f921"
             ]
            ],
            "type": "contour"
           }
          ],
          "contourcarpet": [
           {
            "colorbar": {
             "outlinewidth": 0,
             "ticks": ""
            },
            "type": "contourcarpet"
           }
          ],
          "heatmap": [
           {
            "colorbar": {
             "outlinewidth": 0,
             "ticks": ""
            },
            "colorscale": [
             [
              0,
              "#0d0887"
             ],
             [
              0.1111111111111111,
              "#46039f"
             ],
             [
              0.2222222222222222,
              "#7201a8"
             ],
             [
              0.3333333333333333,
              "#9c179e"
             ],
             [
              0.4444444444444444,
              "#bd3786"
             ],
             [
              0.5555555555555556,
              "#d8576b"
             ],
             [
              0.6666666666666666,
              "#ed7953"
             ],
             [
              0.7777777777777778,
              "#fb9f3a"
             ],
             [
              0.8888888888888888,
              "#fdca26"
             ],
             [
              1,
              "#f0f921"
             ]
            ],
            "type": "heatmap"
           }
          ],
          "heatmapgl": [
           {
            "colorbar": {
             "outlinewidth": 0,
             "ticks": ""
            },
            "colorscale": [
             [
              0,
              "#0d0887"
             ],
             [
              0.1111111111111111,
              "#46039f"
             ],
             [
              0.2222222222222222,
              "#7201a8"
             ],
             [
              0.3333333333333333,
              "#9c179e"
             ],
             [
              0.4444444444444444,
              "#bd3786"
             ],
             [
              0.5555555555555556,
              "#d8576b"
             ],
             [
              0.6666666666666666,
              "#ed7953"
             ],
             [
              0.7777777777777778,
              "#fb9f3a"
             ],
             [
              0.8888888888888888,
              "#fdca26"
             ],
             [
              1,
              "#f0f921"
             ]
            ],
            "type": "heatmapgl"
           }
          ],
          "histogram": [
           {
            "marker": {
             "pattern": {
              "fillmode": "overlay",
              "size": 10,
              "solidity": 0.2
             }
            },
            "type": "histogram"
           }
          ],
          "histogram2d": [
           {
            "colorbar": {
             "outlinewidth": 0,
             "ticks": ""
            },
            "colorscale": [
             [
              0,
              "#0d0887"
             ],
             [
              0.1111111111111111,
              "#46039f"
             ],
             [
              0.2222222222222222,
              "#7201a8"
             ],
             [
              0.3333333333333333,
              "#9c179e"
             ],
             [
              0.4444444444444444,
              "#bd3786"
             ],
             [
              0.5555555555555556,
              "#d8576b"
             ],
             [
              0.6666666666666666,
              "#ed7953"
             ],
             [
              0.7777777777777778,
              "#fb9f3a"
             ],
             [
              0.8888888888888888,
              "#fdca26"
             ],
             [
              1,
              "#f0f921"
             ]
            ],
            "type": "histogram2d"
           }
          ],
          "histogram2dcontour": [
           {
            "colorbar": {
             "outlinewidth": 0,
             "ticks": ""
            },
            "colorscale": [
             [
              0,
              "#0d0887"
             ],
             [
              0.1111111111111111,
              "#46039f"
             ],
             [
              0.2222222222222222,
              "#7201a8"
             ],
             [
              0.3333333333333333,
              "#9c179e"
             ],
             [
              0.4444444444444444,
              "#bd3786"
             ],
             [
              0.5555555555555556,
              "#d8576b"
             ],
             [
              0.6666666666666666,
              "#ed7953"
             ],
             [
              0.7777777777777778,
              "#fb9f3a"
             ],
             [
              0.8888888888888888,
              "#fdca26"
             ],
             [
              1,
              "#f0f921"
             ]
            ],
            "type": "histogram2dcontour"
           }
          ],
          "mesh3d": [
           {
            "colorbar": {
             "outlinewidth": 0,
             "ticks": ""
            },
            "type": "mesh3d"
           }
          ],
          "parcoords": [
           {
            "line": {
             "colorbar": {
              "outlinewidth": 0,
              "ticks": ""
             }
            },
            "type": "parcoords"
           }
          ],
          "pie": [
           {
            "automargin": true,
            "type": "pie"
           }
          ],
          "scatter": [
           {
            "fillpattern": {
             "fillmode": "overlay",
             "size": 10,
             "solidity": 0.2
            },
            "type": "scatter"
           }
          ],
          "scatter3d": [
           {
            "line": {
             "colorbar": {
              "outlinewidth": 0,
              "ticks": ""
             }
            },
            "marker": {
             "colorbar": {
              "outlinewidth": 0,
              "ticks": ""
             }
            },
            "type": "scatter3d"
           }
          ],
          "scattercarpet": [
           {
            "marker": {
             "colorbar": {
              "outlinewidth": 0,
              "ticks": ""
             }
            },
            "type": "scattercarpet"
           }
          ],
          "scattergeo": [
           {
            "marker": {
             "colorbar": {
              "outlinewidth": 0,
              "ticks": ""
             }
            },
            "type": "scattergeo"
           }
          ],
          "scattergl": [
           {
            "marker": {
             "colorbar": {
              "outlinewidth": 0,
              "ticks": ""
             }
            },
            "type": "scattergl"
           }
          ],
          "scattermapbox": [
           {
            "marker": {
             "colorbar": {
              "outlinewidth": 0,
              "ticks": ""
             }
            },
            "type": "scattermapbox"
           }
          ],
          "scatterpolar": [
           {
            "marker": {
             "colorbar": {
              "outlinewidth": 0,
              "ticks": ""
             }
            },
            "type": "scatterpolar"
           }
          ],
          "scatterpolargl": [
           {
            "marker": {
             "colorbar": {
              "outlinewidth": 0,
              "ticks": ""
             }
            },
            "type": "scatterpolargl"
           }
          ],
          "scatterternary": [
           {
            "marker": {
             "colorbar": {
              "outlinewidth": 0,
              "ticks": ""
             }
            },
            "type": "scatterternary"
           }
          ],
          "surface": [
           {
            "colorbar": {
             "outlinewidth": 0,
             "ticks": ""
            },
            "colorscale": [
             [
              0,
              "#0d0887"
             ],
             [
              0.1111111111111111,
              "#46039f"
             ],
             [
              0.2222222222222222,
              "#7201a8"
             ],
             [
              0.3333333333333333,
              "#9c179e"
             ],
             [
              0.4444444444444444,
              "#bd3786"
             ],
             [
              0.5555555555555556,
              "#d8576b"
             ],
             [
              0.6666666666666666,
              "#ed7953"
             ],
             [
              0.7777777777777778,
              "#fb9f3a"
             ],
             [
              0.8888888888888888,
              "#fdca26"
             ],
             [
              1,
              "#f0f921"
             ]
            ],
            "type": "surface"
           }
          ],
          "table": [
           {
            "cells": {
             "fill": {
              "color": "#EBF0F8"
             },
             "line": {
              "color": "white"
             }
            },
            "header": {
             "fill": {
              "color": "#C8D4E3"
             },
             "line": {
              "color": "white"
             }
            },
            "type": "table"
           }
          ]
         },
         "layout": {
          "annotationdefaults": {
           "arrowcolor": "#2a3f5f",
           "arrowhead": 0,
           "arrowwidth": 1
          },
          "autotypenumbers": "strict",
          "coloraxis": {
           "colorbar": {
            "outlinewidth": 0,
            "ticks": ""
           }
          },
          "colorscale": {
           "diverging": [
            [
             0,
             "#8e0152"
            ],
            [
             0.1,
             "#c51b7d"
            ],
            [
             0.2,
             "#de77ae"
            ],
            [
             0.3,
             "#f1b6da"
            ],
            [
             0.4,
             "#fde0ef"
            ],
            [
             0.5,
             "#f7f7f7"
            ],
            [
             0.6,
             "#e6f5d0"
            ],
            [
             0.7,
             "#b8e186"
            ],
            [
             0.8,
             "#7fbc41"
            ],
            [
             0.9,
             "#4d9221"
            ],
            [
             1,
             "#276419"
            ]
           ],
           "sequential": [
            [
             0,
             "#0d0887"
            ],
            [
             0.1111111111111111,
             "#46039f"
            ],
            [
             0.2222222222222222,
             "#7201a8"
            ],
            [
             0.3333333333333333,
             "#9c179e"
            ],
            [
             0.4444444444444444,
             "#bd3786"
            ],
            [
             0.5555555555555556,
             "#d8576b"
            ],
            [
             0.6666666666666666,
             "#ed7953"
            ],
            [
             0.7777777777777778,
             "#fb9f3a"
            ],
            [
             0.8888888888888888,
             "#fdca26"
            ],
            [
             1,
             "#f0f921"
            ]
           ],
           "sequentialminus": [
            [
             0,
             "#0d0887"
            ],
            [
             0.1111111111111111,
             "#46039f"
            ],
            [
             0.2222222222222222,
             "#7201a8"
            ],
            [
             0.3333333333333333,
             "#9c179e"
            ],
            [
             0.4444444444444444,
             "#bd3786"
            ],
            [
             0.5555555555555556,
             "#d8576b"
            ],
            [
             0.6666666666666666,
             "#ed7953"
            ],
            [
             0.7777777777777778,
             "#fb9f3a"
            ],
            [
             0.8888888888888888,
             "#fdca26"
            ],
            [
             1,
             "#f0f921"
            ]
           ]
          },
          "colorway": [
           "#636efa",
           "#EF553B",
           "#00cc96",
           "#ab63fa",
           "#FFA15A",
           "#19d3f3",
           "#FF6692",
           "#B6E880",
           "#FF97FF",
           "#FECB52"
          ],
          "font": {
           "color": "#2a3f5f"
          },
          "geo": {
           "bgcolor": "white",
           "lakecolor": "white",
           "landcolor": "#E5ECF6",
           "showlakes": true,
           "showland": true,
           "subunitcolor": "white"
          },
          "hoverlabel": {
           "align": "left"
          },
          "hovermode": "closest",
          "mapbox": {
           "style": "light"
          },
          "paper_bgcolor": "white",
          "plot_bgcolor": "#E5ECF6",
          "polar": {
           "angularaxis": {
            "gridcolor": "white",
            "linecolor": "white",
            "ticks": ""
           },
           "bgcolor": "#E5ECF6",
           "radialaxis": {
            "gridcolor": "white",
            "linecolor": "white",
            "ticks": ""
           }
          },
          "scene": {
           "xaxis": {
            "backgroundcolor": "#E5ECF6",
            "gridcolor": "white",
            "gridwidth": 2,
            "linecolor": "white",
            "showbackground": true,
            "ticks": "",
            "zerolinecolor": "white"
           },
           "yaxis": {
            "backgroundcolor": "#E5ECF6",
            "gridcolor": "white",
            "gridwidth": 2,
            "linecolor": "white",
            "showbackground": true,
            "ticks": "",
            "zerolinecolor": "white"
           },
           "zaxis": {
            "backgroundcolor": "#E5ECF6",
            "gridcolor": "white",
            "gridwidth": 2,
            "linecolor": "white",
            "showbackground": true,
            "ticks": "",
            "zerolinecolor": "white"
           }
          },
          "shapedefaults": {
           "line": {
            "color": "#2a3f5f"
           }
          },
          "ternary": {
           "aaxis": {
            "gridcolor": "white",
            "linecolor": "white",
            "ticks": ""
           },
           "baxis": {
            "gridcolor": "white",
            "linecolor": "white",
            "ticks": ""
           },
           "bgcolor": "#E5ECF6",
           "caxis": {
            "gridcolor": "white",
            "linecolor": "white",
            "ticks": ""
           }
          },
          "title": {
           "x": 0.05
          },
          "xaxis": {
           "automargin": true,
           "gridcolor": "white",
           "linecolor": "white",
           "ticks": "",
           "title": {
            "standoff": 15
           },
           "zerolinecolor": "white",
           "zerolinewidth": 2
          },
          "yaxis": {
           "automargin": true,
           "gridcolor": "white",
           "linecolor": "white",
           "ticks": "",
           "title": {
            "standoff": 15
           },
           "zerolinecolor": "white",
           "zerolinewidth": 2
          }
         }
        },
        "title": {
         "text": "LSTM Predictions vs Actual Data for Middle Point"
        },
        "xaxis": {
         "ticktext": [
          2015,
          2016,
          2017,
          2018,
          2019,
          2020,
          2021,
          2022,
          2023,
          2024
         ],
         "tickvals": [
          0,
          13,
          48,
          95,
          143,
          191,
          246,
          299,
          326,
          354
         ],
         "title": {
          "text": "Time"
         }
        },
        "yaxis": {
         "title": {
          "text": "Velocity"
         }
        }
       }
      }
     },
     "metadata": {},
     "output_type": "display_data"
    }
   ],
   "source": [
    "# Create traces\n",
    "fig = go.Figure()\n",
    "fig.add_trace(go.Scatter(y=scaler.inverse_transform(dataset).flatten(), mode='lines', name='Actual Data'))\n",
    "fig.add_trace(go.Scatter(y=trainPredictPlot_lstm.flatten(), mode='lines', name='Train Predictions'))\n",
    "fig.add_trace(go.Scatter(y=testPredictPlot_lstm.flatten(), mode='lines', name='Test Predictions'))\n",
    "\n",
    "# Update layout for dark theme\n",
    "fig.update_layout(title='LSTM Predictions vs Actual Data for ' + point_name.capitalize() + ' Point', xaxis_title='Time', yaxis_title='Velocity')\n",
    "# Update x-axis to show only one tick per year\n",
    "years = pd.to_datetime(df['time']).dt.year\n",
    "unique_years = sorted(years.unique())\n",
    "fig.update_xaxes(tickvals=[df.index[years == year][0] for year in unique_years], ticktext=unique_years)\n",
    "fig.write_image('../figures/8_LSTM_preds_' + point_name + '.png')\n",
    "fig.show()"
   ]
  },
  {
   "cell_type": "markdown",
   "metadata": {},
   "source": [
    "### 5. Test CNN\n",
    "\n",
    "Let's test a convolutional neural network (CNN) to compare to the LSTM."
   ]
  },
  {
   "cell_type": "code",
   "execution_count": 16,
   "metadata": {},
   "outputs": [
    {
     "name": "stdout",
     "output_type": "stream",
     "text": [
      "248 248\n",
      "104 104\n"
     ]
    },
    {
     "name": "stderr",
     "output_type": "stream",
     "text": [
      "/Users/cjense/miniconda3/envs/mlgeo-jensencc/lib/python3.10/site-packages/keras/layers/convolutional/base_conv.py:99: UserWarning:\n",
      "\n",
      "Do not pass an `input_shape`/`input_dim` argument to a layer. When using Sequential models, prefer using an `Input(shape)` object as the first layer in the model instead.\n",
      "\n"
     ]
    },
    {
     "data": {
      "text/html": [
       "<pre style=\"white-space:pre;overflow-x:auto;line-height:normal;font-family:Menlo,'DejaVu Sans Mono',consolas,'Courier New',monospace\"><span style=\"font-weight: bold\">Model: \"sequential_1\"</span>\n",
       "</pre>\n"
      ],
      "text/plain": [
       "\u001b[1mModel: \"sequential_1\"\u001b[0m\n"
      ]
     },
     "metadata": {},
     "output_type": "display_data"
    },
    {
     "data": {
      "text/html": [
       "<pre style=\"white-space:pre;overflow-x:auto;line-height:normal;font-family:Menlo,'DejaVu Sans Mono',consolas,'Courier New',monospace\">┏━━━━━━━━━━━━━━━━━━━━━━━━━━━━━━━━━┳━━━━━━━━━━━━━━━━━━━━━━━━┳━━━━━━━━━━━━━━━┓\n",
       "┃<span style=\"font-weight: bold\"> Layer (type)                    </span>┃<span style=\"font-weight: bold\"> Output Shape           </span>┃<span style=\"font-weight: bold\">       Param # </span>┃\n",
       "┡━━━━━━━━━━━━━━━━━━━━━━━━━━━━━━━━━╇━━━━━━━━━━━━━━━━━━━━━━━━╇━━━━━━━━━━━━━━━┩\n",
       "│ conv1d (<span style=\"color: #0087ff; text-decoration-color: #0087ff\">Conv1D</span>)                 │ (<span style=\"color: #00d7ff; text-decoration-color: #00d7ff\">None</span>, <span style=\"color: #00af00; text-decoration-color: #00af00\">4</span>, <span style=\"color: #00af00; text-decoration-color: #00af00\">64</span>)          │           <span style=\"color: #00af00; text-decoration-color: #00af00\">192</span> │\n",
       "├─────────────────────────────────┼────────────────────────┼───────────────┤\n",
       "│ max_pooling1d (<span style=\"color: #0087ff; text-decoration-color: #0087ff\">MaxPooling1D</span>)    │ (<span style=\"color: #00d7ff; text-decoration-color: #00d7ff\">None</span>, <span style=\"color: #00af00; text-decoration-color: #00af00\">2</span>, <span style=\"color: #00af00; text-decoration-color: #00af00\">64</span>)          │             <span style=\"color: #00af00; text-decoration-color: #00af00\">0</span> │\n",
       "├─────────────────────────────────┼────────────────────────┼───────────────┤\n",
       "│ flatten (<span style=\"color: #0087ff; text-decoration-color: #0087ff\">Flatten</span>)               │ (<span style=\"color: #00d7ff; text-decoration-color: #00d7ff\">None</span>, <span style=\"color: #00af00; text-decoration-color: #00af00\">128</span>)            │             <span style=\"color: #00af00; text-decoration-color: #00af00\">0</span> │\n",
       "├─────────────────────────────────┼────────────────────────┼───────────────┤\n",
       "│ dense_1 (<span style=\"color: #0087ff; text-decoration-color: #0087ff\">Dense</span>)                 │ (<span style=\"color: #00d7ff; text-decoration-color: #00d7ff\">None</span>, <span style=\"color: #00af00; text-decoration-color: #00af00\">50</span>)             │         <span style=\"color: #00af00; text-decoration-color: #00af00\">6,450</span> │\n",
       "├─────────────────────────────────┼────────────────────────┼───────────────┤\n",
       "│ dense_2 (<span style=\"color: #0087ff; text-decoration-color: #0087ff\">Dense</span>)                 │ (<span style=\"color: #00d7ff; text-decoration-color: #00d7ff\">None</span>, <span style=\"color: #00af00; text-decoration-color: #00af00\">1</span>)              │            <span style=\"color: #00af00; text-decoration-color: #00af00\">51</span> │\n",
       "└─────────────────────────────────┴────────────────────────┴───────────────┘\n",
       "</pre>\n"
      ],
      "text/plain": [
       "┏━━━━━━━━━━━━━━━━━━━━━━━━━━━━━━━━━┳━━━━━━━━━━━━━━━━━━━━━━━━┳━━━━━━━━━━━━━━━┓\n",
       "┃\u001b[1m \u001b[0m\u001b[1mLayer (type)                   \u001b[0m\u001b[1m \u001b[0m┃\u001b[1m \u001b[0m\u001b[1mOutput Shape          \u001b[0m\u001b[1m \u001b[0m┃\u001b[1m \u001b[0m\u001b[1m      Param #\u001b[0m\u001b[1m \u001b[0m┃\n",
       "┡━━━━━━━━━━━━━━━━━━━━━━━━━━━━━━━━━╇━━━━━━━━━━━━━━━━━━━━━━━━╇━━━━━━━━━━━━━━━┩\n",
       "│ conv1d (\u001b[38;5;33mConv1D\u001b[0m)                 │ (\u001b[38;5;45mNone\u001b[0m, \u001b[38;5;34m4\u001b[0m, \u001b[38;5;34m64\u001b[0m)          │           \u001b[38;5;34m192\u001b[0m │\n",
       "├─────────────────────────────────┼────────────────────────┼───────────────┤\n",
       "│ max_pooling1d (\u001b[38;5;33mMaxPooling1D\u001b[0m)    │ (\u001b[38;5;45mNone\u001b[0m, \u001b[38;5;34m2\u001b[0m, \u001b[38;5;34m64\u001b[0m)          │             \u001b[38;5;34m0\u001b[0m │\n",
       "├─────────────────────────────────┼────────────────────────┼───────────────┤\n",
       "│ flatten (\u001b[38;5;33mFlatten\u001b[0m)               │ (\u001b[38;5;45mNone\u001b[0m, \u001b[38;5;34m128\u001b[0m)            │             \u001b[38;5;34m0\u001b[0m │\n",
       "├─────────────────────────────────┼────────────────────────┼───────────────┤\n",
       "│ dense_1 (\u001b[38;5;33mDense\u001b[0m)                 │ (\u001b[38;5;45mNone\u001b[0m, \u001b[38;5;34m50\u001b[0m)             │         \u001b[38;5;34m6,450\u001b[0m │\n",
       "├─────────────────────────────────┼────────────────────────┼───────────────┤\n",
       "│ dense_2 (\u001b[38;5;33mDense\u001b[0m)                 │ (\u001b[38;5;45mNone\u001b[0m, \u001b[38;5;34m1\u001b[0m)              │            \u001b[38;5;34m51\u001b[0m │\n",
       "└─────────────────────────────────┴────────────────────────┴───────────────┘\n"
      ]
     },
     "metadata": {},
     "output_type": "display_data"
    },
    {
     "data": {
      "text/html": [
       "<pre style=\"white-space:pre;overflow-x:auto;line-height:normal;font-family:Menlo,'DejaVu Sans Mono',consolas,'Courier New',monospace\"><span style=\"font-weight: bold\"> Total params: </span><span style=\"color: #00af00; text-decoration-color: #00af00\">6,693</span> (26.14 KB)\n",
       "</pre>\n"
      ],
      "text/plain": [
       "\u001b[1m Total params: \u001b[0m\u001b[38;5;34m6,693\u001b[0m (26.14 KB)\n"
      ]
     },
     "metadata": {},
     "output_type": "display_data"
    },
    {
     "data": {
      "text/html": [
       "<pre style=\"white-space:pre;overflow-x:auto;line-height:normal;font-family:Menlo,'DejaVu Sans Mono',consolas,'Courier New',monospace\"><span style=\"font-weight: bold\"> Trainable params: </span><span style=\"color: #00af00; text-decoration-color: #00af00\">6,693</span> (26.14 KB)\n",
       "</pre>\n"
      ],
      "text/plain": [
       "\u001b[1m Trainable params: \u001b[0m\u001b[38;5;34m6,693\u001b[0m (26.14 KB)\n"
      ]
     },
     "metadata": {},
     "output_type": "display_data"
    },
    {
     "data": {
      "text/html": [
       "<pre style=\"white-space:pre;overflow-x:auto;line-height:normal;font-family:Menlo,'DejaVu Sans Mono',consolas,'Courier New',monospace\"><span style=\"font-weight: bold\"> Non-trainable params: </span><span style=\"color: #00af00; text-decoration-color: #00af00\">0</span> (0.00 B)\n",
       "</pre>\n"
      ],
      "text/plain": [
       "\u001b[1m Non-trainable params: \u001b[0m\u001b[38;5;34m0\u001b[0m (0.00 B)\n"
      ]
     },
     "metadata": {},
     "output_type": "display_data"
    },
    {
     "name": "stdout",
     "output_type": "stream",
     "text": [
      "None\n",
      "\u001b[1m8/8\u001b[0m \u001b[32m━━━━━━━━━━━━━━━━━━━━\u001b[0m\u001b[37m\u001b[0m \u001b[1m0s\u001b[0m 3ms/step \n",
      "\u001b[1m4/4\u001b[0m \u001b[32m━━━━━━━━━━━━━━━━━━━━\u001b[0m\u001b[37m\u001b[0m \u001b[1m0s\u001b[0m 467us/step\n",
      "Train Score: 814.95 RMSE\n",
      "Test Score: 837.87 RMSE\n"
     ]
    },
    {
     "data": {
      "application/vnd.plotly.v1+json": {
       "config": {
        "plotlyServerURL": "https://plot.ly"
       },
       "data": [
        {
         "mode": "lines",
         "name": "Actual Data",
         "type": "scatter",
         "y": [
          779.53534,
          738.42413,
          741.9333,
          736.29333,
          731.44696,
          783.8993999999999,
          801.9030999999999,
          737.65625,
          682.86725,
          778.01483,
          720.2944300000001,
          764.0380000000001,
          807.8212999999998,
          803.03564,
          739.8966,
          778.28174,
          790.3799399999999,
          766.97675,
          775.7110599999999,
          773.8064,
          769.74316,
          769.5829499999999,
          786.32153,
          778.7888999999999,
          792.45435,
          763.81726,
          806.6888,
          888.0428,
          912.9139,
          929.5636,
          750.8795,
          753.1004,
          742.8684,
          765.5128000000001,
          745.14087,
          731.84906,
          737.8129,
          802.55536,
          761.0836,
          769.71655,
          827.0431,
          784.8896499999998,
          892.1064000000001,
          781.1029,
          761.3725999999999,
          839.83875,
          761.7999,
          761.11285,
          814.53217,
          729.8833600000002,
          774.7037000000001,
          755.82556,
          760.9177,
          758.64935,
          765.5382,
          750.0122000000001,
          799.3717,
          759.1179000000001,
          807.7095,
          781.23956,
          793.1362000000001,
          773.3901400000001,
          807.1425999999999,
          809.65875,
          775.64667,
          810.0696,
          777.7804,
          812.9107999999999,
          863.68146,
          782.8091999999999,
          794.82446,
          793.0781,
          829.9197999999999,
          757.5804,
          762.94727,
          815.7253399999998,
          828.2929,
          746.1347,
          979.03687,
          807.9018599999999,
          837.9640999999999,
          843.12646,
          864.8735,
          747.812,
          773.926,
          811.81415,
          787.9254,
          740.1255,
          828.8951999999999,
          819.7054,
          813.4805,
          846.9989,
          789.5592,
          814.1469,
          829.0668,
          821.93823,
          815.7347999999998,
          827.3362,
          826.8686,
          846.60944,
          810.25433,
          944.5558,
          859.783,
          776.1410999999999,
          860.7285,
          784.1573,
          776.9295999999999,
          829.2263,
          818.2905,
          863.39655,
          848.26624,
          838.15735,
          820.5433,
          843.01324,
          903.2396,
          920.8287000000001,
          701.6564,
          734.9771,
          857.1394000000001,
          957.8990499999999,
          890.17126,
          826.97186,
          823.71234,
          823.6747,
          830.22516,
          827.4907000000001,
          826.2654,
          838.7302,
          830.75714,
          853.87317,
          876.07434,
          843.78564,
          826.93384,
          782.0467,
          839.0111,
          840.1141999999999,
          809.34247,
          846.3443,
          845.2434,
          840.3825999999999,
          841.9008,
          844.24384,
          839.3294999999999,
          837.2445699999998,
          844.5326,
          837.3416,
          845.1107,
          862.8172,
          861.8744,
          849.7458,
          838.27045,
          830.01953,
          835.5708,
          833.964,
          847.4599000000001,
          848.9426,
          846.0026999999999,
          852.79425,
          840.45825,
          858.9449,
          843.8492,
          829.75806,
          834.30444,
          845.4909999999999,
          842.97644,
          849.8517,
          842.9386000000001,
          743.20465,
          820.0958,
          948.1581399999999,
          679.17847,
          728.18353,
          745.0368999999998,
          625.2242,
          786.2057500000001,
          793.80206,
          796.18207,
          788.5788,
          795.98096,
          805.4753000000001,
          809.70374,
          828.09735,
          808.27136,
          807.0099,
          812.7288999999998,
          811.39453,
          811.8516,
          807.05536,
          829.0688500000001,
          836.55975,
          828.9171,
          835.9408,
          848.8149,
          830.27673,
          830.8216,
          829.38385,
          814.40857,
          838.7331999999999,
          842.80786,
          828.7443,
          833.2852,
          836.56195,
          837.8084,
          832.99664,
          840.33295,
          845.8898999999999,
          854.14716,
          847.1035999999999,
          869.7076,
          849.6133,
          850.3320000000001,
          851.0433,
          858.1084599999999,
          893.64465,
          856.161,
          871.5333,
          883.9967,
          806.8979,
          850.83575,
          944.0604,
          966.42816,
          977.6059,
          902.7519,
          776.9396399999999,
          760.2787999999999,
          737.2519,
          780.7937600000001,
          783.98224,
          778.1462,
          788.54425,
          786.12335,
          788.6476,
          788.3852,
          788.5048,
          813.4975600000001,
          790.72845,
          802.1187000000001,
          808.6795,
          808.1745999999999,
          803.2641,
          820.6401,
          820.55786,
          814.7866,
          821.8431,
          854.5204,
          823.9852,
          818.9256,
          836.8924600000001,
          822.72876,
          829.7194,
          839.76807,
          816.4167,
          826.2480499999999,
          845.6341000000001,
          830.9395999999999,
          814.9132000000001,
          837.6171,
          827.0943,
          831.05414,
          841.5177,
          817.1129000000001,
          849.0217,
          840.69794,
          838.90344,
          851.06433,
          842.9311,
          848.3822,
          851.82587,
          813.0235,
          846.92316,
          887.2899,
          855.2439,
          727.6456999999999,
          885.7745400000001,
          945.8258700000001,
          960.0337,
          930.5928000000001,
          905.5867300000001,
          940.5631999999999,
          867.36017,
          820.31946,
          838.007,
          828.22003,
          824.91364,
          839.00946,
          845.1768,
          834.329,
          858.4682,
          822.0428,
          839.1544,
          824.6978,
          831.4095,
          844.6448000000001,
          850.7153,
          855.60126,
          854.1229,
          827.1391,
          844.0580399999999,
          845.94104,
          841.1847,
          872.64355,
          825.82367,
          857.70386,
          874.7331500000001,
          876.8169,
          846.2484,
          860.6264999999999,
          858.6454,
          858.0603,
          865.4502600000001,
          864.37646,
          881.6574,
          915.58887,
          946.7455,
          804.004,
          833.9113,
          877.5230000000001,
          894.8965,
          888.1239600000001,
          837.4727,
          871.6311,
          864.1263,
          865.25696,
          893.01465,
          850.8103,
          823.4797,
          869.7585399999999,
          876.8725599999999,
          860.8418999999999,
          862.7819,
          888.0641,
          862.12354,
          838.5176999999999,
          859.83154,
          843.36633,
          868.70624,
          883.35785,
          875.4683,
          814.98004,
          899.4535000000001,
          957.9405999999999,
          805.1623500000001,
          726.8116,
          709.9305,
          731.0368700000001,
          752.65985,
          749.9105,
          804.1374,
          808.4432399999998,
          784.3592,
          813.3298,
          822.6051,
          824.1515,
          815.5497,
          821.66064,
          814.3937,
          815.4064,
          818.0148,
          829.8501600000001,
          829.9358000000001,
          844.6734,
          833.6204,
          838.2255,
          857.9733999999999
         ]
        },
        {
         "mode": "lines",
         "name": "Train Predictions (CNN)",
         "type": "scatter",
         "y": [
          null,
          null,
          null,
          null,
          null,
          748.0408325195312,
          762.6027221679688,
          760.5707397460938,
          770.418212890625,
          785.3825073242188,
          763.8955078125,
          759.7955932617188,
          777.3453979492188,
          788.365234375,
          786.962646484375,
          782.5360107421875,
          807.10498046875,
          777.6105346679688,
          764.5909423828125,
          789.9341430664062,
          788.2460327148438,
          783.4796752929688,
          783.4969482421875,
          787.023193359375,
          789.009521484375,
          793.0567016601562,
          798.8500366210938,
          807.1015014648438,
          826.4547729492188,
          841.6632080078125,
          835.916015625,
          743.0203247070312,
          778.0776977539062,
          777.6700439453125,
          750.752197265625,
          771.6558837890625,
          767.9658813476562,
          760.2223510742188,
          769.0760498046875,
          767.7952880859375,
          786.0159301757812,
          788.6112670898438,
          810.379638671875,
          805.4945068359375,
          800.152099609375,
          819.62109375,
          779.4267578125,
          796.5812377929688,
          809.0875854492188,
          769.2318725585938,
          785.9258422851562,
          796.0430908203125,
          750.4994506835938,
          740.7343139648438,
          766.8219604492188,
          772.930908203125,
          776.0603637695312,
          786.5181884765625,
          794.5245361328125,
          799.9838256835938,
          795.7139282226562,
          793.5167236328125,
          795.8843383789062,
          805.125244140625,
          806.51708984375,
          809.3072509765625,
          818.1897583007812,
          819.7013549804688,
          811.8389892578125,
          819.066162109375,
          812.5911254882812,
          829.8488159179688,
          796.3543701171875,
          791.6494750976562,
          803.744140625,
          820.6569213867188,
          787.4338989257812,
          780.6351928710938,
          787.0748901367188,
          797.57373046875,
          836.1094970703125,
          859.16552734375,
          855.572509765625,
          739.2869873046875,
          800.4817504882812,
          828.0939331054688,
          783.2114868164062,
          757.1082763671875,
          802.9234619140625,
          815.3792114257812,
          804.747802734375,
          815.8121948242188,
          812.9569702148438,
          835.7052001953125,
          841.9014282226562,
          817.3966674804688,
          809.5692138671875,
          821.4594116210938,
          826.6534423828125,
          828.8270263671875,
          830.98779296875,
          836.7313842773438,
          828.1292114257812,
          798.3175659179688,
          855.0527954101562,
          809.7036743164062,
          820.758056640625,
          805.5057373046875,
          791.2796630859375,
          801.794921875,
          819.7169189453125,
          834.071533203125,
          840.9739379882812,
          841.8692016601562,
          849.8170166015625,
          863.0194091796875,
          832.6187133789062,
          747.1869506835938,
          823.566650390625,
          934.5910034179688,
          895.754150390625,
          820.6756591796875,
          836.7088623046875,
          796.2603149414062,
          814.5477294921875,
          823.8421020507812,
          828.900146484375,
          828.291015625,
          831.9271850585938,
          834.4010620117188,
          839.3878173828125,
          844.4390258789062,
          847.5017700195312,
          854.998779296875,
          855.056396484375,
          856.4984130859375,
          838.06787109375,
          821.0732421875,
          839.497314453125,
          846.095703125,
          831.7393188476562,
          838.1372680664062,
          843.0228271484375,
          841.6254272460938,
          840.6083374023438,
          842.1244506835938,
          841.81494140625,
          841.8943481445312,
          845.9197387695312,
          849.1721801757812,
          852.3980712890625,
          851.8649291992188,
          850.9979858398438,
          847.2257690429688,
          840.06494140625,
          837.667236328125,
          839.8278198242188,
          841.9429321289062,
          845.5906982421875,
          847.9152221679688,
          850.8840942382812,
          852.9310913085938,
          846.1046142578125,
          845.5059204101562,
          845.6678466796875,
          839.6883544921875,
          841.34326171875,
          843.92724609375,
          828.1693115234375,
          854.944091796875,
          805.1758422851562,
          724.4695434570312,
          752.7559814453125,
          644.8038330078125,
          784.9036254882812,
          789.696533203125,
          793.630615234375,
          789.7999877929688,
          827.0232543945312,
          801.7276000976562,
          804.8516235351562,
          805.5089721679688,
          813.6727294921875,
          820.4142456054688,
          822.0354614257812,
          819.0160522460938,
          817.8447875976562,
          814.5943603515625,
          815.1228637695312,
          820.631591796875,
          823.9498901367188,
          827.23681640625,
          832.351318359375,
          837.3637084960938,
          839.4381713867188,
          840.5721435546875,
          838.1464233398438,
          835.0693969726562,
          835.0390014648438,
          837.16259765625,
          833.4492797851562,
          836.9153442382812,
          838.708251953125,
          835.2581176757812,
          835.3228759765625,
          837.5452270507812,
          839.0413818359375,
          841.1074829101562,
          845.4866943359375,
          853.4246215820312,
          857.2877807617188,
          855.5420532226562,
          852.1826782226562,
          853.2496948242188,
          858.4229736328125,
          851.0684204101562,
          868.0838623046875,
          860.247802734375,
          857.2276611328125,
          877.9718627929688,
          863.7201538085938,
          904.1305541992188,
          870.7466430664062,
          789.3192138671875,
          755.2877807617188,
          765.5814819335938,
          759.5382080078125,
          768.18017578125,
          776.5858154296875,
          771.5501098632812,
          785.3423461914062,
          794.4910278320312,
          794.0075073242188,
          794.893798828125,
          795.6455688476562,
          804.1797485351562,
          810.2710571289062,
          812.4071044921875,
          807.2978515625,
          807.6638793945312,
          809.8433227539062,
          815.513671875,
          818.9569091796875,
          818.4138793945312,
          821.6530151367188,
          833.585693359375,
          832.5895385742188,
          838.3636474609375,
          835.2705078125,
          836.6218872070312,
          831.9511108398438,
          832.309814453125,
          null,
          null,
          null,
          null,
          null,
          null,
          null,
          null,
          null,
          null,
          null,
          null,
          null,
          null,
          null,
          null,
          null,
          null,
          null,
          null,
          null,
          null,
          null,
          null,
          null,
          null,
          null,
          null,
          null,
          null,
          null,
          null,
          null,
          null,
          null,
          null,
          null,
          null,
          null,
          null,
          null,
          null,
          null,
          null,
          null,
          null,
          null,
          null,
          null,
          null,
          null,
          null,
          null,
          null,
          null,
          null,
          null,
          null,
          null,
          null,
          null,
          null,
          null,
          null,
          null,
          null,
          null,
          null,
          null,
          null,
          null,
          null,
          null,
          null,
          null,
          null,
          null,
          null,
          null,
          null,
          null,
          null,
          null,
          null,
          null,
          null,
          null,
          null,
          null,
          null,
          null,
          null,
          null,
          null,
          null,
          null,
          null,
          null,
          null,
          null,
          null,
          null,
          null,
          null,
          null,
          null,
          null,
          null,
          null,
          null,
          null,
          null
         ]
        },
        {
         "mode": "lines",
         "name": "Test Predictions (CNN)",
         "type": "scatter",
         "y": [
          null,
          null,
          null,
          null,
          null,
          null,
          null,
          null,
          null,
          null,
          null,
          null,
          null,
          null,
          null,
          null,
          null,
          null,
          null,
          null,
          null,
          null,
          null,
          null,
          null,
          null,
          null,
          null,
          null,
          null,
          null,
          null,
          null,
          null,
          null,
          null,
          null,
          null,
          null,
          null,
          null,
          null,
          null,
          null,
          null,
          null,
          null,
          null,
          null,
          null,
          null,
          null,
          null,
          null,
          null,
          null,
          null,
          null,
          null,
          null,
          null,
          null,
          null,
          null,
          null,
          null,
          null,
          null,
          null,
          null,
          null,
          null,
          null,
          null,
          null,
          null,
          null,
          null,
          null,
          null,
          null,
          null,
          null,
          null,
          null,
          null,
          null,
          null,
          null,
          null,
          null,
          null,
          null,
          null,
          null,
          null,
          null,
          null,
          null,
          null,
          null,
          null,
          null,
          null,
          null,
          null,
          null,
          null,
          null,
          null,
          null,
          null,
          null,
          null,
          null,
          null,
          null,
          null,
          null,
          null,
          null,
          null,
          null,
          null,
          null,
          null,
          null,
          null,
          null,
          null,
          null,
          null,
          null,
          null,
          null,
          null,
          null,
          null,
          null,
          null,
          null,
          null,
          null,
          null,
          null,
          null,
          null,
          null,
          null,
          null,
          null,
          null,
          null,
          null,
          null,
          null,
          null,
          null,
          null,
          null,
          null,
          null,
          null,
          null,
          null,
          null,
          null,
          null,
          null,
          null,
          null,
          null,
          null,
          null,
          null,
          null,
          null,
          null,
          null,
          null,
          null,
          null,
          null,
          null,
          null,
          null,
          null,
          null,
          null,
          null,
          null,
          null,
          null,
          null,
          null,
          null,
          null,
          null,
          null,
          null,
          null,
          null,
          null,
          null,
          null,
          null,
          null,
          null,
          null,
          null,
          null,
          null,
          null,
          null,
          null,
          null,
          null,
          null,
          null,
          null,
          null,
          null,
          null,
          null,
          null,
          null,
          null,
          null,
          null,
          null,
          null,
          null,
          null,
          null,
          null,
          null,
          null,
          null,
          null,
          null,
          null,
          null,
          null,
          null,
          null,
          null,
          null,
          null,
          null,
          null,
          null,
          null,
          null,
          null,
          null,
          null,
          null,
          null,
          830.9431762695312,
          833.3534545898438,
          837.2284545898438,
          844.0370483398438,
          845.2652587890625,
          835.487548828125,
          840.9520263671875,
          845.98779296875,
          845.3882446289062,
          845.4395751953125,
          851.066650390625,
          856.3988037109375,
          854.9737548828125,
          851.3079833984375,
          812.6189575195312,
          862.4285278320312,
          864.926025390625,
          957.6871948242188,
          905.98828125,
          831.8561401367188,
          864.3125610351562,
          830.08203125,
          813.5824584960938,
          832.0478515625,
          821.2764282226562,
          826.5389404296875,
          833.7767333984375,
          836.421630859375,
          836.9306030273438,
          844.7534790039062,
          852.1531372070312,
          851.4359130859375,
          841.1006469726562,
          832.907470703125,
          835.2135009765625,
          837.2947998046875,
          841.6428833007812,
          846.8172607421875,
          852.0398559570312,
          853.5850830078125,
          849.9400634765625,
          839.2509155273438,
          850.4568481445312,
          849.86474609375,
          864.431640625,
          850.0216674804688,
          845.1954345703125,
          857.81982421875,
          868.2177124023438,
          864.8436279296875,
          852.4259033203125,
          855.2647705078125,
          857.529052734375,
          863.0471801757812,
          867.4859619140625,
          852.8942260742188,
          745.2463989257812,
          767.2554321289062,
          800.6761474609375,
          793.1272583007812,
          840.4046020507812,
          863.8610229492188,
          882.0545654296875,
          866.9490356445312,
          844.54345703125,
          866.1806640625,
          862.937255859375,
          863.7890625,
          865.0335083007812,
          858.5989990234375,
          851.883056640625,
          858.9286499023438,
          872.2535400390625,
          870.4602661132812,
          863.345703125,
          865.7662963867188,
          862.7410278320312,
          854.8379516601562,
          857.6001586914062,
          862.5345458984375,
          862.4690551757812,
          892.7645263671875,
          871.4454956054688,
          765.9681396484375,
          721.1201171875,
          728.7293090820312,
          758.8949584960938,
          718.7252807617188,
          739.615234375,
          763.546875,
          770.9750366210938,
          793.8767700195312,
          808.2127075195312,
          816.0227661132812,
          811.6109619140625,
          819.2686767578125,
          824.8455810546875,
          825.6257934570312,
          821.915771484375,
          820.9470825195312,
          823.4021606445312,
          825.06982421875,
          831.1375122070312,
          835.8047485351562,
          null,
          null
         ]
        }
       ],
       "layout": {
        "template": {
         "data": {
          "bar": [
           {
            "error_x": {
             "color": "#2a3f5f"
            },
            "error_y": {
             "color": "#2a3f5f"
            },
            "marker": {
             "line": {
              "color": "#E5ECF6",
              "width": 0.5
             },
             "pattern": {
              "fillmode": "overlay",
              "size": 10,
              "solidity": 0.2
             }
            },
            "type": "bar"
           }
          ],
          "barpolar": [
           {
            "marker": {
             "line": {
              "color": "#E5ECF6",
              "width": 0.5
             },
             "pattern": {
              "fillmode": "overlay",
              "size": 10,
              "solidity": 0.2
             }
            },
            "type": "barpolar"
           }
          ],
          "carpet": [
           {
            "aaxis": {
             "endlinecolor": "#2a3f5f",
             "gridcolor": "white",
             "linecolor": "white",
             "minorgridcolor": "white",
             "startlinecolor": "#2a3f5f"
            },
            "baxis": {
             "endlinecolor": "#2a3f5f",
             "gridcolor": "white",
             "linecolor": "white",
             "minorgridcolor": "white",
             "startlinecolor": "#2a3f5f"
            },
            "type": "carpet"
           }
          ],
          "choropleth": [
           {
            "colorbar": {
             "outlinewidth": 0,
             "ticks": ""
            },
            "type": "choropleth"
           }
          ],
          "contour": [
           {
            "colorbar": {
             "outlinewidth": 0,
             "ticks": ""
            },
            "colorscale": [
             [
              0,
              "#0d0887"
             ],
             [
              0.1111111111111111,
              "#46039f"
             ],
             [
              0.2222222222222222,
              "#7201a8"
             ],
             [
              0.3333333333333333,
              "#9c179e"
             ],
             [
              0.4444444444444444,
              "#bd3786"
             ],
             [
              0.5555555555555556,
              "#d8576b"
             ],
             [
              0.6666666666666666,
              "#ed7953"
             ],
             [
              0.7777777777777778,
              "#fb9f3a"
             ],
             [
              0.8888888888888888,
              "#fdca26"
             ],
             [
              1,
              "#f0f921"
             ]
            ],
            "type": "contour"
           }
          ],
          "contourcarpet": [
           {
            "colorbar": {
             "outlinewidth": 0,
             "ticks": ""
            },
            "type": "contourcarpet"
           }
          ],
          "heatmap": [
           {
            "colorbar": {
             "outlinewidth": 0,
             "ticks": ""
            },
            "colorscale": [
             [
              0,
              "#0d0887"
             ],
             [
              0.1111111111111111,
              "#46039f"
             ],
             [
              0.2222222222222222,
              "#7201a8"
             ],
             [
              0.3333333333333333,
              "#9c179e"
             ],
             [
              0.4444444444444444,
              "#bd3786"
             ],
             [
              0.5555555555555556,
              "#d8576b"
             ],
             [
              0.6666666666666666,
              "#ed7953"
             ],
             [
              0.7777777777777778,
              "#fb9f3a"
             ],
             [
              0.8888888888888888,
              "#fdca26"
             ],
             [
              1,
              "#f0f921"
             ]
            ],
            "type": "heatmap"
           }
          ],
          "heatmapgl": [
           {
            "colorbar": {
             "outlinewidth": 0,
             "ticks": ""
            },
            "colorscale": [
             [
              0,
              "#0d0887"
             ],
             [
              0.1111111111111111,
              "#46039f"
             ],
             [
              0.2222222222222222,
              "#7201a8"
             ],
             [
              0.3333333333333333,
              "#9c179e"
             ],
             [
              0.4444444444444444,
              "#bd3786"
             ],
             [
              0.5555555555555556,
              "#d8576b"
             ],
             [
              0.6666666666666666,
              "#ed7953"
             ],
             [
              0.7777777777777778,
              "#fb9f3a"
             ],
             [
              0.8888888888888888,
              "#fdca26"
             ],
             [
              1,
              "#f0f921"
             ]
            ],
            "type": "heatmapgl"
           }
          ],
          "histogram": [
           {
            "marker": {
             "pattern": {
              "fillmode": "overlay",
              "size": 10,
              "solidity": 0.2
             }
            },
            "type": "histogram"
           }
          ],
          "histogram2d": [
           {
            "colorbar": {
             "outlinewidth": 0,
             "ticks": ""
            },
            "colorscale": [
             [
              0,
              "#0d0887"
             ],
             [
              0.1111111111111111,
              "#46039f"
             ],
             [
              0.2222222222222222,
              "#7201a8"
             ],
             [
              0.3333333333333333,
              "#9c179e"
             ],
             [
              0.4444444444444444,
              "#bd3786"
             ],
             [
              0.5555555555555556,
              "#d8576b"
             ],
             [
              0.6666666666666666,
              "#ed7953"
             ],
             [
              0.7777777777777778,
              "#fb9f3a"
             ],
             [
              0.8888888888888888,
              "#fdca26"
             ],
             [
              1,
              "#f0f921"
             ]
            ],
            "type": "histogram2d"
           }
          ],
          "histogram2dcontour": [
           {
            "colorbar": {
             "outlinewidth": 0,
             "ticks": ""
            },
            "colorscale": [
             [
              0,
              "#0d0887"
             ],
             [
              0.1111111111111111,
              "#46039f"
             ],
             [
              0.2222222222222222,
              "#7201a8"
             ],
             [
              0.3333333333333333,
              "#9c179e"
             ],
             [
              0.4444444444444444,
              "#bd3786"
             ],
             [
              0.5555555555555556,
              "#d8576b"
             ],
             [
              0.6666666666666666,
              "#ed7953"
             ],
             [
              0.7777777777777778,
              "#fb9f3a"
             ],
             [
              0.8888888888888888,
              "#fdca26"
             ],
             [
              1,
              "#f0f921"
             ]
            ],
            "type": "histogram2dcontour"
           }
          ],
          "mesh3d": [
           {
            "colorbar": {
             "outlinewidth": 0,
             "ticks": ""
            },
            "type": "mesh3d"
           }
          ],
          "parcoords": [
           {
            "line": {
             "colorbar": {
              "outlinewidth": 0,
              "ticks": ""
             }
            },
            "type": "parcoords"
           }
          ],
          "pie": [
           {
            "automargin": true,
            "type": "pie"
           }
          ],
          "scatter": [
           {
            "fillpattern": {
             "fillmode": "overlay",
             "size": 10,
             "solidity": 0.2
            },
            "type": "scatter"
           }
          ],
          "scatter3d": [
           {
            "line": {
             "colorbar": {
              "outlinewidth": 0,
              "ticks": ""
             }
            },
            "marker": {
             "colorbar": {
              "outlinewidth": 0,
              "ticks": ""
             }
            },
            "type": "scatter3d"
           }
          ],
          "scattercarpet": [
           {
            "marker": {
             "colorbar": {
              "outlinewidth": 0,
              "ticks": ""
             }
            },
            "type": "scattercarpet"
           }
          ],
          "scattergeo": [
           {
            "marker": {
             "colorbar": {
              "outlinewidth": 0,
              "ticks": ""
             }
            },
            "type": "scattergeo"
           }
          ],
          "scattergl": [
           {
            "marker": {
             "colorbar": {
              "outlinewidth": 0,
              "ticks": ""
             }
            },
            "type": "scattergl"
           }
          ],
          "scattermapbox": [
           {
            "marker": {
             "colorbar": {
              "outlinewidth": 0,
              "ticks": ""
             }
            },
            "type": "scattermapbox"
           }
          ],
          "scatterpolar": [
           {
            "marker": {
             "colorbar": {
              "outlinewidth": 0,
              "ticks": ""
             }
            },
            "type": "scatterpolar"
           }
          ],
          "scatterpolargl": [
           {
            "marker": {
             "colorbar": {
              "outlinewidth": 0,
              "ticks": ""
             }
            },
            "type": "scatterpolargl"
           }
          ],
          "scatterternary": [
           {
            "marker": {
             "colorbar": {
              "outlinewidth": 0,
              "ticks": ""
             }
            },
            "type": "scatterternary"
           }
          ],
          "surface": [
           {
            "colorbar": {
             "outlinewidth": 0,
             "ticks": ""
            },
            "colorscale": [
             [
              0,
              "#0d0887"
             ],
             [
              0.1111111111111111,
              "#46039f"
             ],
             [
              0.2222222222222222,
              "#7201a8"
             ],
             [
              0.3333333333333333,
              "#9c179e"
             ],
             [
              0.4444444444444444,
              "#bd3786"
             ],
             [
              0.5555555555555556,
              "#d8576b"
             ],
             [
              0.6666666666666666,
              "#ed7953"
             ],
             [
              0.7777777777777778,
              "#fb9f3a"
             ],
             [
              0.8888888888888888,
              "#fdca26"
             ],
             [
              1,
              "#f0f921"
             ]
            ],
            "type": "surface"
           }
          ],
          "table": [
           {
            "cells": {
             "fill": {
              "color": "#EBF0F8"
             },
             "line": {
              "color": "white"
             }
            },
            "header": {
             "fill": {
              "color": "#C8D4E3"
             },
             "line": {
              "color": "white"
             }
            },
            "type": "table"
           }
          ]
         },
         "layout": {
          "annotationdefaults": {
           "arrowcolor": "#2a3f5f",
           "arrowhead": 0,
           "arrowwidth": 1
          },
          "autotypenumbers": "strict",
          "coloraxis": {
           "colorbar": {
            "outlinewidth": 0,
            "ticks": ""
           }
          },
          "colorscale": {
           "diverging": [
            [
             0,
             "#8e0152"
            ],
            [
             0.1,
             "#c51b7d"
            ],
            [
             0.2,
             "#de77ae"
            ],
            [
             0.3,
             "#f1b6da"
            ],
            [
             0.4,
             "#fde0ef"
            ],
            [
             0.5,
             "#f7f7f7"
            ],
            [
             0.6,
             "#e6f5d0"
            ],
            [
             0.7,
             "#b8e186"
            ],
            [
             0.8,
             "#7fbc41"
            ],
            [
             0.9,
             "#4d9221"
            ],
            [
             1,
             "#276419"
            ]
           ],
           "sequential": [
            [
             0,
             "#0d0887"
            ],
            [
             0.1111111111111111,
             "#46039f"
            ],
            [
             0.2222222222222222,
             "#7201a8"
            ],
            [
             0.3333333333333333,
             "#9c179e"
            ],
            [
             0.4444444444444444,
             "#bd3786"
            ],
            [
             0.5555555555555556,
             "#d8576b"
            ],
            [
             0.6666666666666666,
             "#ed7953"
            ],
            [
             0.7777777777777778,
             "#fb9f3a"
            ],
            [
             0.8888888888888888,
             "#fdca26"
            ],
            [
             1,
             "#f0f921"
            ]
           ],
           "sequentialminus": [
            [
             0,
             "#0d0887"
            ],
            [
             0.1111111111111111,
             "#46039f"
            ],
            [
             0.2222222222222222,
             "#7201a8"
            ],
            [
             0.3333333333333333,
             "#9c179e"
            ],
            [
             0.4444444444444444,
             "#bd3786"
            ],
            [
             0.5555555555555556,
             "#d8576b"
            ],
            [
             0.6666666666666666,
             "#ed7953"
            ],
            [
             0.7777777777777778,
             "#fb9f3a"
            ],
            [
             0.8888888888888888,
             "#fdca26"
            ],
            [
             1,
             "#f0f921"
            ]
           ]
          },
          "colorway": [
           "#636efa",
           "#EF553B",
           "#00cc96",
           "#ab63fa",
           "#FFA15A",
           "#19d3f3",
           "#FF6692",
           "#B6E880",
           "#FF97FF",
           "#FECB52"
          ],
          "font": {
           "color": "#2a3f5f"
          },
          "geo": {
           "bgcolor": "white",
           "lakecolor": "white",
           "landcolor": "#E5ECF6",
           "showlakes": true,
           "showland": true,
           "subunitcolor": "white"
          },
          "hoverlabel": {
           "align": "left"
          },
          "hovermode": "closest",
          "mapbox": {
           "style": "light"
          },
          "paper_bgcolor": "white",
          "plot_bgcolor": "#E5ECF6",
          "polar": {
           "angularaxis": {
            "gridcolor": "white",
            "linecolor": "white",
            "ticks": ""
           },
           "bgcolor": "#E5ECF6",
           "radialaxis": {
            "gridcolor": "white",
            "linecolor": "white",
            "ticks": ""
           }
          },
          "scene": {
           "xaxis": {
            "backgroundcolor": "#E5ECF6",
            "gridcolor": "white",
            "gridwidth": 2,
            "linecolor": "white",
            "showbackground": true,
            "ticks": "",
            "zerolinecolor": "white"
           },
           "yaxis": {
            "backgroundcolor": "#E5ECF6",
            "gridcolor": "white",
            "gridwidth": 2,
            "linecolor": "white",
            "showbackground": true,
            "ticks": "",
            "zerolinecolor": "white"
           },
           "zaxis": {
            "backgroundcolor": "#E5ECF6",
            "gridcolor": "white",
            "gridwidth": 2,
            "linecolor": "white",
            "showbackground": true,
            "ticks": "",
            "zerolinecolor": "white"
           }
          },
          "shapedefaults": {
           "line": {
            "color": "#2a3f5f"
           }
          },
          "ternary": {
           "aaxis": {
            "gridcolor": "white",
            "linecolor": "white",
            "ticks": ""
           },
           "baxis": {
            "gridcolor": "white",
            "linecolor": "white",
            "ticks": ""
           },
           "bgcolor": "#E5ECF6",
           "caxis": {
            "gridcolor": "white",
            "linecolor": "white",
            "ticks": ""
           }
          },
          "title": {
           "x": 0.05
          },
          "xaxis": {
           "automargin": true,
           "gridcolor": "white",
           "linecolor": "white",
           "ticks": "",
           "title": {
            "standoff": 15
           },
           "zerolinecolor": "white",
           "zerolinewidth": 2
          },
          "yaxis": {
           "automargin": true,
           "gridcolor": "white",
           "linecolor": "white",
           "ticks": "",
           "title": {
            "standoff": 15
           },
           "zerolinecolor": "white",
           "zerolinewidth": 2
          }
         }
        },
        "title": {
         "text": "CNN Predictions vs Actual Data for Middle Point"
        },
        "xaxis": {
         "ticktext": [
          2015,
          2016,
          2017,
          2018,
          2019,
          2020,
          2021,
          2022,
          2023,
          2024
         ],
         "tickvals": [
          0,
          13,
          48,
          95,
          143,
          191,
          246,
          299,
          326,
          354
         ],
         "title": {
          "text": "Time"
         }
        },
        "yaxis": {
         "title": {
          "text": "Velocity"
         }
        }
       }
      }
     },
     "metadata": {},
     "output_type": "display_data"
    }
   ],
   "source": [
    "# load the dataset, drop the series column\n",
    "df = pd.read_csv(input_file)\n",
    "\n",
    "df.drop(columns=\"series\", inplace=True)\n",
    "dataset=df['velocity'].values.reshape(-1, 1)\n",
    "\n",
    "# normalize the dataset\n",
    "scaler = MinMaxScaler(feature_range=(0, 1))\n",
    "dataset = scaler.fit_transform(dataset)\n",
    "\n",
    "# split into train and test sets, 70% test data, 30% training data\n",
    "train_size = int(len(dataset) * 0.70)\n",
    "test_size = len(dataset) - train_size\n",
    "train, test = dataset[0:train_size,:], dataset[train_size:len(dataset),:]\n",
    "\n",
    "trainX, trainY = create_dataset(train, look_back)\n",
    "testX, testY = create_dataset(test, look_back)\n",
    "\n",
    "trainX = trainX[:-1]\n",
    "trainY = trainY[:-1]\n",
    "\n",
    "# reshape input to be [samples, time steps, features]\n",
    "trainX_cnn = np.reshape(trainX, (trainX.shape[0], trainX.shape[1], 1))\n",
    "testX_cnn = np.reshape(testX, (testX.shape[0], testX.shape[1], 1))\n",
    "\n",
    "# create and fit the CNN model\n",
    "cnn_model = Sequential()\n",
    "cnn_model.add(Conv1D(filters=64, kernel_size=2, activation='relu', input_shape=(look_back, 1)))\n",
    "cnn_model.add(MaxPooling1D(pool_size=2))\n",
    "cnn_model.add(Flatten())\n",
    "cnn_model.add(Dense(50, activation='relu'))\n",
    "cnn_model.add(Dense(1))\n",
    "cnn_model.compile(optimizer='adam', loss='mse')\n",
    "print(cnn_model.summary())\n",
    "cnn_model.fit(trainX_cnn, trainY, epochs=500, batch_size=32, validation_data=(testX_cnn, testY), verbose=0)\n",
    "\n",
    "# make predictions\n",
    "trainPredict_cnn = cnn_model.predict(trainX_cnn)\n",
    "testPredict_cnn = cnn_model.predict(testX_cnn)\n",
    "\n",
    "# invert predictions\n",
    "trainPredict_cnn = scaler.inverse_transform(trainPredict_cnn)\n",
    "testPredict_cnn = scaler.inverse_transform(testPredict_cnn)\n",
    "\n",
    "# calculate root mean squared error\n",
    "trainScore_cnn = math.sqrt(mean_squared_error(trainY, trainPredict_cnn[:,0]))\n",
    "print('Train Score: %.2f RMSE' % (trainScore_cnn))\n",
    "testScore_cnn = math.sqrt(mean_squared_error(testY, testPredict_cnn[:,0]))\n",
    "print('Test Score: %.2f RMSE' % (testScore_cnn))\n",
    "# shift train predictions for plotting\n",
    "trainPredictPlot_cnn = np.empty_like(dataset)\n",
    "trainPredictPlot_cnn[:, :] = np.nan\n",
    "trainPredictPlot_cnn[look_back:len(trainPredict_cnn) + look_back, :] = trainPredict_cnn\n",
    "\n",
    "# shift test predictions for plotting\n",
    "testPredictPlot_cnn = np.empty_like(dataset)\n",
    "testPredictPlot_cnn[:, :] = np.nan\n",
    "testPredictPlot_cnn[len(trainPredict_cnn) + (look_back * 2) + 1:len(dataset) - 2, :] = testPredict_cnn\n",
    "\n",
    "# Create traces\n",
    "fig_cnn = go.Figure()\n",
    "fig_cnn.add_trace(go.Scatter(y=scaler.inverse_transform(dataset).flatten(), mode='lines', name='Actual Data'))\n",
    "fig_cnn.add_trace(go.Scatter(y=trainPredictPlot_cnn.flatten(), mode='lines', name='Train Predictions (CNN)'))\n",
    "fig_cnn.add_trace(go.Scatter(y=testPredictPlot_cnn.flatten(), mode='lines', name='Test Predictions (CNN)'))\n",
    "\n",
    "# Update layout for dark theme\n",
    "fig_cnn.update_layout(title='CNN Predictions vs Actual Data for ' + point_name.capitalize() + ' Point', xaxis_title='Time', yaxis_title='Velocity')\n",
    "# Update x-axis to show only one tick per year\n",
    "years = pd.to_datetime(df['time']).dt.year\n",
    "\n",
    "unique_years = sorted(years.unique())\n",
    "\n",
    "fig_cnn.update_xaxes(tickvals=[df.index[years == year][0] for year in unique_years], ticktext=unique_years)\n",
    "fig_cnn.write_image('../figures/8_CNN_preds_' + point_name + '.png')\n",
    "fig_cnn.show()"
   ]
  },
  {
   "cell_type": "code",
   "execution_count": 17,
   "metadata": {},
   "outputs": [
    {
     "name": "stdout",
     "output_type": "stream",
     "text": [
      "LSTM Train Score: 37.46 RMSE\n",
      "LSTM Test Score: 42.18 RMSE\n",
      "CNN Train Score: 814.95 RMSE\n",
      "CNN Test Score: 837.87 RMSE\n"
     ]
    },
    {
     "data": {
      "application/vnd.plotly.v1+json": {
       "config": {
        "plotlyServerURL": "https://plot.ly"
       },
       "data": [
        {
         "mode": "lines",
         "name": "Actual Data",
         "type": "scatter",
         "y": [
          779.53534,
          738.42413,
          741.9333,
          736.29333,
          731.44696,
          783.8993999999999,
          801.9030999999999,
          737.65625,
          682.86725,
          778.01483,
          720.2944300000001,
          764.0380000000001,
          807.8212999999998,
          803.03564,
          739.8966,
          778.28174,
          790.3799399999999,
          766.97675,
          775.7110599999999,
          773.8064,
          769.74316,
          769.5829499999999,
          786.32153,
          778.7888999999999,
          792.45435,
          763.81726,
          806.6888,
          888.0428,
          912.9139,
          929.5636,
          750.8795,
          753.1004,
          742.8684,
          765.5128000000001,
          745.14087,
          731.84906,
          737.8129,
          802.55536,
          761.0836,
          769.71655,
          827.0431,
          784.8896499999998,
          892.1064000000001,
          781.1029,
          761.3725999999999,
          839.83875,
          761.7999,
          761.11285,
          814.53217,
          729.8833600000002,
          774.7037000000001,
          755.82556,
          760.9177,
          758.64935,
          765.5382,
          750.0122000000001,
          799.3717,
          759.1179000000001,
          807.7095,
          781.23956,
          793.1362000000001,
          773.3901400000001,
          807.1425999999999,
          809.65875,
          775.64667,
          810.0696,
          777.7804,
          812.9107999999999,
          863.68146,
          782.8091999999999,
          794.82446,
          793.0781,
          829.9197999999999,
          757.5804,
          762.94727,
          815.7253399999998,
          828.2929,
          746.1347,
          979.03687,
          807.9018599999999,
          837.9640999999999,
          843.12646,
          864.8735,
          747.812,
          773.926,
          811.81415,
          787.9254,
          740.1255,
          828.8951999999999,
          819.7054,
          813.4805,
          846.9989,
          789.5592,
          814.1469,
          829.0668,
          821.93823,
          815.7347999999998,
          827.3362,
          826.8686,
          846.60944,
          810.25433,
          944.5558,
          859.783,
          776.1410999999999,
          860.7285,
          784.1573,
          776.9295999999999,
          829.2263,
          818.2905,
          863.39655,
          848.26624,
          838.15735,
          820.5433,
          843.01324,
          903.2396,
          920.8287000000001,
          701.6564,
          734.9771,
          857.1394000000001,
          957.8990499999999,
          890.17126,
          826.97186,
          823.71234,
          823.6747,
          830.22516,
          827.4907000000001,
          826.2654,
          838.7302,
          830.75714,
          853.87317,
          876.07434,
          843.78564,
          826.93384,
          782.0467,
          839.0111,
          840.1141999999999,
          809.34247,
          846.3443,
          845.2434,
          840.3825999999999,
          841.9008,
          844.24384,
          839.3294999999999,
          837.2445699999998,
          844.5326,
          837.3416,
          845.1107,
          862.8172,
          861.8744,
          849.7458,
          838.27045,
          830.01953,
          835.5708,
          833.964,
          847.4599000000001,
          848.9426,
          846.0026999999999,
          852.79425,
          840.45825,
          858.9449,
          843.8492,
          829.75806,
          834.30444,
          845.4909999999999,
          842.97644,
          849.8517,
          842.9386000000001,
          743.20465,
          820.0958,
          948.1581399999999,
          679.17847,
          728.18353,
          745.0368999999998,
          625.2242,
          786.2057500000001,
          793.80206,
          796.18207,
          788.5788,
          795.98096,
          805.4753000000001,
          809.70374,
          828.09735,
          808.27136,
          807.0099,
          812.7288999999998,
          811.39453,
          811.8516,
          807.05536,
          829.0688500000001,
          836.55975,
          828.9171,
          835.9408,
          848.8149,
          830.27673,
          830.8216,
          829.38385,
          814.40857,
          838.7331999999999,
          842.80786,
          828.7443,
          833.2852,
          836.56195,
          837.8084,
          832.99664,
          840.33295,
          845.8898999999999,
          854.14716,
          847.1035999999999,
          869.7076,
          849.6133,
          850.3320000000001,
          851.0433,
          858.1084599999999,
          893.64465,
          856.161,
          871.5333,
          883.9967,
          806.8979,
          850.83575,
          944.0604,
          966.42816,
          977.6059,
          902.7519,
          776.9396399999999,
          760.2787999999999,
          737.2519,
          780.7937600000001,
          783.98224,
          778.1462,
          788.54425,
          786.12335,
          788.6476,
          788.3852,
          788.5048,
          813.4975600000001,
          790.72845,
          802.1187000000001,
          808.6795,
          808.1745999999999,
          803.2641,
          820.6401,
          820.55786,
          814.7866,
          821.8431,
          854.5204,
          823.9852,
          818.9256,
          836.8924600000001,
          822.72876,
          829.7194,
          839.76807,
          816.4167,
          826.2480499999999,
          845.6341000000001,
          830.9395999999999,
          814.9132000000001,
          837.6171,
          827.0943,
          831.05414,
          841.5177,
          817.1129000000001,
          849.0217,
          840.69794,
          838.90344,
          851.06433,
          842.9311,
          848.3822,
          851.82587,
          813.0235,
          846.92316,
          887.2899,
          855.2439,
          727.6456999999999,
          885.7745400000001,
          945.8258700000001,
          960.0337,
          930.5928000000001,
          905.5867300000001,
          940.5631999999999,
          867.36017,
          820.31946,
          838.007,
          828.22003,
          824.91364,
          839.00946,
          845.1768,
          834.329,
          858.4682,
          822.0428,
          839.1544,
          824.6978,
          831.4095,
          844.6448000000001,
          850.7153,
          855.60126,
          854.1229,
          827.1391,
          844.0580399999999,
          845.94104,
          841.1847,
          872.64355,
          825.82367,
          857.70386,
          874.7331500000001,
          876.8169,
          846.2484,
          860.6264999999999,
          858.6454,
          858.0603,
          865.4502600000001,
          864.37646,
          881.6574,
          915.58887,
          946.7455,
          804.004,
          833.9113,
          877.5230000000001,
          894.8965,
          888.1239600000001,
          837.4727,
          871.6311,
          864.1263,
          865.25696,
          893.01465,
          850.8103,
          823.4797,
          869.7585399999999,
          876.8725599999999,
          860.8418999999999,
          862.7819,
          888.0641,
          862.12354,
          838.5176999999999,
          859.83154,
          843.36633,
          868.70624,
          883.35785,
          875.4683,
          814.98004,
          899.4535000000001,
          957.9405999999999,
          805.1623500000001,
          726.8116,
          709.9305,
          731.0368700000001,
          752.65985,
          749.9105,
          804.1374,
          808.4432399999998,
          784.3592,
          813.3298,
          822.6051,
          824.1515,
          815.5497,
          821.66064,
          814.3937,
          815.4064,
          818.0148,
          829.8501600000001,
          829.9358000000001,
          844.6734,
          833.6204,
          838.2255,
          857.9733999999999
         ]
        },
        {
         "mode": "lines",
         "name": "Train Predictions (LSTM)",
         "type": "scatter",
         "y": [
          null,
          null,
          null,
          null,
          null,
          783.5332641601562,
          785.0607299804688,
          792.8131713867188,
          795.755859375,
          788.225830078125,
          781.760009765625,
          779.8096923828125,
          783.1547241210938,
          788.5751953125,
          801.6952514648438,
          800.4808349609375,
          800.7618408203125,
          800.649658203125,
          800.144775390625,
          799.1792602539062,
          799.2987060546875,
          799.6763305664062,
          797.7794799804688,
          799.5254516601562,
          800.41845703125,
          803.1322021484375,
          801.1488647460938,
          805.8013305664062,
          817.8328857421875,
          837.7267456054688,
          854.3056030273438,
          730.07958984375,
          734.3635864257812,
          780.818603515625,
          778.7267456054688,
          788.234619140625,
          787.30859375,
          783.748779296875,
          788.4837036132812,
          792.2572021484375,
          796.513427734375,
          801.1844482421875,
          807.27587890625,
          820.1705322265625,
          811.6337280273438,
          825.421142578125,
          808.4749755859375,
          795.8474731445312,
          804.6767578125,
          800.1612548828125,
          796.9944458007812,
          797.6614379882812,
          788.770263671875,
          793.924560546875,
          790.9920654296875,
          793.440185546875,
          791.6749877929688,
          795.6902465820312,
          795.8375854492188,
          802.171142578125,
          801.2555541992188,
          807.7379760742188,
          802.7188110351562,
          809.832275390625,
          809.2068481445312,
          809.0924682617188,
          811.1548461914062,
          807.89453125,
          813.3259887695312,
          818.5809936523438,
          814.2835083007812,
          820.5009765625,
          808.635498046875,
          825.8934326171875,
          806.6168823242188,
          807.5429077148438,
          803.4478149414062,
          813.6248779296875,
          805.5008544921875,
          829.9594116210938,
          798.287353515625,
          845.195068359375,
          799.0070190429688,
          743.646240234375,
          804.13232421875,
          837.46240234375,
          814.1188354492188,
          807.3845825195312,
          800.8092651367188,
          805.1582641601562,
          811.6239624023438,
          814.4356079101562,
          820.556640625,
          817.6854858398438,
          830.0458374023438,
          822.4202270507812,
          827.9708862304688,
          822.3650512695312,
          828.7432250976562,
          830.4578247070312,
          835.3544311523438,
          825.0471801757812,
          867.1514892578125,
          805.0067138671875,
          860.8842163085938,
          868.0173950195312,
          778.1294555664062,
          823.7010498046875,
          810.4229125976562,
          821.5345458984375,
          825.0775146484375,
          828.7875366210938,
          845.8101196289062,
          834.4298706054688,
          869.7241821289062,
          868.68310546875,
          865.1614379882812,
          746.7810668945312,
          810.29443359375,
          914.0902709960938,
          863.1801147460938,
          836.1636352539062,
          850.83642578125,
          786.7349243164062,
          777.8619995117188,
          866.7293701171875,
          832.0835571289062,
          832.5659790039062,
          835.9669189453125,
          834.481201171875,
          844.0736694335938,
          849.2415161132812,
          843.3938598632812,
          856.1519775390625,
          823.8008422851562,
          867.0918579101562,
          830.89453125,
          824.8841552734375,
          829.9782104492188,
          837.1268920898438,
          843.2411499023438,
          838.3804931640625,
          853.0307006835938,
          849.8035278320312,
          848.6630249023438,
          850.9078979492188,
          846.0447998046875,
          850.844970703125,
          853.4973754882812,
          855.5751342773438,
          856.2235107421875,
          859.9362182617188,
          865.9358520507812,
          863.0975952148438,
          846.2092895507812,
          846.4957885742188,
          842.461669921875,
          848.1419067382812,
          852.9417724609375,
          851.3163452148438,
          869.0726928710938,
          845.79345703125,
          860.1837158203125,
          850.7492065429688,
          858.3545532226562,
          845.5773315429688,
          846.9329223632812,
          845.32861328125,
          809.3721923828125,
          844.08642578125,
          863.841064453125,
          741.500244140625,
          811.8551635742188,
          658.688232421875,
          743.849365234375,
          769.6048583984375,
          772.1369018554688,
          790.40087890625,
          800.6619873046875,
          809.1466674804688,
          811.1422119140625,
          813.66259765625,
          818.0017700195312,
          818.55517578125,
          821.7822265625,
          821.0726928710938,
          822.9323120117188,
          820.3155517578125,
          819.4481811523438,
          824.3640747070312,
          826.3590698242188,
          828.4840698242188,
          832.7565307617188,
          841.6697998046875,
          837.8854370117188,
          843.0078125,
          839.4810180664062,
          838.5014038085938,
          839.0067138671875,
          835.5243530273438,
          835.1392211914062,
          836.6824340820312,
          842.1990966796875,
          843.980224609375,
          838.343505859375,
          843.8243408203125,
          844.7979736328125,
          849.7242431640625,
          846.44287109375,
          866.3878173828125,
          846.4183959960938,
          878.6854858398438,
          857.8562622070312,
          883.8165283203125,
          882.6954345703125,
          841.1478881835938,
          904.6633911132812,
          852.2601318359375,
          841.295654296875,
          894.35498046875,
          914.9127197265625,
          896.5423583984375,
          915.6990966796875,
          757.8775024414062,
          741.950927734375,
          749.1671142578125,
          770.8154907226562,
          798.120361328125,
          795.14208984375,
          798.6558837890625,
          800.9832153320312,
          804.089599609375,
          805.55810546875,
          805.5911865234375,
          806.7279052734375,
          809.9773559570312,
          809.8513793945312,
          812.6880493164062,
          812.87646484375,
          816.928466796875,
          815.1861572265625,
          819.5836791992188,
          821.1845703125,
          822.44189453125,
          824.1768798828125,
          834.5383911132812,
          827.6765747070312,
          834.4630737304688,
          835.8645629882812,
          837.1895751953125,
          834.6235961914062,
          834.180908203125,
          null,
          null,
          null,
          null,
          null,
          null,
          null,
          null,
          null,
          null,
          null,
          null,
          null,
          null,
          null,
          null,
          null,
          null,
          null,
          null,
          null,
          null,
          null,
          null,
          null,
          null,
          null,
          null,
          null,
          null,
          null,
          null,
          null,
          null,
          null,
          null,
          null,
          null,
          null,
          null,
          null,
          null,
          null,
          null,
          null,
          null,
          null,
          null,
          null,
          null,
          null,
          null,
          null,
          null,
          null,
          null,
          null,
          null,
          null,
          null,
          null,
          null,
          null,
          null,
          null,
          null,
          null,
          null,
          null,
          null,
          null,
          null,
          null,
          null,
          null,
          null,
          null,
          null,
          null,
          null,
          null,
          null,
          null,
          null,
          null,
          null,
          null,
          null,
          null,
          null,
          null,
          null,
          null,
          null,
          null,
          null,
          null,
          null,
          null,
          null,
          null,
          null,
          null,
          null,
          null,
          null,
          null,
          null,
          null,
          null,
          null,
          null
         ]
        },
        {
         "mode": "lines",
         "name": "Test Predictions (LSTM)",
         "type": "scatter",
         "y": [
          null,
          null,
          null,
          null,
          null,
          null,
          null,
          null,
          null,
          null,
          null,
          null,
          null,
          null,
          null,
          null,
          null,
          null,
          null,
          null,
          null,
          null,
          null,
          null,
          null,
          null,
          null,
          null,
          null,
          null,
          null,
          null,
          null,
          null,
          null,
          null,
          null,
          null,
          null,
          null,
          null,
          null,
          null,
          null,
          null,
          null,
          null,
          null,
          null,
          null,
          null,
          null,
          null,
          null,
          null,
          null,
          null,
          null,
          null,
          null,
          null,
          null,
          null,
          null,
          null,
          null,
          null,
          null,
          null,
          null,
          null,
          null,
          null,
          null,
          null,
          null,
          null,
          null,
          null,
          null,
          null,
          null,
          null,
          null,
          null,
          null,
          null,
          null,
          null,
          null,
          null,
          null,
          null,
          null,
          null,
          null,
          null,
          null,
          null,
          null,
          null,
          null,
          null,
          null,
          null,
          null,
          null,
          null,
          null,
          null,
          null,
          null,
          null,
          null,
          null,
          null,
          null,
          null,
          null,
          null,
          null,
          null,
          null,
          null,
          null,
          null,
          null,
          null,
          null,
          null,
          null,
          null,
          null,
          null,
          null,
          null,
          null,
          null,
          null,
          null,
          null,
          null,
          null,
          null,
          null,
          null,
          null,
          null,
          null,
          null,
          null,
          null,
          null,
          null,
          null,
          null,
          null,
          null,
          null,
          null,
          null,
          null,
          null,
          null,
          null,
          null,
          null,
          null,
          null,
          null,
          null,
          null,
          null,
          null,
          null,
          null,
          null,
          null,
          null,
          null,
          null,
          null,
          null,
          null,
          null,
          null,
          null,
          null,
          null,
          null,
          null,
          null,
          null,
          null,
          null,
          null,
          null,
          null,
          null,
          null,
          null,
          null,
          null,
          null,
          null,
          null,
          null,
          null,
          null,
          null,
          null,
          null,
          null,
          null,
          null,
          null,
          null,
          null,
          null,
          null,
          null,
          null,
          null,
          null,
          null,
          null,
          null,
          null,
          null,
          null,
          null,
          null,
          null,
          null,
          null,
          null,
          null,
          null,
          null,
          null,
          null,
          null,
          null,
          null,
          null,
          null,
          null,
          null,
          null,
          null,
          null,
          null,
          null,
          null,
          null,
          null,
          null,
          null,
          836.6605834960938,
          834.67236328125,
          833.08544921875,
          844.3201904296875,
          834.9256591796875,
          846.6302490234375,
          842.6052856445312,
          850.0341796875,
          855.3994750976562,
          852.0347900390625,
          840.95068359375,
          862.1333618164062,
          861.5623168945312,
          844.2698974609375,
          811.54931640625,
          880.8126831054688,
          879.3638916015625,
          871.0852661132812,
          867.947021484375,
          827.4791870117188,
          776.4150390625,
          776.4498291015625,
          729.956298828125,
          829.6891479492188,
          823.3709716796875,
          853.3799438476562,
          836.003662109375,
          841.347900390625,
          837.726318359375,
          848.7694091796875,
          831.02978515625,
          859.1639404296875,
          831.057861328125,
          851.9066772460938,
          837.1793823242188,
          844.6318359375,
          845.318603515625,
          850.6309814453125,
          847.8759765625,
          869.7167358398438,
          851.6097412109375,
          854.0985107421875,
          855.4420776367188,
          829.052734375,
          875.4580688476562,
          851.107421875,
          887.2930297851562,
          848.5973510742188,
          899.5248413085938,
          862.8292236328125,
          893.4414672851562,
          870.3949584960938,
          877.1719970703125,
          895.0694580078125,
          905.8198852539062,
          923.0987548828125,
          755.4678344726562,
          756.1710205078125,
          792.158447265625,
          869.6279296875,
          854.4991455078125,
          844.118408203125,
          904.59375,
          827.4310302734375,
          902.4653930664062,
          880.106201171875,
          842.3857421875,
          885.5538940429688,
          900.2657470703125,
          876.2827758789062,
          865.4537353515625,
          863.7152099609375,
          902.6675415039062,
          865.2354125976562,
          887.9447631835938,
          890.5108642578125,
          863.1697998046875,
          886.3408203125,
          860.7542114257812,
          881.939697265625,
          839.4562377929688,
          927.6456909179688,
          872.15869140625,
          757.6243896484375,
          852.2347412109375,
          782.9075927734375,
          741.9073486328125,
          780.2011108398438,
          781.6953735351562,
          789.8464965820312,
          799.4108276367188,
          805.732666015625,
          810.1657104492188,
          817.2136840820312,
          821.17626953125,
          820.7236328125,
          827.1593627929688,
          825.876220703125,
          826.9428100585938,
          824.673828125,
          828.2755126953125,
          827.7978515625,
          834.12158203125,
          832.9682006835938,
          null,
          null
         ]
        },
        {
         "mode": "lines",
         "name": "Train Predictions (CNN)",
         "type": "scatter",
         "y": [
          null,
          null,
          null,
          null,
          null,
          748.0408325195312,
          762.6027221679688,
          760.5707397460938,
          770.418212890625,
          785.3825073242188,
          763.8955078125,
          759.7955932617188,
          777.3453979492188,
          788.365234375,
          786.962646484375,
          782.5360107421875,
          807.10498046875,
          777.6105346679688,
          764.5909423828125,
          789.9341430664062,
          788.2460327148438,
          783.4796752929688,
          783.4969482421875,
          787.023193359375,
          789.009521484375,
          793.0567016601562,
          798.8500366210938,
          807.1015014648438,
          826.4547729492188,
          841.6632080078125,
          835.916015625,
          743.0203247070312,
          778.0776977539062,
          777.6700439453125,
          750.752197265625,
          771.6558837890625,
          767.9658813476562,
          760.2223510742188,
          769.0760498046875,
          767.7952880859375,
          786.0159301757812,
          788.6112670898438,
          810.379638671875,
          805.4945068359375,
          800.152099609375,
          819.62109375,
          779.4267578125,
          796.5812377929688,
          809.0875854492188,
          769.2318725585938,
          785.9258422851562,
          796.0430908203125,
          750.4994506835938,
          740.7343139648438,
          766.8219604492188,
          772.930908203125,
          776.0603637695312,
          786.5181884765625,
          794.5245361328125,
          799.9838256835938,
          795.7139282226562,
          793.5167236328125,
          795.8843383789062,
          805.125244140625,
          806.51708984375,
          809.3072509765625,
          818.1897583007812,
          819.7013549804688,
          811.8389892578125,
          819.066162109375,
          812.5911254882812,
          829.8488159179688,
          796.3543701171875,
          791.6494750976562,
          803.744140625,
          820.6569213867188,
          787.4338989257812,
          780.6351928710938,
          787.0748901367188,
          797.57373046875,
          836.1094970703125,
          859.16552734375,
          855.572509765625,
          739.2869873046875,
          800.4817504882812,
          828.0939331054688,
          783.2114868164062,
          757.1082763671875,
          802.9234619140625,
          815.3792114257812,
          804.747802734375,
          815.8121948242188,
          812.9569702148438,
          835.7052001953125,
          841.9014282226562,
          817.3966674804688,
          809.5692138671875,
          821.4594116210938,
          826.6534423828125,
          828.8270263671875,
          830.98779296875,
          836.7313842773438,
          828.1292114257812,
          798.3175659179688,
          855.0527954101562,
          809.7036743164062,
          820.758056640625,
          805.5057373046875,
          791.2796630859375,
          801.794921875,
          819.7169189453125,
          834.071533203125,
          840.9739379882812,
          841.8692016601562,
          849.8170166015625,
          863.0194091796875,
          832.6187133789062,
          747.1869506835938,
          823.566650390625,
          934.5910034179688,
          895.754150390625,
          820.6756591796875,
          836.7088623046875,
          796.2603149414062,
          814.5477294921875,
          823.8421020507812,
          828.900146484375,
          828.291015625,
          831.9271850585938,
          834.4010620117188,
          839.3878173828125,
          844.4390258789062,
          847.5017700195312,
          854.998779296875,
          855.056396484375,
          856.4984130859375,
          838.06787109375,
          821.0732421875,
          839.497314453125,
          846.095703125,
          831.7393188476562,
          838.1372680664062,
          843.0228271484375,
          841.6254272460938,
          840.6083374023438,
          842.1244506835938,
          841.81494140625,
          841.8943481445312,
          845.9197387695312,
          849.1721801757812,
          852.3980712890625,
          851.8649291992188,
          850.9979858398438,
          847.2257690429688,
          840.06494140625,
          837.667236328125,
          839.8278198242188,
          841.9429321289062,
          845.5906982421875,
          847.9152221679688,
          850.8840942382812,
          852.9310913085938,
          846.1046142578125,
          845.5059204101562,
          845.6678466796875,
          839.6883544921875,
          841.34326171875,
          843.92724609375,
          828.1693115234375,
          854.944091796875,
          805.1758422851562,
          724.4695434570312,
          752.7559814453125,
          644.8038330078125,
          784.9036254882812,
          789.696533203125,
          793.630615234375,
          789.7999877929688,
          827.0232543945312,
          801.7276000976562,
          804.8516235351562,
          805.5089721679688,
          813.6727294921875,
          820.4142456054688,
          822.0354614257812,
          819.0160522460938,
          817.8447875976562,
          814.5943603515625,
          815.1228637695312,
          820.631591796875,
          823.9498901367188,
          827.23681640625,
          832.351318359375,
          837.3637084960938,
          839.4381713867188,
          840.5721435546875,
          838.1464233398438,
          835.0693969726562,
          835.0390014648438,
          837.16259765625,
          833.4492797851562,
          836.9153442382812,
          838.708251953125,
          835.2581176757812,
          835.3228759765625,
          837.5452270507812,
          839.0413818359375,
          841.1074829101562,
          845.4866943359375,
          853.4246215820312,
          857.2877807617188,
          855.5420532226562,
          852.1826782226562,
          853.2496948242188,
          858.4229736328125,
          851.0684204101562,
          868.0838623046875,
          860.247802734375,
          857.2276611328125,
          877.9718627929688,
          863.7201538085938,
          904.1305541992188,
          870.7466430664062,
          789.3192138671875,
          755.2877807617188,
          765.5814819335938,
          759.5382080078125,
          768.18017578125,
          776.5858154296875,
          771.5501098632812,
          785.3423461914062,
          794.4910278320312,
          794.0075073242188,
          794.893798828125,
          795.6455688476562,
          804.1797485351562,
          810.2710571289062,
          812.4071044921875,
          807.2978515625,
          807.6638793945312,
          809.8433227539062,
          815.513671875,
          818.9569091796875,
          818.4138793945312,
          821.6530151367188,
          833.585693359375,
          832.5895385742188,
          838.3636474609375,
          835.2705078125,
          836.6218872070312,
          831.9511108398438,
          832.309814453125,
          null,
          null,
          null,
          null,
          null,
          null,
          null,
          null,
          null,
          null,
          null,
          null,
          null,
          null,
          null,
          null,
          null,
          null,
          null,
          null,
          null,
          null,
          null,
          null,
          null,
          null,
          null,
          null,
          null,
          null,
          null,
          null,
          null,
          null,
          null,
          null,
          null,
          null,
          null,
          null,
          null,
          null,
          null,
          null,
          null,
          null,
          null,
          null,
          null,
          null,
          null,
          null,
          null,
          null,
          null,
          null,
          null,
          null,
          null,
          null,
          null,
          null,
          null,
          null,
          null,
          null,
          null,
          null,
          null,
          null,
          null,
          null,
          null,
          null,
          null,
          null,
          null,
          null,
          null,
          null,
          null,
          null,
          null,
          null,
          null,
          null,
          null,
          null,
          null,
          null,
          null,
          null,
          null,
          null,
          null,
          null,
          null,
          null,
          null,
          null,
          null,
          null,
          null,
          null,
          null,
          null,
          null,
          null,
          null,
          null,
          null,
          null
         ]
        },
        {
         "mode": "lines",
         "name": "Test Predictions (CNN)",
         "type": "scatter",
         "y": [
          null,
          null,
          null,
          null,
          null,
          null,
          null,
          null,
          null,
          null,
          null,
          null,
          null,
          null,
          null,
          null,
          null,
          null,
          null,
          null,
          null,
          null,
          null,
          null,
          null,
          null,
          null,
          null,
          null,
          null,
          null,
          null,
          null,
          null,
          null,
          null,
          null,
          null,
          null,
          null,
          null,
          null,
          null,
          null,
          null,
          null,
          null,
          null,
          null,
          null,
          null,
          null,
          null,
          null,
          null,
          null,
          null,
          null,
          null,
          null,
          null,
          null,
          null,
          null,
          null,
          null,
          null,
          null,
          null,
          null,
          null,
          null,
          null,
          null,
          null,
          null,
          null,
          null,
          null,
          null,
          null,
          null,
          null,
          null,
          null,
          null,
          null,
          null,
          null,
          null,
          null,
          null,
          null,
          null,
          null,
          null,
          null,
          null,
          null,
          null,
          null,
          null,
          null,
          null,
          null,
          null,
          null,
          null,
          null,
          null,
          null,
          null,
          null,
          null,
          null,
          null,
          null,
          null,
          null,
          null,
          null,
          null,
          null,
          null,
          null,
          null,
          null,
          null,
          null,
          null,
          null,
          null,
          null,
          null,
          null,
          null,
          null,
          null,
          null,
          null,
          null,
          null,
          null,
          null,
          null,
          null,
          null,
          null,
          null,
          null,
          null,
          null,
          null,
          null,
          null,
          null,
          null,
          null,
          null,
          null,
          null,
          null,
          null,
          null,
          null,
          null,
          null,
          null,
          null,
          null,
          null,
          null,
          null,
          null,
          null,
          null,
          null,
          null,
          null,
          null,
          null,
          null,
          null,
          null,
          null,
          null,
          null,
          null,
          null,
          null,
          null,
          null,
          null,
          null,
          null,
          null,
          null,
          null,
          null,
          null,
          null,
          null,
          null,
          null,
          null,
          null,
          null,
          null,
          null,
          null,
          null,
          null,
          null,
          null,
          null,
          null,
          null,
          null,
          null,
          null,
          null,
          null,
          null,
          null,
          null,
          null,
          null,
          null,
          null,
          null,
          null,
          null,
          null,
          null,
          null,
          null,
          null,
          null,
          null,
          null,
          null,
          null,
          null,
          null,
          null,
          null,
          null,
          null,
          null,
          null,
          null,
          null,
          null,
          null,
          null,
          null,
          null,
          null,
          830.9431762695312,
          833.3534545898438,
          837.2284545898438,
          844.0370483398438,
          845.2652587890625,
          835.487548828125,
          840.9520263671875,
          845.98779296875,
          845.3882446289062,
          845.4395751953125,
          851.066650390625,
          856.3988037109375,
          854.9737548828125,
          851.3079833984375,
          812.6189575195312,
          862.4285278320312,
          864.926025390625,
          957.6871948242188,
          905.98828125,
          831.8561401367188,
          864.3125610351562,
          830.08203125,
          813.5824584960938,
          832.0478515625,
          821.2764282226562,
          826.5389404296875,
          833.7767333984375,
          836.421630859375,
          836.9306030273438,
          844.7534790039062,
          852.1531372070312,
          851.4359130859375,
          841.1006469726562,
          832.907470703125,
          835.2135009765625,
          837.2947998046875,
          841.6428833007812,
          846.8172607421875,
          852.0398559570312,
          853.5850830078125,
          849.9400634765625,
          839.2509155273438,
          850.4568481445312,
          849.86474609375,
          864.431640625,
          850.0216674804688,
          845.1954345703125,
          857.81982421875,
          868.2177124023438,
          864.8436279296875,
          852.4259033203125,
          855.2647705078125,
          857.529052734375,
          863.0471801757812,
          867.4859619140625,
          852.8942260742188,
          745.2463989257812,
          767.2554321289062,
          800.6761474609375,
          793.1272583007812,
          840.4046020507812,
          863.8610229492188,
          882.0545654296875,
          866.9490356445312,
          844.54345703125,
          866.1806640625,
          862.937255859375,
          863.7890625,
          865.0335083007812,
          858.5989990234375,
          851.883056640625,
          858.9286499023438,
          872.2535400390625,
          870.4602661132812,
          863.345703125,
          865.7662963867188,
          862.7410278320312,
          854.8379516601562,
          857.6001586914062,
          862.5345458984375,
          862.4690551757812,
          892.7645263671875,
          871.4454956054688,
          765.9681396484375,
          721.1201171875,
          728.7293090820312,
          758.8949584960938,
          718.7252807617188,
          739.615234375,
          763.546875,
          770.9750366210938,
          793.8767700195312,
          808.2127075195312,
          816.0227661132812,
          811.6109619140625,
          819.2686767578125,
          824.8455810546875,
          825.6257934570312,
          821.915771484375,
          820.9470825195312,
          823.4021606445312,
          825.06982421875,
          831.1375122070312,
          835.8047485351562,
          null,
          null
         ]
        }
       ],
       "layout": {
        "template": {
         "data": {
          "bar": [
           {
            "error_x": {
             "color": "#2a3f5f"
            },
            "error_y": {
             "color": "#2a3f5f"
            },
            "marker": {
             "line": {
              "color": "#E5ECF6",
              "width": 0.5
             },
             "pattern": {
              "fillmode": "overlay",
              "size": 10,
              "solidity": 0.2
             }
            },
            "type": "bar"
           }
          ],
          "barpolar": [
           {
            "marker": {
             "line": {
              "color": "#E5ECF6",
              "width": 0.5
             },
             "pattern": {
              "fillmode": "overlay",
              "size": 10,
              "solidity": 0.2
             }
            },
            "type": "barpolar"
           }
          ],
          "carpet": [
           {
            "aaxis": {
             "endlinecolor": "#2a3f5f",
             "gridcolor": "white",
             "linecolor": "white",
             "minorgridcolor": "white",
             "startlinecolor": "#2a3f5f"
            },
            "baxis": {
             "endlinecolor": "#2a3f5f",
             "gridcolor": "white",
             "linecolor": "white",
             "minorgridcolor": "white",
             "startlinecolor": "#2a3f5f"
            },
            "type": "carpet"
           }
          ],
          "choropleth": [
           {
            "colorbar": {
             "outlinewidth": 0,
             "ticks": ""
            },
            "type": "choropleth"
           }
          ],
          "contour": [
           {
            "colorbar": {
             "outlinewidth": 0,
             "ticks": ""
            },
            "colorscale": [
             [
              0,
              "#0d0887"
             ],
             [
              0.1111111111111111,
              "#46039f"
             ],
             [
              0.2222222222222222,
              "#7201a8"
             ],
             [
              0.3333333333333333,
              "#9c179e"
             ],
             [
              0.4444444444444444,
              "#bd3786"
             ],
             [
              0.5555555555555556,
              "#d8576b"
             ],
             [
              0.6666666666666666,
              "#ed7953"
             ],
             [
              0.7777777777777778,
              "#fb9f3a"
             ],
             [
              0.8888888888888888,
              "#fdca26"
             ],
             [
              1,
              "#f0f921"
             ]
            ],
            "type": "contour"
           }
          ],
          "contourcarpet": [
           {
            "colorbar": {
             "outlinewidth": 0,
             "ticks": ""
            },
            "type": "contourcarpet"
           }
          ],
          "heatmap": [
           {
            "colorbar": {
             "outlinewidth": 0,
             "ticks": ""
            },
            "colorscale": [
             [
              0,
              "#0d0887"
             ],
             [
              0.1111111111111111,
              "#46039f"
             ],
             [
              0.2222222222222222,
              "#7201a8"
             ],
             [
              0.3333333333333333,
              "#9c179e"
             ],
             [
              0.4444444444444444,
              "#bd3786"
             ],
             [
              0.5555555555555556,
              "#d8576b"
             ],
             [
              0.6666666666666666,
              "#ed7953"
             ],
             [
              0.7777777777777778,
              "#fb9f3a"
             ],
             [
              0.8888888888888888,
              "#fdca26"
             ],
             [
              1,
              "#f0f921"
             ]
            ],
            "type": "heatmap"
           }
          ],
          "heatmapgl": [
           {
            "colorbar": {
             "outlinewidth": 0,
             "ticks": ""
            },
            "colorscale": [
             [
              0,
              "#0d0887"
             ],
             [
              0.1111111111111111,
              "#46039f"
             ],
             [
              0.2222222222222222,
              "#7201a8"
             ],
             [
              0.3333333333333333,
              "#9c179e"
             ],
             [
              0.4444444444444444,
              "#bd3786"
             ],
             [
              0.5555555555555556,
              "#d8576b"
             ],
             [
              0.6666666666666666,
              "#ed7953"
             ],
             [
              0.7777777777777778,
              "#fb9f3a"
             ],
             [
              0.8888888888888888,
              "#fdca26"
             ],
             [
              1,
              "#f0f921"
             ]
            ],
            "type": "heatmapgl"
           }
          ],
          "histogram": [
           {
            "marker": {
             "pattern": {
              "fillmode": "overlay",
              "size": 10,
              "solidity": 0.2
             }
            },
            "type": "histogram"
           }
          ],
          "histogram2d": [
           {
            "colorbar": {
             "outlinewidth": 0,
             "ticks": ""
            },
            "colorscale": [
             [
              0,
              "#0d0887"
             ],
             [
              0.1111111111111111,
              "#46039f"
             ],
             [
              0.2222222222222222,
              "#7201a8"
             ],
             [
              0.3333333333333333,
              "#9c179e"
             ],
             [
              0.4444444444444444,
              "#bd3786"
             ],
             [
              0.5555555555555556,
              "#d8576b"
             ],
             [
              0.6666666666666666,
              "#ed7953"
             ],
             [
              0.7777777777777778,
              "#fb9f3a"
             ],
             [
              0.8888888888888888,
              "#fdca26"
             ],
             [
              1,
              "#f0f921"
             ]
            ],
            "type": "histogram2d"
           }
          ],
          "histogram2dcontour": [
           {
            "colorbar": {
             "outlinewidth": 0,
             "ticks": ""
            },
            "colorscale": [
             [
              0,
              "#0d0887"
             ],
             [
              0.1111111111111111,
              "#46039f"
             ],
             [
              0.2222222222222222,
              "#7201a8"
             ],
             [
              0.3333333333333333,
              "#9c179e"
             ],
             [
              0.4444444444444444,
              "#bd3786"
             ],
             [
              0.5555555555555556,
              "#d8576b"
             ],
             [
              0.6666666666666666,
              "#ed7953"
             ],
             [
              0.7777777777777778,
              "#fb9f3a"
             ],
             [
              0.8888888888888888,
              "#fdca26"
             ],
             [
              1,
              "#f0f921"
             ]
            ],
            "type": "histogram2dcontour"
           }
          ],
          "mesh3d": [
           {
            "colorbar": {
             "outlinewidth": 0,
             "ticks": ""
            },
            "type": "mesh3d"
           }
          ],
          "parcoords": [
           {
            "line": {
             "colorbar": {
              "outlinewidth": 0,
              "ticks": ""
             }
            },
            "type": "parcoords"
           }
          ],
          "pie": [
           {
            "automargin": true,
            "type": "pie"
           }
          ],
          "scatter": [
           {
            "fillpattern": {
             "fillmode": "overlay",
             "size": 10,
             "solidity": 0.2
            },
            "type": "scatter"
           }
          ],
          "scatter3d": [
           {
            "line": {
             "colorbar": {
              "outlinewidth": 0,
              "ticks": ""
             }
            },
            "marker": {
             "colorbar": {
              "outlinewidth": 0,
              "ticks": ""
             }
            },
            "type": "scatter3d"
           }
          ],
          "scattercarpet": [
           {
            "marker": {
             "colorbar": {
              "outlinewidth": 0,
              "ticks": ""
             }
            },
            "type": "scattercarpet"
           }
          ],
          "scattergeo": [
           {
            "marker": {
             "colorbar": {
              "outlinewidth": 0,
              "ticks": ""
             }
            },
            "type": "scattergeo"
           }
          ],
          "scattergl": [
           {
            "marker": {
             "colorbar": {
              "outlinewidth": 0,
              "ticks": ""
             }
            },
            "type": "scattergl"
           }
          ],
          "scattermapbox": [
           {
            "marker": {
             "colorbar": {
              "outlinewidth": 0,
              "ticks": ""
             }
            },
            "type": "scattermapbox"
           }
          ],
          "scatterpolar": [
           {
            "marker": {
             "colorbar": {
              "outlinewidth": 0,
              "ticks": ""
             }
            },
            "type": "scatterpolar"
           }
          ],
          "scatterpolargl": [
           {
            "marker": {
             "colorbar": {
              "outlinewidth": 0,
              "ticks": ""
             }
            },
            "type": "scatterpolargl"
           }
          ],
          "scatterternary": [
           {
            "marker": {
             "colorbar": {
              "outlinewidth": 0,
              "ticks": ""
             }
            },
            "type": "scatterternary"
           }
          ],
          "surface": [
           {
            "colorbar": {
             "outlinewidth": 0,
             "ticks": ""
            },
            "colorscale": [
             [
              0,
              "#0d0887"
             ],
             [
              0.1111111111111111,
              "#46039f"
             ],
             [
              0.2222222222222222,
              "#7201a8"
             ],
             [
              0.3333333333333333,
              "#9c179e"
             ],
             [
              0.4444444444444444,
              "#bd3786"
             ],
             [
              0.5555555555555556,
              "#d8576b"
             ],
             [
              0.6666666666666666,
              "#ed7953"
             ],
             [
              0.7777777777777778,
              "#fb9f3a"
             ],
             [
              0.8888888888888888,
              "#fdca26"
             ],
             [
              1,
              "#f0f921"
             ]
            ],
            "type": "surface"
           }
          ],
          "table": [
           {
            "cells": {
             "fill": {
              "color": "#EBF0F8"
             },
             "line": {
              "color": "white"
             }
            },
            "header": {
             "fill": {
              "color": "#C8D4E3"
             },
             "line": {
              "color": "white"
             }
            },
            "type": "table"
           }
          ]
         },
         "layout": {
          "annotationdefaults": {
           "arrowcolor": "#2a3f5f",
           "arrowhead": 0,
           "arrowwidth": 1
          },
          "autotypenumbers": "strict",
          "coloraxis": {
           "colorbar": {
            "outlinewidth": 0,
            "ticks": ""
           }
          },
          "colorscale": {
           "diverging": [
            [
             0,
             "#8e0152"
            ],
            [
             0.1,
             "#c51b7d"
            ],
            [
             0.2,
             "#de77ae"
            ],
            [
             0.3,
             "#f1b6da"
            ],
            [
             0.4,
             "#fde0ef"
            ],
            [
             0.5,
             "#f7f7f7"
            ],
            [
             0.6,
             "#e6f5d0"
            ],
            [
             0.7,
             "#b8e186"
            ],
            [
             0.8,
             "#7fbc41"
            ],
            [
             0.9,
             "#4d9221"
            ],
            [
             1,
             "#276419"
            ]
           ],
           "sequential": [
            [
             0,
             "#0d0887"
            ],
            [
             0.1111111111111111,
             "#46039f"
            ],
            [
             0.2222222222222222,
             "#7201a8"
            ],
            [
             0.3333333333333333,
             "#9c179e"
            ],
            [
             0.4444444444444444,
             "#bd3786"
            ],
            [
             0.5555555555555556,
             "#d8576b"
            ],
            [
             0.6666666666666666,
             "#ed7953"
            ],
            [
             0.7777777777777778,
             "#fb9f3a"
            ],
            [
             0.8888888888888888,
             "#fdca26"
            ],
            [
             1,
             "#f0f921"
            ]
           ],
           "sequentialminus": [
            [
             0,
             "#0d0887"
            ],
            [
             0.1111111111111111,
             "#46039f"
            ],
            [
             0.2222222222222222,
             "#7201a8"
            ],
            [
             0.3333333333333333,
             "#9c179e"
            ],
            [
             0.4444444444444444,
             "#bd3786"
            ],
            [
             0.5555555555555556,
             "#d8576b"
            ],
            [
             0.6666666666666666,
             "#ed7953"
            ],
            [
             0.7777777777777778,
             "#fb9f3a"
            ],
            [
             0.8888888888888888,
             "#fdca26"
            ],
            [
             1,
             "#f0f921"
            ]
           ]
          },
          "colorway": [
           "#636efa",
           "#EF553B",
           "#00cc96",
           "#ab63fa",
           "#FFA15A",
           "#19d3f3",
           "#FF6692",
           "#B6E880",
           "#FF97FF",
           "#FECB52"
          ],
          "font": {
           "color": "#2a3f5f"
          },
          "geo": {
           "bgcolor": "white",
           "lakecolor": "white",
           "landcolor": "#E5ECF6",
           "showlakes": true,
           "showland": true,
           "subunitcolor": "white"
          },
          "hoverlabel": {
           "align": "left"
          },
          "hovermode": "closest",
          "mapbox": {
           "style": "light"
          },
          "paper_bgcolor": "white",
          "plot_bgcolor": "#E5ECF6",
          "polar": {
           "angularaxis": {
            "gridcolor": "white",
            "linecolor": "white",
            "ticks": ""
           },
           "bgcolor": "#E5ECF6",
           "radialaxis": {
            "gridcolor": "white",
            "linecolor": "white",
            "ticks": ""
           }
          },
          "scene": {
           "xaxis": {
            "backgroundcolor": "#E5ECF6",
            "gridcolor": "white",
            "gridwidth": 2,
            "linecolor": "white",
            "showbackground": true,
            "ticks": "",
            "zerolinecolor": "white"
           },
           "yaxis": {
            "backgroundcolor": "#E5ECF6",
            "gridcolor": "white",
            "gridwidth": 2,
            "linecolor": "white",
            "showbackground": true,
            "ticks": "",
            "zerolinecolor": "white"
           },
           "zaxis": {
            "backgroundcolor": "#E5ECF6",
            "gridcolor": "white",
            "gridwidth": 2,
            "linecolor": "white",
            "showbackground": true,
            "ticks": "",
            "zerolinecolor": "white"
           }
          },
          "shapedefaults": {
           "line": {
            "color": "#2a3f5f"
           }
          },
          "ternary": {
           "aaxis": {
            "gridcolor": "white",
            "linecolor": "white",
            "ticks": ""
           },
           "baxis": {
            "gridcolor": "white",
            "linecolor": "white",
            "ticks": ""
           },
           "bgcolor": "#E5ECF6",
           "caxis": {
            "gridcolor": "white",
            "linecolor": "white",
            "ticks": ""
           }
          },
          "title": {
           "x": 0.05
          },
          "xaxis": {
           "automargin": true,
           "gridcolor": "white",
           "linecolor": "white",
           "ticks": "",
           "title": {
            "standoff": 15
           },
           "zerolinecolor": "white",
           "zerolinewidth": 2
          },
          "yaxis": {
           "automargin": true,
           "gridcolor": "white",
           "linecolor": "white",
           "ticks": "",
           "title": {
            "standoff": 15
           },
           "zerolinecolor": "white",
           "zerolinewidth": 2
          }
         }
        },
        "title": {
         "text": "LSTM vs CNN Predictions vs Actual Data for Middle Point"
        },
        "xaxis": {
         "ticktext": [
          2015,
          2016,
          2017,
          2018,
          2019,
          2020,
          2021,
          2022,
          2023,
          2024
         ],
         "tickvals": [
          0,
          13,
          48,
          95,
          143,
          191,
          246,
          299,
          326,
          354
         ],
         "title": {
          "text": "Time"
         }
        },
        "yaxis": {
         "title": {
          "text": "Velocity"
         }
        }
       }
      }
     },
     "metadata": {},
     "output_type": "display_data"
    }
   ],
   "source": [
    "# Print RMSE scores for both models\n",
    "print('LSTM Train Score: %.2f RMSE' % (trainScore_lstm))\n",
    "print('LSTM Test Score: %.2f RMSE' % (testScore_lstm))\n",
    "print('CNN Train Score: %.2f RMSE' % (trainScore_cnn))\n",
    "print('CNN Test Score: %.2f RMSE' % (testScore_cnn))\n",
    "\n",
    "# Plot predictions of both models\n",
    "fig_comparison = go.Figure()\n",
    "fig_comparison.add_trace(go.Scatter(y=scaler.inverse_transform(dataset).flatten(), mode='lines', name='Actual Data'))\n",
    "fig_comparison.add_trace(go.Scatter(y=trainPredictPlot_lstm.flatten(), mode='lines', name='Train Predictions (LSTM)'))\n",
    "fig_comparison.add_trace(go.Scatter(y=testPredictPlot_lstm.flatten(), mode='lines', name='Test Predictions (LSTM)'))\n",
    "fig_comparison.add_trace(go.Scatter(y=trainPredictPlot_cnn.flatten(), mode='lines', name='Train Predictions (CNN)'))\n",
    "fig_comparison.add_trace(go.Scatter(y=testPredictPlot_cnn.flatten(), mode='lines', name='Test Predictions (CNN)'))\n",
    "\n",
    "# Update layout for dark theme\n",
    "fig_comparison.update_layout(title='LSTM vs CNN Predictions vs Actual Data for ' + point_name.capitalize() + ' Point', xaxis_title='Time', yaxis_title='Velocity')\n",
    "# Update x-axis to show only one tick per year\n",
    "fig_comparison.update_xaxes(tickvals=[df.index[years == year][0] for year in unique_years], ticktext=unique_years)\n",
    "fig_comparison.show()"
   ]
  },
  {
   "cell_type": "markdown",
   "metadata": {},
   "source": [
    "### 6. Rolling Average Seasonality\n",
    "\n",
    "The predictions are difficult to visually interpret. Let's see how well the two models capture seasonal changes in a 12 month rolling average plot."
   ]
  },
  {
   "cell_type": "code",
   "execution_count": 18,
   "metadata": {},
   "outputs": [
    {
     "data": {
      "application/vnd.plotly.v1+json": {
       "config": {
        "plotlyServerURL": "https://plot.ly"
       },
       "data": [
        {
         "mode": "lines",
         "name": "Actual Data (12-month rolling)",
         "type": "scatter",
         "y": [
          null,
          null,
          null,
          null,
          null,
          null,
          null,
          null,
          null,
          null,
          null,
          749.6921933333333,
          752.0493566666665,
          757.4336491666667,
          757.2639241666666,
          760.7629583333332,
          765.67404,
          764.2638191666666,
          762.0811491666667,
          765.0936616666667,
          772.3333208333333,
          771.6306641666666,
          777.1329225000001,
          778.3621641666667,
          777.081585,
          773.8133866666667,
          779.3794033333334,
          788.5261583333335,
          798.7373216666666,
          812.2862258333333,
          810.2169291666668,
          808.4914291666668,
          806.2518658333333,
          805.9126866666667,
          802.4809650000001,
          798.5693116666666,
          794.0158575,
          797.2440325000001,
          793.4435991666668,
          783.5830783333332,
          776.4271783333334,
          764.3710158333333,
          776.1399241666667,
          778.4734658333333,
          780.0154825000001,
          786.2093116666666,
          787.5975641666665,
          790.0362133333333,
          796.4294858333333,
          790.3734858333332,
          791.5084941666665,
          790.3509116666668,
          784.8404616666667,
          782.65377,
          772.10642,
          769.5155283333334,
          772.6821199999999,
          765.9553824999999,
          769.7811825,
          771.4584083333334,
          769.6754108333333,
          773.3009758333334,
          776.0042175,
          780.4903166666667,
          781.7177308333333,
          786.0027516666665,
          787.0229350000001,
          792.264485,
          797.6236316666667,
          799.5979066666667,
          798.5241533333333,
          799.5106983333334,
          802.5759983333334,
          801.25852,
          797.5755758333333,
          798.081125,
          802.4683108333334,
          797.1404025,
          813.9117749999999,
          813.4943633333332,
          811.35125,
          816.3776883333334,
          822.2151083333333,
          818.4429333333333,
          813.7767833333334,
          818.2962625,
          820.3777733333335,
          814.0777866666667,
          814.1279783333333,
          820.2588700000001,
          806.4625058333335,
          809.7205925,
          805.6868508333333,
          803.2718875,
          800.2879958333334,
          806.4651816666668,
          809.9492483333333,
          811.2427524999999,
          814.4880191666666,
          823.3616808333333,
          821.808275,
          832.2124749999999,
          836.0710166666667,
          830.1662,
          836.0969749999999,
          833.5978416666667,
          829.253075,
          829.8604141666666,
          830.0733891666665,
          833.0784183333334,
          834.861555,
          834.1572141666667,
          835.0146283333333,
          826.5527483333334,
          830.1741316666667,
          842.2314316666666,
          828.9754233333333,
          824.8770733333332,
          831.5612233333333,
          842.2839524999999,
          848.2740158333335,
          845.238625,
          843.1924666666667,
          841.9855791666665,
          842.7924008333333,
          841.4988558333333,
          835.0843391666667,
          828.2427975,
          839.0011925,
          848.9091983333334,
          850.48711,
          840.9776591666667,
          835.7078741666666,
          831.9641108333334,
          833.2390075,
          834.6089658333334,
          832.8687416666667,
          834.439875,
          836.0213749999999,
          836.159075,
          837.0877133333333,
          836.2852691666667,
          833.2231991666667,
          832.67811,
          834.1446733333333,
          838.7525816666666,
          839.2608816666666,
          841.1527983333334,
          845.5304591666667,
          845.8139175,
          845.2328383333333,
          844.3692491666666,
          843.8417491666668,
          842.9850958333333,
          843.6626291666666,
          844.6374650000001,
          844.7599733333333,
          846.0476941666667,
          845.6599900000001,
          845.3372983333333,
          843.8351983333333,
          842.1695533333333,
          841.8390525,
          843.1283416666666,
          843.7454783333333,
          845.0694533333332,
          844.6926783333333,
          835.8811824999999,
          833.7222741666666,
          841.669265,
          828.2292833333332,
          817.3325024999999,
          809.0981441666667,
          792.0536558333333,
          788.0454316666668,
          783.7380200000001,
          779.8384891666666,
          774.7324141666668,
          770.8192774999999,
          776.0084983333333,
          775.1424933333334,
          765.1374275,
          775.8951683333333,
          782.4640325,
          788.1050325000001,
          803.6192266666667,
          805.7563808333333,
          806.8608224999999,
          809.6013875,
          813.5998,
          816.3444783333333,
          818.8832699999999,
          822.1425333333333,
          822.3241483333333,
          824.203335,
          826.0678308333332,
          826.2078033333332,
          828.4860258333333,
          831.0657141666667,
          832.8731258333332,
          833.2244883333333,
          833.2246716666667,
          833.9656133333334,
          833.7202666666667,
          833.0134374999999,
          834.314535,
          836.2583316666668,
          837.7349775000001,
          842.3432300000001,
          843.249905,
          843.8769166666666,
          845.7351666666667,
          847.8037716666668,
          852.5606633333333,
          854.0900466666666,
          857.301435,
          860.9400808333334,
          857.6907474999999,
          857.4147966666666,
          865.4945299999999,
          873.5545766666665,
          884.2206266666667,
          888.5889516666666,
          882.4136466666668,
          874.261175,
          861.2284458333334,
          854.9478424999999,
          847.6519208333334,
          838.8310458333334,
          837.3015750000001,
          831.9088750000001,
          818.9578083333334,
          804.120895,
          788.36247,
          780.9246083333334,
          782.0736758333334,
          785.5603341666666,
          791.5126341666665,
          793.7943708333333,
          795.4011925,
          798.9423508333333,
          801.6101516666666,
          803.9987558333332,
          806.7650474999999,
          812.2763141666668,
          815.2330141666666,
          815.6853508333334,
          819.5323516666666,
          821.2498566666667,
          823.0031816666666,
          825.6359708333333,
          826.7320208333332,
          827.19935,
          829.2890366666667,
          830.63512,
          830.0576283333334,
          828.64902,
          828.9081116666666,
          829.9188233333333,
          830.30426,
          829.8362716666667,
          831.4447966666667,
          831.5222858333333,
          833.3961808333333,
          835.4642041666667,
          835.2389541666666,
          836.6925041666667,
          839.7685600000001,
          837.7190933333333,
          839.3714983333334,
          844.0578116666667,
          845.2016616666666,
          837.7460616666667,
          840.8087983333335,
          849.5694591666667,
          859.6636475,
          866.29102,
          871.5123225000001,
          879.1940725,
          880.4885974999999,
          881.0965941666667,
          880.3535808333332,
          875.4310916666667,
          872.9035700000001,
          882.1838833333333,
          878.8007383333332,
          869.5093325000001,
          861.0455408333333,
          851.9997075,
          846.46368,
          836.8082300000001,
          833.8123408333335,
          835.8394525,
          836.8984775,
          839.1802466666667,
          841.6143516666666,
          840.6251550000001,
          840.5319250000001,
          841.4995949999999,
          840.0593033333333,
          844.2760325,
          843.1651383333333,
          845.9156433333333,
          849.5259474999999,
          852.2069558333333,
          851.8347141666667,
          852.2534841666667,
          852.6303591666666,
          855.2071258333334,
          856.9898108333333,
          858.5260958333333,
          861.8988208333334,
          865.4775974999999,
          875.5544166666667,
          871.0794283333333,
          867.6776075000001,
          867.7364491666667,
          871.7904574999999,
          874.0819124999999,
          872.3175208333333,
          873.4484208333333,
          873.3380908333334,
          873.4114658333333,
          874.3579033333334,
          868.9596891666666,
          858.6875391666666,
          864.1670841666668,
          867.7471891666668,
          866.3570974999999,
          863.6808808333334,
          863.6758925,
          865.7301291666666,
          862.9706791666666,
          862.6127825,
          860.7885633333334,
          858.7628624999999,
          861.4751583333333,
          865.8075416666667,
          861.2426666666667,
          863.1244116666667,
          871.2159700000001,
          866.4143408333334,
          852.9766324999999,
          840.2938791666667,
          831.3371433333333,
          822.4061691666666,
          814.6181833333334,
          809.2374466666666,
          802.9945625,
          795.4021375000001,
          795.2646175,
          788.8605841666666,
          777.7114925,
          778.577105,
          786.4811916666667,
          795.1864583333332,
          802.2172525,
          807.6634983333333,
          814.3251366666667,
          816.4750033333333,
          819.4941833333334,
          823.5992833333333,
          825.6739249999999,
          828.6212833333334
         ]
        },
        {
         "mode": "lines",
         "name": "Train Predictions (LSTM, 12-month rolling)",
         "type": "scatter",
         "y": [
          null,
          null,
          null,
          null,
          null,
          null,
          null,
          null,
          null,
          null,
          null,
          null,
          null,
          null,
          null,
          null,
          790.1355336507162,
          791.5618998209635,
          792.8189036051432,
          793.3494110107422,
          793.6446482340494,
          794.5988566080729,
          795.9338124593099,
          797.5767923990885,
          799.0154368082682,
          800.2285207112631,
          800.1829884847006,
          800.6263631184896,
          802.0489501953125,
          805.1387074788412,
          809.652109781901,
          803.8938039143881,
          798.4825439453125,
          796.9110666910807,
          795.3233388264974,
          794.3824361165365,
          793.2899475097656,
          791.6746622721354,
          790.6192321777344,
          789.4905548095703,
          787.7139333089193,
          784.6687418619791,
          780.7495981852213,
          788.2571767171224,
          794.6963551839193,
          798.4132334391276,
          800.8922526041666,
          801.5266571044922,
          802.9740041097006,
          804.3417104085287,
          805.0509389241537,
          805.5012919108073,
          804.8560282389323,
          804.2510375976562,
          802.894053141276,
          800.6665242513021,
          799.0032958984375,
          796.5257212320963,
          795.4726053873698,
          795.9995778401693,
          795.7144775390625,
          796.3458709716797,
          796.8229014078776,
          797.8371378580729,
          799.5401865641276,
          800.8041788736979,
          802.4844106038412,
          803.6889394124349,
          805.4931894938151,
          807.4007517496744,
          808.9379119873047,
          810.4653981526693,
          811.0803934733073,
          812.5933481852213,
          812.9181874593099,
          812.7274068196615,
          812.2474873860677,
          812.6251881917318,
          812.1540222167969,
          813.9927622477213,
          812.7395426432291,
          814.9573822021484,
          813.6843414306641,
          807.2797800699869,
          806.9045155843099,
          807.8685963948568,
          808.4937591552734,
          808.4805653889974,
          808.2606862386068,
          807.5551350911459,
          808.0653940836588,
          806.7717437744141,
          808.6275177001953,
          806.3350524902344,
          808.921620686849,
          815.4861195882162,
          817.472666422526,
          816.2145538330078,
          817.4332529703776,
          819.3560231526693,
          822.2347869873047,
          823.8921966552734,
          828.5194905598959,
          827.7337493896484,
          831.0943806966146,
          835.2887064615885,
          830.9623413085938,
          831.0690765380859,
          829.6067454020182,
          829.5375366210938,
          829.2320607503256,
          829.0928700764974,
          829.9641774495443,
          830.7460683186849,
          830.960459391276,
          836.2668253580729,
          836.6232604980469,
          826.5202331542969,
          829.2006479899088,
          836.7330830891927,
          841.1295166015625,
          842.3486073811849,
          844.4951833089193,
          840.9907989501953,
          835.3284556070963,
          838.0200805664062,
          834.8833618164062,
          831.8736012776693,
          829.4407246907552,
          836.7490692138672,
          839.5640055338541,
          834.1599426269531,
          832.5110880533854,
          834.1767832438151,
          831.923817952474,
          838.6202290852865,
          843.0396067301432,
          839.5525054931641,
          839.3770599365234,
          839.7571360270182,
          840.3633219401041,
          840.6882629394531,
          841.4346822102865,
          841.4815165201823,
          841.9206136067709,
          841.4836069742838,
          843.3372701009115,
          841.9833628336588,
          843.866933186849,
          846.4245147705078,
          848.6116231282552,
          850.5124003092448,
          852.4036254882812,
          854.4633839925131,
          853.8949330647787,
          853.6192881266276,
          853.1025085449219,
          852.8720092773438,
          853.4467569986979,
          853.4860382080078,
          854.7839813232422,
          853.9688415527344,
          854.2988586425781,
          853.5332743326823,
          852.9014994303385,
          851.4414774576823,
          851.5017801920573,
          851.4045155843099,
          848.6470591227213,
          848.3091023763021,
          849.2173767089844,
          840.0660349527994,
          835.2979075113932,
          819.7058054606119,
          810.0112762451172,
          803.2492472330729,
          796.064442952474,
          791.4664052327474,
          787.6104939778646,
          784.5953318277994,
          784.7428334554037,
          782.2075144449869,
          778.3875732421875,
          784.8088175455729,
          785.6360727945963,
          799.1681111653646,
          805.7583567301432,
          809.9842478434244,
          813.9268544514974,
          816.7571207682291,
          818.8985443115234,
          820.5099945068359,
          822.3111877441406,
          824.6451212565104,
          826.3020935058594,
          828.3398132324219,
          829.8147125244141,
          831.2671051025391,
          832.6066385904948,
          833.8740386962891,
          835.1816253662109,
          836.2081553141276,
          837.5281575520834,
          838.8195037841797,
          839.2850850423177,
          839.4646301269531,
          840.0406748453776,
          840.6003774007162,
          841.1805318196615,
          843.5043996175131,
          844.1220397949219,
          847.7188008626302,
          849.6118876139323,
          853.5397288004557,
          856.9144236246744,
          856.6783955891927,
          862.2050526936849,
          862.9080352783203,
          862.6161753336588,
          866.3354034423828,
          872.0412241617838,
          874.5541025797526,
          880.3274943033854,
          870.2601623535156,
          860.6013844807943,
          849.3805999755859,
          840.0572713216146,
          836.4716440836588,
          827.3448689778646,
          822.8778483072916,
          819.5184783935547,
          811.9963633219401,
          802.8834788004557,
          795.3042144775391,
          786.2232818603516,
          790.5649363199869,
          796.2233072916666,
          801.5167185465494,
          805.0217997233073,
          806.5891418457031,
          808.2594807942709,
          810.0034637451172,
          811.6869099934896,
          813.2162679036459,
          814.767832438151,
          817.1800994873047,
          818.9258219401041,
          820.966298421224,
          823.1340637207031,
          825.1758575439453,
          826.9881184895834,
          828.4258219401041,
          null,
          null,
          null,
          null,
          null,
          null,
          null,
          null,
          null,
          null,
          null,
          null,
          null,
          null,
          null,
          null,
          null,
          null,
          null,
          null,
          null,
          null,
          null,
          null,
          null,
          null,
          null,
          null,
          null,
          null,
          null,
          null,
          null,
          null,
          null,
          null,
          null,
          null,
          null,
          null,
          null,
          null,
          null,
          null,
          null,
          null,
          null,
          null,
          null,
          null,
          null,
          null,
          null,
          null,
          null,
          null,
          null,
          null,
          null,
          null,
          null,
          null,
          null,
          null,
          null,
          null,
          null,
          null,
          null,
          null,
          null,
          null,
          null,
          null,
          null,
          null,
          null,
          null,
          null,
          null,
          null,
          null,
          null,
          null,
          null,
          null,
          null,
          null,
          null,
          null,
          null,
          null,
          null,
          null,
          null,
          null,
          null,
          null,
          null,
          null,
          null,
          null,
          null,
          null,
          null,
          null,
          null,
          null,
          null,
          null,
          null,
          null
         ]
        },
        {
         "mode": "lines",
         "name": "Test Predictions (LSTM, 12-month rolling)",
         "type": "scatter",
         "y": [
          null,
          null,
          null,
          null,
          null,
          null,
          null,
          null,
          null,
          null,
          null,
          null,
          null,
          null,
          null,
          null,
          null,
          null,
          null,
          null,
          null,
          null,
          null,
          null,
          null,
          null,
          null,
          null,
          null,
          null,
          null,
          null,
          null,
          null,
          null,
          null,
          null,
          null,
          null,
          null,
          null,
          null,
          null,
          null,
          null,
          null,
          null,
          null,
          null,
          null,
          null,
          null,
          null,
          null,
          null,
          null,
          null,
          null,
          null,
          null,
          null,
          null,
          null,
          null,
          null,
          null,
          null,
          null,
          null,
          null,
          null,
          null,
          null,
          null,
          null,
          null,
          null,
          null,
          null,
          null,
          null,
          null,
          null,
          null,
          null,
          null,
          null,
          null,
          null,
          null,
          null,
          null,
          null,
          null,
          null,
          null,
          null,
          null,
          null,
          null,
          null,
          null,
          null,
          null,
          null,
          null,
          null,
          null,
          null,
          null,
          null,
          null,
          null,
          null,
          null,
          null,
          null,
          null,
          null,
          null,
          null,
          null,
          null,
          null,
          null,
          null,
          null,
          null,
          null,
          null,
          null,
          null,
          null,
          null,
          null,
          null,
          null,
          null,
          null,
          null,
          null,
          null,
          null,
          null,
          null,
          null,
          null,
          null,
          null,
          null,
          null,
          null,
          null,
          null,
          null,
          null,
          null,
          null,
          null,
          null,
          null,
          null,
          null,
          null,
          null,
          null,
          null,
          null,
          null,
          null,
          null,
          null,
          null,
          null,
          null,
          null,
          null,
          null,
          null,
          null,
          null,
          null,
          null,
          null,
          null,
          null,
          null,
          null,
          null,
          null,
          null,
          null,
          null,
          null,
          null,
          null,
          null,
          null,
          null,
          null,
          null,
          null,
          null,
          null,
          null,
          null,
          null,
          null,
          null,
          null,
          null,
          null,
          null,
          null,
          null,
          null,
          null,
          null,
          null,
          null,
          null,
          null,
          null,
          null,
          null,
          null,
          null,
          null,
          null,
          null,
          null,
          null,
          null,
          null,
          null,
          null,
          null,
          null,
          null,
          null,
          null,
          null,
          null,
          null,
          null,
          null,
          null,
          null,
          null,
          null,
          null,
          null,
          null,
          null,
          null,
          null,
          null,
          null,
          null,
          null,
          null,
          null,
          null,
          null,
          null,
          null,
          null,
          null,
          null,
          844.454355875651,
          846.5295003255209,
          847.3292948404948,
          845.5346171061198,
          848.5756581624349,
          852.2788441975912,
          854.3167622884115,
          856.4285736083984,
          854.5489908854166,
          847.9669545491537,
          841.6682078043619,
          832.4186757405599,
          829.7149912516276,
          826.5323791503906,
          827.2915496826172,
          829.3294118245443,
          826.0406799316406,
          822.5708821614584,
          820.7112274169922,
          817.6347910563151,
          820.2751871744791,
          824.8287556966146,
          831.1168263753256,
          840.0520833333334,
          841.2973073323568,
          843.1262766520182,
          842.8971964518229,
          843.8865559895834,
          846.2506256103516,
          847.4075775146484,
          847.8516693115234,
          849.8860270182291,
          847.3767598470052,
          851.0767771402994,
          851.0101725260416,
          855.1863098144531,
          855.5167694091797,
          860.0339558919271,
          861.0504760742188,
          864.8476003011068,
          864.9041188557943,
          867.0343068440756,
          870.4485524495443,
          874.6467030843099,
          882.4838714599609,
          872.4846852620443,
          864.5733184814453,
          856.6454366048177,
          858.3979848225912,
          854.6458435058594,
          853.0866088867188,
          854.0159657796224,
          850.4356384277344,
          852.5434214274088,
          851.2964833577474,
          846.0103047688802,
          842.8815663655599,
          854.9480590820312,
          864.9573720296224,
          871.0653127034506,
          870.5725860595703,
          874.5866190592448,
          876.3463694254557,
          874.9589538574219,
          880.2156066894531,
          876.9409739176432,
          877.4605255126953,
          878.9912312825521,
          878.6900482177734,
          873.6225891113281,
          877.90283203125,
          878.4615783691406,
          869.6206766764323,
          865.4179433186849,
          858.5572916666666,
          846.3875071207682,
          837.1950276692709,
          830.4054921468099,
          822.3642985026041,
          817.2523498535156,
          810.9017639160156,
          808.4608866373698,
          799.2582194010416,
          795.0096842447916,
          800.2679545084635,
          798.1783396402994,
          801.7590586344401,
          808.8453470865885,
          812.5514068603516,
          816.4330851236979,
          819.5956980387369,
          822.4882609049479,
          824.7578887939453,
          null,
          null
         ]
        },
        {
         "mode": "lines",
         "name": "Train Predictions (CNN, 12-month rolling)",
         "type": "scatter",
         "y": [
          null,
          null,
          null,
          null,
          null,
          null,
          null,
          null,
          null,
          null,
          null,
          null,
          null,
          null,
          null,
          null,
          774.4183654785156,
          776.8825073242188,
          777.0481923421224,
          779.4951426188151,
          780.9807942708334,
          780.8222249348959,
          782.4556783040365,
          784.7246449788412,
          785.6966552734375,
          786.0876108805338,
          787.0782267252604,
          789.1253509521484,
          790.7378336588541,
          796.0755564371744,
          802.0193125406901,
          798.1098276774088,
          797.2624664306641,
          796.778330485026,
          794.0496012369791,
          792.7689921061198,
          791.0153554280599,
          788.2791595458984,
          785.7979939778646,
          782.5224761962891,
          779.1525726318359,
          774.7315775553385,
          772.6035461425781,
          777.8097279866537,
          779.6492614746094,
          783.1451822916666,
          785.5347290039062,
          787.6118418375651,
          791.0386505126953,
          791.7894439697266,
          793.193593343099,
          795.5475769042969,
          792.5878702799479,
          788.5981241861979,
          784.9683176676432,
          782.2546844482422,
          780.2470397949219,
          777.4884643554688,
          778.7466125488281,
          779.0301615397135,
          777.9156901041666,
          779.9394276936849,
          780.7693023681641,
          781.5261484781901,
          786.1942850748698,
          791.9086964925131,
          796.1893463134766,
          800.0868835449219,
          803.0684356689453,
          805.7807668050131,
          807.2863159179688,
          809.7750651041666,
          809.8284352620443,
          809.6728312174479,
          810.3278147379557,
          811.6221211751302,
          810.0318552652994,
          807.6425170898438,
          805.0496114095052,
          803.2056427001953,
          805.2281850179037,
          808.5697987874349,
          812.1515808105469,
          804.6047617594401,
          804.9487101236979,
          807.9857482910156,
          806.2746938069662,
          800.9789733886719,
          802.2697703043619,
          805.1651051839193,
          806.6378479003906,
          808.1577199300131,
          806.2283426920573,
          804.2733154296875,
          803.1340586344401,
          809.6431986490885,
          810.4004872639974,
          809.8476104736328,
          813.4677734375,
          819.4443359375,
          821.7830301920573,
          823.5623779296875,
          825.5108286539713,
          824.0529429117838,
          827.5609283447266,
          825.3941345214844,
          823.6321868896484,
          822.6412760416666,
          821.1171468098959,
          819.4784393310547,
          818.9003957112631,
          819.3374379475912,
          820.1696166992188,
          820.5977681477865,
          822.4050852457682,
          827.7969055175781,
          825.9273986816406,
          820.7176717122396,
          820.9517211914062,
          831.7088267008463,
          840.4150339762369,
          841.9884287516276,
          843.4044240315756,
          840.2534891764323,
          838.0513051350912,
          836.5490468343099,
          834.8059743245443,
          831.9119415283203,
          831.8543141682943,
          839.1221567789713,
          840.4405873616537,
          832.9279225667318,
          828.9068908691406,
          831.7671508789062,
          833.2961120605469,
          838.3159535725912,
          840.2759653727213,
          840.0452270507812,
          840.9283243815104,
          842.4120483398438,
          842.3963928222656,
          842.7077433268229,
          843.0106608072916,
          842.7761942545573,
          842.2017415364584,
          841.1288808186849,
          840.0254262288412,
          838.8084208170573,
          839.4627431233724,
          841.8043212890625,
          842.879384358724,
          843.3601531982422,
          844.9650421142578,
          845.7224171956381,
          845.4759267171224,
          845.1460774739584,
          845.0810343424479,
          845.065907796224,
          845.3805541992188,
          845.8822937011719,
          846.2959899902344,
          846.6092325846354,
          846.0847778320312,
          845.5548604329427,
          845.1106821695963,
          844.4825642903646,
          844.5890909830729,
          845.1107584635416,
          844.1392161051432,
          845.222646077474,
          841.8547414143881,
          831.5676015218099,
          823.3902587890625,
          806.0463205973307,
          800.9462381998698,
          796.2954559326172,
          791.9590199788412,
          787.8016560872396,
          786.6083221435547,
          783.0916849772135,
          781.1485443115234,
          777.0289510091146,
          777.7370249430338,
          785.7324167887369,
          791.5057067871094,
          806.0233917236328,
          808.7684885660807,
          810.8433074951172,
          812.6343282063802,
          815.2036285400391,
          814.9475148518881,
          817.0732828776041,
          819.3649241129557,
          822.0194854736328,
          824.1666056315104,
          825.8464304606119,
          827.1890106201172,
          828.5267893473307,
          829.9596405029297,
          831.8403269449869,
          833.3675282796224,
          834.7245076497396,
          835.9543711344401,
          836.622812906901,
          836.8704427083334,
          836.8855692545573,
          836.8525034586588,
          836.8971150716146,
          837.5088043212891,
          839.0384063720703,
          840.8924713134766,
          842.4240926106771,
          843.9852091471354,
          845.3464050292969,
          846.9892985026041,
          848.3068237304688,
          851.0369059244791,
          852.9287872314453,
          854.4443105061849,
          857.5163421630859,
          859.0357971191406,
          863.2612915039062,
          864.3828633626302,
          858.8642934163412,
          850.7897186279297,
          843.4840342203776,
          835.2436370849609,
          828.3362833658854,
          820.7114461263021,
          813.3199717203776,
          807.3295288085938,
          800.372792561849,
          794.5634053548177,
          785.4603424072266,
          779.2019195556641,
          780.4402974446615,
          785.0222371419271,
          788.9243723551432,
          792.9043426513672,
          796.1946512858073,
          798.9661102294922,
          802.6297403971354,
          805.4309539794922,
          807.4245249430338,
          809.7283172607422,
          812.9526418050131,
          816.0313059488932,
          818.8799641927084,
          820.9632517496744,
          822.9811503092448,
          825.0355885823568,
          827.0894165039062,
          null,
          null,
          null,
          null,
          null,
          null,
          null,
          null,
          null,
          null,
          null,
          null,
          null,
          null,
          null,
          null,
          null,
          null,
          null,
          null,
          null,
          null,
          null,
          null,
          null,
          null,
          null,
          null,
          null,
          null,
          null,
          null,
          null,
          null,
          null,
          null,
          null,
          null,
          null,
          null,
          null,
          null,
          null,
          null,
          null,
          null,
          null,
          null,
          null,
          null,
          null,
          null,
          null,
          null,
          null,
          null,
          null,
          null,
          null,
          null,
          null,
          null,
          null,
          null,
          null,
          null,
          null,
          null,
          null,
          null,
          null,
          null,
          null,
          null,
          null,
          null,
          null,
          null,
          null,
          null,
          null,
          null,
          null,
          null,
          null,
          null,
          null,
          null,
          null,
          null,
          null,
          null,
          null,
          null,
          null,
          null,
          null,
          null,
          null,
          null,
          null,
          null,
          null,
          null,
          null,
          null,
          null,
          null,
          null,
          null,
          null,
          null
         ]
        },
        {
         "mode": "lines",
         "name": "Test Predictions (CNN, 12-month rolling)",
         "type": "scatter",
         "y": [
          null,
          null,
          null,
          null,
          null,
          null,
          null,
          null,
          null,
          null,
          null,
          null,
          null,
          null,
          null,
          null,
          null,
          null,
          null,
          null,
          null,
          null,
          null,
          null,
          null,
          null,
          null,
          null,
          null,
          null,
          null,
          null,
          null,
          null,
          null,
          null,
          null,
          null,
          null,
          null,
          null,
          null,
          null,
          null,
          null,
          null,
          null,
          null,
          null,
          null,
          null,
          null,
          null,
          null,
          null,
          null,
          null,
          null,
          null,
          null,
          null,
          null,
          null,
          null,
          null,
          null,
          null,
          null,
          null,
          null,
          null,
          null,
          null,
          null,
          null,
          null,
          null,
          null,
          null,
          null,
          null,
          null,
          null,
          null,
          null,
          null,
          null,
          null,
          null,
          null,
          null,
          null,
          null,
          null,
          null,
          null,
          null,
          null,
          null,
          null,
          null,
          null,
          null,
          null,
          null,
          null,
          null,
          null,
          null,
          null,
          null,
          null,
          null,
          null,
          null,
          null,
          null,
          null,
          null,
          null,
          null,
          null,
          null,
          null,
          null,
          null,
          null,
          null,
          null,
          null,
          null,
          null,
          null,
          null,
          null,
          null,
          null,
          null,
          null,
          null,
          null,
          null,
          null,
          null,
          null,
          null,
          null,
          null,
          null,
          null,
          null,
          null,
          null,
          null,
          null,
          null,
          null,
          null,
          null,
          null,
          null,
          null,
          null,
          null,
          null,
          null,
          null,
          null,
          null,
          null,
          null,
          null,
          null,
          null,
          null,
          null,
          null,
          null,
          null,
          null,
          null,
          null,
          null,
          null,
          null,
          null,
          null,
          null,
          null,
          null,
          null,
          null,
          null,
          null,
          null,
          null,
          null,
          null,
          null,
          null,
          null,
          null,
          null,
          null,
          null,
          null,
          null,
          null,
          null,
          null,
          null,
          null,
          null,
          null,
          null,
          null,
          null,
          null,
          null,
          null,
          null,
          null,
          null,
          null,
          null,
          null,
          null,
          null,
          null,
          null,
          null,
          null,
          null,
          null,
          null,
          null,
          null,
          null,
          null,
          null,
          null,
          null,
          null,
          null,
          null,
          null,
          null,
          null,
          null,
          null,
          null,
          null,
          null,
          null,
          null,
          null,
          null,
          null,
          null,
          null,
          null,
          null,
          null,
          null,
          null,
          null,
          null,
          null,
          null,
          842.6290028889974,
          844.6315511067709,
          846.1277618408203,
          844.0769704182943,
          845.6095937093099,
          847.2479909261068,
          857.4312947591146,
          862.8509826660156,
          861.6733449300131,
          863.2503712972006,
          861.9705759684244,
          858.8468933105469,
          856.8176472981771,
          854.0095367431641,
          851.9454498291016,
          853.7085978190104,
          851.5413564046224,
          849.2084045410156,
          839.7972615559896,
          835.3109995524088,
          836.9426472981771,
          835.0083211263021,
          835.2437744140625,
          837.0463612874349,
          837.4836069742838,
          839.1808115641276,
          840.8706715901693,
          842.3925984700521,
          843.8228861490885,
          844.9070078531901,
          844.4484608968099,
          844.3071034749349,
          844.1761728922526,
          846.1204223632812,
          847.5466054280599,
          848.3784332275391,
          850.0888519287109,
          852.3034210205078,
          853.8056182861328,
          853.8377888997396,
          853.9777628580729,
          854.6101786295573,
          856.5932006835938,
          858.0122934977213,
          858.2647501627604,
          848.3326466878256,
          841.4354604085287,
          837.7255198160807,
          832.33447265625,
          830.0167134602865,
          829.9348297119141,
          832.4038848876953,
          833.3775736490885,
          832.2954406738281,
          832.5565643310547,
          832.1775054931641,
          833.0854085286459,
          843.0676676432291,
          850.6796315511068,
          854.9468739827474,
          860.4303232828776,
          863.0844014485677,
          863.6343383789062,
          862.0752665201823,
          861.9767049153646,
          863.4931691487631,
          862.5479431152344,
          862.1031850179037,
          861.9986419677734,
          861.7849375406901,
          864.6320648193359,
          866.2622680664062,
          858.5155588785807,
          845.9211069742838,
          834.1101938883463,
          825.4059651692709,
          813.1525472005209,
          802.8920644124349,
          795.2844746907552,
          788.0657145182291,
          782.3442331949869,
          777.8228708902994,
          771.427724202474,
          766.4415130615234,
          770.8832244873047,
          779.5270131429037,
          787.6017201741537,
          792.8534545898438,
          801.3719380696615,
          808.3541819254557,
          813.4810943603516,
          818.4946339925131,
          821.9886322021484,
          null,
          null
         ]
        }
       ],
       "layout": {
        "template": {
         "data": {
          "bar": [
           {
            "error_x": {
             "color": "#2a3f5f"
            },
            "error_y": {
             "color": "#2a3f5f"
            },
            "marker": {
             "line": {
              "color": "#E5ECF6",
              "width": 0.5
             },
             "pattern": {
              "fillmode": "overlay",
              "size": 10,
              "solidity": 0.2
             }
            },
            "type": "bar"
           }
          ],
          "barpolar": [
           {
            "marker": {
             "line": {
              "color": "#E5ECF6",
              "width": 0.5
             },
             "pattern": {
              "fillmode": "overlay",
              "size": 10,
              "solidity": 0.2
             }
            },
            "type": "barpolar"
           }
          ],
          "carpet": [
           {
            "aaxis": {
             "endlinecolor": "#2a3f5f",
             "gridcolor": "white",
             "linecolor": "white",
             "minorgridcolor": "white",
             "startlinecolor": "#2a3f5f"
            },
            "baxis": {
             "endlinecolor": "#2a3f5f",
             "gridcolor": "white",
             "linecolor": "white",
             "minorgridcolor": "white",
             "startlinecolor": "#2a3f5f"
            },
            "type": "carpet"
           }
          ],
          "choropleth": [
           {
            "colorbar": {
             "outlinewidth": 0,
             "ticks": ""
            },
            "type": "choropleth"
           }
          ],
          "contour": [
           {
            "colorbar": {
             "outlinewidth": 0,
             "ticks": ""
            },
            "colorscale": [
             [
              0,
              "#0d0887"
             ],
             [
              0.1111111111111111,
              "#46039f"
             ],
             [
              0.2222222222222222,
              "#7201a8"
             ],
             [
              0.3333333333333333,
              "#9c179e"
             ],
             [
              0.4444444444444444,
              "#bd3786"
             ],
             [
              0.5555555555555556,
              "#d8576b"
             ],
             [
              0.6666666666666666,
              "#ed7953"
             ],
             [
              0.7777777777777778,
              "#fb9f3a"
             ],
             [
              0.8888888888888888,
              "#fdca26"
             ],
             [
              1,
              "#f0f921"
             ]
            ],
            "type": "contour"
           }
          ],
          "contourcarpet": [
           {
            "colorbar": {
             "outlinewidth": 0,
             "ticks": ""
            },
            "type": "contourcarpet"
           }
          ],
          "heatmap": [
           {
            "colorbar": {
             "outlinewidth": 0,
             "ticks": ""
            },
            "colorscale": [
             [
              0,
              "#0d0887"
             ],
             [
              0.1111111111111111,
              "#46039f"
             ],
             [
              0.2222222222222222,
              "#7201a8"
             ],
             [
              0.3333333333333333,
              "#9c179e"
             ],
             [
              0.4444444444444444,
              "#bd3786"
             ],
             [
              0.5555555555555556,
              "#d8576b"
             ],
             [
              0.6666666666666666,
              "#ed7953"
             ],
             [
              0.7777777777777778,
              "#fb9f3a"
             ],
             [
              0.8888888888888888,
              "#fdca26"
             ],
             [
              1,
              "#f0f921"
             ]
            ],
            "type": "heatmap"
           }
          ],
          "heatmapgl": [
           {
            "colorbar": {
             "outlinewidth": 0,
             "ticks": ""
            },
            "colorscale": [
             [
              0,
              "#0d0887"
             ],
             [
              0.1111111111111111,
              "#46039f"
             ],
             [
              0.2222222222222222,
              "#7201a8"
             ],
             [
              0.3333333333333333,
              "#9c179e"
             ],
             [
              0.4444444444444444,
              "#bd3786"
             ],
             [
              0.5555555555555556,
              "#d8576b"
             ],
             [
              0.6666666666666666,
              "#ed7953"
             ],
             [
              0.7777777777777778,
              "#fb9f3a"
             ],
             [
              0.8888888888888888,
              "#fdca26"
             ],
             [
              1,
              "#f0f921"
             ]
            ],
            "type": "heatmapgl"
           }
          ],
          "histogram": [
           {
            "marker": {
             "pattern": {
              "fillmode": "overlay",
              "size": 10,
              "solidity": 0.2
             }
            },
            "type": "histogram"
           }
          ],
          "histogram2d": [
           {
            "colorbar": {
             "outlinewidth": 0,
             "ticks": ""
            },
            "colorscale": [
             [
              0,
              "#0d0887"
             ],
             [
              0.1111111111111111,
              "#46039f"
             ],
             [
              0.2222222222222222,
              "#7201a8"
             ],
             [
              0.3333333333333333,
              "#9c179e"
             ],
             [
              0.4444444444444444,
              "#bd3786"
             ],
             [
              0.5555555555555556,
              "#d8576b"
             ],
             [
              0.6666666666666666,
              "#ed7953"
             ],
             [
              0.7777777777777778,
              "#fb9f3a"
             ],
             [
              0.8888888888888888,
              "#fdca26"
             ],
             [
              1,
              "#f0f921"
             ]
            ],
            "type": "histogram2d"
           }
          ],
          "histogram2dcontour": [
           {
            "colorbar": {
             "outlinewidth": 0,
             "ticks": ""
            },
            "colorscale": [
             [
              0,
              "#0d0887"
             ],
             [
              0.1111111111111111,
              "#46039f"
             ],
             [
              0.2222222222222222,
              "#7201a8"
             ],
             [
              0.3333333333333333,
              "#9c179e"
             ],
             [
              0.4444444444444444,
              "#bd3786"
             ],
             [
              0.5555555555555556,
              "#d8576b"
             ],
             [
              0.6666666666666666,
              "#ed7953"
             ],
             [
              0.7777777777777778,
              "#fb9f3a"
             ],
             [
              0.8888888888888888,
              "#fdca26"
             ],
             [
              1,
              "#f0f921"
             ]
            ],
            "type": "histogram2dcontour"
           }
          ],
          "mesh3d": [
           {
            "colorbar": {
             "outlinewidth": 0,
             "ticks": ""
            },
            "type": "mesh3d"
           }
          ],
          "parcoords": [
           {
            "line": {
             "colorbar": {
              "outlinewidth": 0,
              "ticks": ""
             }
            },
            "type": "parcoords"
           }
          ],
          "pie": [
           {
            "automargin": true,
            "type": "pie"
           }
          ],
          "scatter": [
           {
            "fillpattern": {
             "fillmode": "overlay",
             "size": 10,
             "solidity": 0.2
            },
            "type": "scatter"
           }
          ],
          "scatter3d": [
           {
            "line": {
             "colorbar": {
              "outlinewidth": 0,
              "ticks": ""
             }
            },
            "marker": {
             "colorbar": {
              "outlinewidth": 0,
              "ticks": ""
             }
            },
            "type": "scatter3d"
           }
          ],
          "scattercarpet": [
           {
            "marker": {
             "colorbar": {
              "outlinewidth": 0,
              "ticks": ""
             }
            },
            "type": "scattercarpet"
           }
          ],
          "scattergeo": [
           {
            "marker": {
             "colorbar": {
              "outlinewidth": 0,
              "ticks": ""
             }
            },
            "type": "scattergeo"
           }
          ],
          "scattergl": [
           {
            "marker": {
             "colorbar": {
              "outlinewidth": 0,
              "ticks": ""
             }
            },
            "type": "scattergl"
           }
          ],
          "scattermapbox": [
           {
            "marker": {
             "colorbar": {
              "outlinewidth": 0,
              "ticks": ""
             }
            },
            "type": "scattermapbox"
           }
          ],
          "scatterpolar": [
           {
            "marker": {
             "colorbar": {
              "outlinewidth": 0,
              "ticks": ""
             }
            },
            "type": "scatterpolar"
           }
          ],
          "scatterpolargl": [
           {
            "marker": {
             "colorbar": {
              "outlinewidth": 0,
              "ticks": ""
             }
            },
            "type": "scatterpolargl"
           }
          ],
          "scatterternary": [
           {
            "marker": {
             "colorbar": {
              "outlinewidth": 0,
              "ticks": ""
             }
            },
            "type": "scatterternary"
           }
          ],
          "surface": [
           {
            "colorbar": {
             "outlinewidth": 0,
             "ticks": ""
            },
            "colorscale": [
             [
              0,
              "#0d0887"
             ],
             [
              0.1111111111111111,
              "#46039f"
             ],
             [
              0.2222222222222222,
              "#7201a8"
             ],
             [
              0.3333333333333333,
              "#9c179e"
             ],
             [
              0.4444444444444444,
              "#bd3786"
             ],
             [
              0.5555555555555556,
              "#d8576b"
             ],
             [
              0.6666666666666666,
              "#ed7953"
             ],
             [
              0.7777777777777778,
              "#fb9f3a"
             ],
             [
              0.8888888888888888,
              "#fdca26"
             ],
             [
              1,
              "#f0f921"
             ]
            ],
            "type": "surface"
           }
          ],
          "table": [
           {
            "cells": {
             "fill": {
              "color": "#EBF0F8"
             },
             "line": {
              "color": "white"
             }
            },
            "header": {
             "fill": {
              "color": "#C8D4E3"
             },
             "line": {
              "color": "white"
             }
            },
            "type": "table"
           }
          ]
         },
         "layout": {
          "annotationdefaults": {
           "arrowcolor": "#2a3f5f",
           "arrowhead": 0,
           "arrowwidth": 1
          },
          "autotypenumbers": "strict",
          "coloraxis": {
           "colorbar": {
            "outlinewidth": 0,
            "ticks": ""
           }
          },
          "colorscale": {
           "diverging": [
            [
             0,
             "#8e0152"
            ],
            [
             0.1,
             "#c51b7d"
            ],
            [
             0.2,
             "#de77ae"
            ],
            [
             0.3,
             "#f1b6da"
            ],
            [
             0.4,
             "#fde0ef"
            ],
            [
             0.5,
             "#f7f7f7"
            ],
            [
             0.6,
             "#e6f5d0"
            ],
            [
             0.7,
             "#b8e186"
            ],
            [
             0.8,
             "#7fbc41"
            ],
            [
             0.9,
             "#4d9221"
            ],
            [
             1,
             "#276419"
            ]
           ],
           "sequential": [
            [
             0,
             "#0d0887"
            ],
            [
             0.1111111111111111,
             "#46039f"
            ],
            [
             0.2222222222222222,
             "#7201a8"
            ],
            [
             0.3333333333333333,
             "#9c179e"
            ],
            [
             0.4444444444444444,
             "#bd3786"
            ],
            [
             0.5555555555555556,
             "#d8576b"
            ],
            [
             0.6666666666666666,
             "#ed7953"
            ],
            [
             0.7777777777777778,
             "#fb9f3a"
            ],
            [
             0.8888888888888888,
             "#fdca26"
            ],
            [
             1,
             "#f0f921"
            ]
           ],
           "sequentialminus": [
            [
             0,
             "#0d0887"
            ],
            [
             0.1111111111111111,
             "#46039f"
            ],
            [
             0.2222222222222222,
             "#7201a8"
            ],
            [
             0.3333333333333333,
             "#9c179e"
            ],
            [
             0.4444444444444444,
             "#bd3786"
            ],
            [
             0.5555555555555556,
             "#d8576b"
            ],
            [
             0.6666666666666666,
             "#ed7953"
            ],
            [
             0.7777777777777778,
             "#fb9f3a"
            ],
            [
             0.8888888888888888,
             "#fdca26"
            ],
            [
             1,
             "#f0f921"
            ]
           ]
          },
          "colorway": [
           "#636efa",
           "#EF553B",
           "#00cc96",
           "#ab63fa",
           "#FFA15A",
           "#19d3f3",
           "#FF6692",
           "#B6E880",
           "#FF97FF",
           "#FECB52"
          ],
          "font": {
           "color": "#2a3f5f"
          },
          "geo": {
           "bgcolor": "white",
           "lakecolor": "white",
           "landcolor": "#E5ECF6",
           "showlakes": true,
           "showland": true,
           "subunitcolor": "white"
          },
          "hoverlabel": {
           "align": "left"
          },
          "hovermode": "closest",
          "mapbox": {
           "style": "light"
          },
          "paper_bgcolor": "white",
          "plot_bgcolor": "#E5ECF6",
          "polar": {
           "angularaxis": {
            "gridcolor": "white",
            "linecolor": "white",
            "ticks": ""
           },
           "bgcolor": "#E5ECF6",
           "radialaxis": {
            "gridcolor": "white",
            "linecolor": "white",
            "ticks": ""
           }
          },
          "scene": {
           "xaxis": {
            "backgroundcolor": "#E5ECF6",
            "gridcolor": "white",
            "gridwidth": 2,
            "linecolor": "white",
            "showbackground": true,
            "ticks": "",
            "zerolinecolor": "white"
           },
           "yaxis": {
            "backgroundcolor": "#E5ECF6",
            "gridcolor": "white",
            "gridwidth": 2,
            "linecolor": "white",
            "showbackground": true,
            "ticks": "",
            "zerolinecolor": "white"
           },
           "zaxis": {
            "backgroundcolor": "#E5ECF6",
            "gridcolor": "white",
            "gridwidth": 2,
            "linecolor": "white",
            "showbackground": true,
            "ticks": "",
            "zerolinecolor": "white"
           }
          },
          "shapedefaults": {
           "line": {
            "color": "#2a3f5f"
           }
          },
          "ternary": {
           "aaxis": {
            "gridcolor": "white",
            "linecolor": "white",
            "ticks": ""
           },
           "baxis": {
            "gridcolor": "white",
            "linecolor": "white",
            "ticks": ""
           },
           "bgcolor": "#E5ECF6",
           "caxis": {
            "gridcolor": "white",
            "linecolor": "white",
            "ticks": ""
           }
          },
          "title": {
           "x": 0.05
          },
          "xaxis": {
           "automargin": true,
           "gridcolor": "white",
           "linecolor": "white",
           "ticks": "",
           "title": {
            "standoff": 15
           },
           "zerolinecolor": "white",
           "zerolinewidth": 2
          },
          "yaxis": {
           "automargin": true,
           "gridcolor": "white",
           "linecolor": "white",
           "ticks": "",
           "title": {
            "standoff": 15
           },
           "zerolinecolor": "white",
           "zerolinewidth": 2
          }
         }
        },
        "title": {
         "text": "12-Month Rolling Average of Predictions vs Actual Data for Middle Point"
        },
        "xaxis": {
         "ticktext": [
          2015,
          2016,
          2017,
          2018,
          2019,
          2020,
          2021,
          2022,
          2023,
          2024
         ],
         "tickvals": [
          0,
          13,
          48,
          95,
          143,
          191,
          246,
          299,
          326,
          354
         ],
         "title": {
          "text": "Time"
         }
        },
        "yaxis": {
         "title": {
          "text": "Velocity"
         }
        }
       }
      }
     },
     "metadata": {},
     "output_type": "display_data"
    }
   ],
   "source": [
    "# Calculate 12-month rolling average for actual data\n",
    "df['velocity_rolling'] = df['velocity'].rolling(window=12).mean()\n",
    "\n",
    "# Calculate 12-month rolling average for LSTM predictions\n",
    "trainPredictPlot_lstm_rolling = pd.Series(trainPredictPlot_lstm.flatten()).rolling(window=12).mean().values\n",
    "testPredictPlot_lstm_rolling = pd.Series(testPredictPlot_lstm.flatten()).rolling(window=12).mean().values\n",
    "\n",
    "# Calculate 12-month rolling average for CNN predictions\n",
    "trainPredictPlot_cnn_rolling = pd.Series(trainPredictPlot_cnn.flatten()).rolling(window=12).mean().values\n",
    "testPredictPlot_cnn_rolling = pd.Series(testPredictPlot_cnn.flatten()).rolling(window=12).mean().values\n",
    "\n",
    "# Create traces for rolling averages\n",
    "fig_rolling = go.Figure()\n",
    "fig_rolling.add_trace(go.Scatter(y=df['velocity_rolling'], mode='lines', name='Actual Data (12-month rolling)'))\n",
    "fig_rolling.add_trace(go.Scatter(y=trainPredictPlot_lstm_rolling, mode='lines', name='Train Predictions (LSTM, 12-month rolling)'))\n",
    "fig_rolling.add_trace(go.Scatter(y=testPredictPlot_lstm_rolling, mode='lines', name='Test Predictions (LSTM, 12-month rolling)'))\n",
    "fig_rolling.add_trace(go.Scatter(y=trainPredictPlot_cnn_rolling, mode='lines', name='Train Predictions (CNN, 12-month rolling)'))\n",
    "fig_rolling.add_trace(go.Scatter(y=testPredictPlot_cnn_rolling, mode='lines', name='Test Predictions (CNN, 12-month rolling)'))\n",
    "\n",
    "# Update layout for dark theme\n",
    "fig_rolling.update_layout(title='12-Month Rolling Average of Predictions vs Actual Data for ' + point_name.capitalize() + ' Point', xaxis_title='Time', yaxis_title='Velocity')\n",
    "# Update x-axis to show only one tick per year\n",
    "fig_rolling.update_xaxes(tickvals=[df.index[years == year][0] for year in unique_years], ticktext=unique_years)\n",
    "fig_rolling.show()"
   ]
  }
 ],
 "metadata": {
  "kernelspec": {
   "display_name": "mlgeo-jensencc",
   "language": "python",
   "name": "python3"
  },
  "language_info": {
   "codemirror_mode": {
    "name": "ipython",
    "version": 3
   },
   "file_extension": ".py",
   "mimetype": "text/x-python",
   "name": "python",
   "nbconvert_exporter": "python",
   "pygments_lexer": "ipython3",
   "version": "3.10.15"
  }
 },
 "nbformat": 4,
 "nbformat_minor": 4
}
