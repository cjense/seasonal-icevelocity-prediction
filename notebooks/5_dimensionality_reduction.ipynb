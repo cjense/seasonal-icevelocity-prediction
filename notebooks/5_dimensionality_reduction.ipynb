{
 "cells": [
  {
   "cell_type": "markdown",
   "metadata": {},
   "source": [
    "# Dimensionality Reduction\n",
    "\n",
    "Perform principle component analysis (PCA) on the data to extract important features.\n",
    "\n",
    "---"
   ]
  },
  {
   "cell_type": "markdown",
   "metadata": {},
   "source": [
    "### 1. Load packages and open dataset"
   ]
  },
  {
   "cell_type": "code",
   "execution_count": 28,
   "metadata": {},
   "outputs": [],
   "source": [
    "import pandas as pd\n",
    "import numpy as np\n",
    "from pycaret.clustering import *"
   ]
  },
  {
   "cell_type": "code",
   "execution_count": null,
   "metadata": {},
   "outputs": [
    {
     "data": {
      "text/html": [
       "<div>\n",
       "<style scoped>\n",
       "    .dataframe tbody tr th:only-of-type {\n",
       "        vertical-align: middle;\n",
       "    }\n",
       "\n",
       "    .dataframe tbody tr th {\n",
       "        vertical-align: top;\n",
       "    }\n",
       "\n",
       "    .dataframe thead th {\n",
       "        text-align: right;\n",
       "    }\n",
       "</style>\n",
       "<table border=\"1\" class=\"dataframe\">\n",
       "  <thead>\n",
       "    <tr style=\"text-align: right;\">\n",
       "      <th></th>\n",
       "      <th>time</th>\n",
       "      <th>VelocitySeries</th>\n",
       "    </tr>\n",
       "  </thead>\n",
       "  <tbody>\n",
       "    <tr>\n",
       "      <th>0</th>\n",
       "      <td>2015-01-30 12:00:00</td>\n",
       "      <td>779.53534</td>\n",
       "    </tr>\n",
       "    <tr>\n",
       "      <th>1</th>\n",
       "      <td>2015-02-11 12:00:00</td>\n",
       "      <td>738.42413</td>\n",
       "    </tr>\n",
       "    <tr>\n",
       "      <th>2</th>\n",
       "      <td>2015-07-29 12:00:00</td>\n",
       "      <td>741.93330</td>\n",
       "    </tr>\n",
       "    <tr>\n",
       "      <th>3</th>\n",
       "      <td>2015-09-03 12:00:00</td>\n",
       "      <td>736.29333</td>\n",
       "    </tr>\n",
       "    <tr>\n",
       "      <th>4</th>\n",
       "      <td>2015-09-15 12:00:00</td>\n",
       "      <td>731.44696</td>\n",
       "    </tr>\n",
       "  </tbody>\n",
       "</table>\n",
       "</div>"
      ],
      "text/plain": [
       "                  time  VelocitySeries\n",
       "0  2015-01-30 12:00:00       779.53534\n",
       "1  2015-02-11 12:00:00       738.42413\n",
       "2  2015-07-29 12:00:00       741.93330\n",
       "3  2015-09-03 12:00:00       736.29333\n",
       "4  2015-09-15 12:00:00       731.44696"
      ]
     },
     "execution_count": 29,
     "metadata": {},
     "output_type": "execute_result"
    }
   ],
   "source": [
    "point_name = 'upstream' # 'upstream', 'middle', or 'terminus'\n",
    "df = pd.read_csv('../data/clean/' + point_name + '_velocity_series_clean.csv')\n",
    "df.head()"
   ]
  },
  {
   "cell_type": "markdown",
   "metadata": {},
   "source": [
    "### 2. Clustering analysis\n",
    "\n",
    "Perform clustering analysis on the dataset using kmeans to determine if there are any trends in the data."
   ]
  },
  {
   "cell_type": "code",
   "execution_count": 35,
   "metadata": {},
   "outputs": [
    {
     "data": {
      "text/html": [
       "<div>\n",
       "<style scoped>\n",
       "    .dataframe tbody tr th:only-of-type {\n",
       "        vertical-align: middle;\n",
       "    }\n",
       "\n",
       "    .dataframe tbody tr th {\n",
       "        vertical-align: top;\n",
       "    }\n",
       "\n",
       "    .dataframe thead th {\n",
       "        text-align: right;\n",
       "    }\n",
       "</style>\n",
       "<table border=\"1\" class=\"dataframe\">\n",
       "  <thead>\n",
       "    <tr style=\"text-align: right;\">\n",
       "      <th></th>\n",
       "      <th>series</th>\n",
       "      <th>time</th>\n",
       "      <th>velocity</th>\n",
       "    </tr>\n",
       "  </thead>\n",
       "  <tbody>\n",
       "    <tr>\n",
       "      <th>0</th>\n",
       "      <td>1</td>\n",
       "      <td>2015-01-30 12:00:00</td>\n",
       "      <td>779.53534</td>\n",
       "    </tr>\n",
       "    <tr>\n",
       "      <th>1</th>\n",
       "      <td>2</td>\n",
       "      <td>2015-02-11 12:00:00</td>\n",
       "      <td>738.42413</td>\n",
       "    </tr>\n",
       "    <tr>\n",
       "      <th>2</th>\n",
       "      <td>3</td>\n",
       "      <td>2015-07-29 12:00:00</td>\n",
       "      <td>741.93330</td>\n",
       "    </tr>\n",
       "    <tr>\n",
       "      <th>3</th>\n",
       "      <td>4</td>\n",
       "      <td>2015-09-03 12:00:00</td>\n",
       "      <td>736.29333</td>\n",
       "    </tr>\n",
       "    <tr>\n",
       "      <th>4</th>\n",
       "      <td>5</td>\n",
       "      <td>2015-09-15 12:00:00</td>\n",
       "      <td>731.44696</td>\n",
       "    </tr>\n",
       "  </tbody>\n",
       "</table>\n",
       "</div>"
      ],
      "text/plain": [
       "   series                time   velocity\n",
       "0       1 2015-01-30 12:00:00  779.53534\n",
       "1       2 2015-02-11 12:00:00  738.42413\n",
       "2       3 2015-07-29 12:00:00  741.93330\n",
       "3       4 2015-09-03 12:00:00  736.29333\n",
       "4       5 2015-09-15 12:00:00  731.44696"
      ]
     },
     "execution_count": 35,
     "metadata": {},
     "output_type": "execute_result"
    }
   ],
   "source": [
    "# Rename velocityseries to velocity\n",
    "df = df.rename(columns={'VelocitySeries': 'velocity'})\n",
    "\n",
    "# create a sequence of numbers\n",
    "df['series'] = np.arange(1,len(df)+1)\n",
    "df['time'] = pd.to_datetime(df['time'])\n",
    "\n",
    "# drop unnecessary columns and re-arrange\n",
    "df = df[['series', 'time', 'velocity']] \n",
    "\n",
    "# check the head of the dataset\n",
    "df.head()"
   ]
  },
  {
   "cell_type": "code",
   "execution_count": 32,
   "metadata": {},
   "outputs": [
    {
     "name": "stdout",
     "output_type": "stream",
     "text": [
      "Shape of training data: (272, 3) Shape of test data: (92, 3)\n",
      "Training data percentage: 74.73%\n",
      "Testing data percentage: 25.27%\n"
     ]
    }
   ],
   "source": [
    "# split data into train-test set\n",
    "train = df[df['time'] < pd.to_datetime('06-01-2021')]\n",
    "test = df[df['time'] >= pd.to_datetime('06-01-2021')]\n",
    "\n",
    "# check shape\n",
    "print(\"Shape of training data:\", train.shape, \"Shape of test data:\", test.shape)\n",
    "\n",
    "# calculate percentage\n",
    "train_percentage = (len(train) / len(df)) * 100\n",
    "test_percentage = (len(test) / len(df)) * 100\n",
    "\n",
    "print(f\"Training data percentage: {train_percentage:.2f}%\")\n",
    "print(f\"Testing data percentage: {test_percentage:.2f}%\")"
   ]
  },
  {
   "cell_type": "code",
   "execution_count": 33,
   "metadata": {},
   "outputs": [
    {
     "data": {
      "text/html": [
       "<style type=\"text/css\">\n",
       "#T_a3ea4_row5_col1 {\n",
       "  background-color: lightgreen;\n",
       "}\n",
       "</style>\n",
       "<table id=\"T_a3ea4\">\n",
       "  <thead>\n",
       "    <tr>\n",
       "      <th class=\"blank level0\" >&nbsp;</th>\n",
       "      <th id=\"T_a3ea4_level0_col0\" class=\"col_heading level0 col0\" >Description</th>\n",
       "      <th id=\"T_a3ea4_level0_col1\" class=\"col_heading level0 col1\" >Value</th>\n",
       "    </tr>\n",
       "  </thead>\n",
       "  <tbody>\n",
       "    <tr>\n",
       "      <th id=\"T_a3ea4_level0_row0\" class=\"row_heading level0 row0\" >0</th>\n",
       "      <td id=\"T_a3ea4_row0_col0\" class=\"data row0 col0\" >Session id</td>\n",
       "      <td id=\"T_a3ea4_row0_col1\" class=\"data row0 col1\" >123</td>\n",
       "    </tr>\n",
       "    <tr>\n",
       "      <th id=\"T_a3ea4_level0_row1\" class=\"row_heading level0 row1\" >1</th>\n",
       "      <td id=\"T_a3ea4_row1_col0\" class=\"data row1 col0\" >Original data shape</td>\n",
       "      <td id=\"T_a3ea4_row1_col1\" class=\"data row1 col1\" >(272, 3)</td>\n",
       "    </tr>\n",
       "    <tr>\n",
       "      <th id=\"T_a3ea4_level0_row2\" class=\"row_heading level0 row2\" >2</th>\n",
       "      <td id=\"T_a3ea4_row2_col0\" class=\"data row2 col0\" >Transformed data shape</td>\n",
       "      <td id=\"T_a3ea4_row2_col1\" class=\"data row2 col1\" >(272, 5)</td>\n",
       "    </tr>\n",
       "    <tr>\n",
       "      <th id=\"T_a3ea4_level0_row3\" class=\"row_heading level0 row3\" >3</th>\n",
       "      <td id=\"T_a3ea4_row3_col0\" class=\"data row3 col0\" >Numeric features</td>\n",
       "      <td id=\"T_a3ea4_row3_col1\" class=\"data row3 col1\" >2</td>\n",
       "    </tr>\n",
       "    <tr>\n",
       "      <th id=\"T_a3ea4_level0_row4\" class=\"row_heading level0 row4\" >4</th>\n",
       "      <td id=\"T_a3ea4_row4_col0\" class=\"data row4 col0\" >Date features</td>\n",
       "      <td id=\"T_a3ea4_row4_col1\" class=\"data row4 col1\" >1</td>\n",
       "    </tr>\n",
       "    <tr>\n",
       "      <th id=\"T_a3ea4_level0_row5\" class=\"row_heading level0 row5\" >5</th>\n",
       "      <td id=\"T_a3ea4_row5_col0\" class=\"data row5 col0\" >Preprocess</td>\n",
       "      <td id=\"T_a3ea4_row5_col1\" class=\"data row5 col1\" >True</td>\n",
       "    </tr>\n",
       "    <tr>\n",
       "      <th id=\"T_a3ea4_level0_row6\" class=\"row_heading level0 row6\" >6</th>\n",
       "      <td id=\"T_a3ea4_row6_col0\" class=\"data row6 col0\" >Imputation type</td>\n",
       "      <td id=\"T_a3ea4_row6_col1\" class=\"data row6 col1\" >simple</td>\n",
       "    </tr>\n",
       "    <tr>\n",
       "      <th id=\"T_a3ea4_level0_row7\" class=\"row_heading level0 row7\" >7</th>\n",
       "      <td id=\"T_a3ea4_row7_col0\" class=\"data row7 col0\" >Numeric imputation</td>\n",
       "      <td id=\"T_a3ea4_row7_col1\" class=\"data row7 col1\" >mean</td>\n",
       "    </tr>\n",
       "    <tr>\n",
       "      <th id=\"T_a3ea4_level0_row8\" class=\"row_heading level0 row8\" >8</th>\n",
       "      <td id=\"T_a3ea4_row8_col0\" class=\"data row8 col0\" >Categorical imputation</td>\n",
       "      <td id=\"T_a3ea4_row8_col1\" class=\"data row8 col1\" >mode</td>\n",
       "    </tr>\n",
       "    <tr>\n",
       "      <th id=\"T_a3ea4_level0_row9\" class=\"row_heading level0 row9\" >9</th>\n",
       "      <td id=\"T_a3ea4_row9_col0\" class=\"data row9 col0\" >CPU Jobs</td>\n",
       "      <td id=\"T_a3ea4_row9_col1\" class=\"data row9 col1\" >-1</td>\n",
       "    </tr>\n",
       "    <tr>\n",
       "      <th id=\"T_a3ea4_level0_row10\" class=\"row_heading level0 row10\" >10</th>\n",
       "      <td id=\"T_a3ea4_row10_col0\" class=\"data row10 col0\" >Use GPU</td>\n",
       "      <td id=\"T_a3ea4_row10_col1\" class=\"data row10 col1\" >False</td>\n",
       "    </tr>\n",
       "    <tr>\n",
       "      <th id=\"T_a3ea4_level0_row11\" class=\"row_heading level0 row11\" >11</th>\n",
       "      <td id=\"T_a3ea4_row11_col0\" class=\"data row11 col0\" >Log Experiment</td>\n",
       "      <td id=\"T_a3ea4_row11_col1\" class=\"data row11 col1\" >False</td>\n",
       "    </tr>\n",
       "    <tr>\n",
       "      <th id=\"T_a3ea4_level0_row12\" class=\"row_heading level0 row12\" >12</th>\n",
       "      <td id=\"T_a3ea4_row12_col0\" class=\"data row12 col0\" >Experiment Name</td>\n",
       "      <td id=\"T_a3ea4_row12_col1\" class=\"data row12 col1\" >cluster-default-name</td>\n",
       "    </tr>\n",
       "    <tr>\n",
       "      <th id=\"T_a3ea4_level0_row13\" class=\"row_heading level0 row13\" >13</th>\n",
       "      <td id=\"T_a3ea4_row13_col0\" class=\"data row13 col0\" >USI</td>\n",
       "      <td id=\"T_a3ea4_row13_col1\" class=\"data row13 col1\" >6378</td>\n",
       "    </tr>\n",
       "  </tbody>\n",
       "</table>\n"
      ],
      "text/plain": [
       "<pandas.io.formats.style.Styler at 0x330ed5360>"
      ]
     },
     "metadata": {},
     "output_type": "display_data"
    }
   ],
   "source": [
    "# initialize setup\n",
    "s = setup(data = train, \n",
    "          numeric_features = ['time', 'series'],\n",
    "          session_id = 123)"
   ]
  },
  {
   "cell_type": "code",
   "execution_count": 34,
   "metadata": {},
   "outputs": [
    {
     "data": {
      "text/html": [],
      "text/plain": [
       "<IPython.core.display.HTML object>"
      ]
     },
     "metadata": {},
     "output_type": "display_data"
    },
    {
     "data": {
      "text/html": [
       "<style type=\"text/css\">\n",
       "</style>\n",
       "<table id=\"T_20ce2\">\n",
       "  <thead>\n",
       "    <tr>\n",
       "      <th class=\"blank level0\" >&nbsp;</th>\n",
       "      <th id=\"T_20ce2_level0_col0\" class=\"col_heading level0 col0\" >Silhouette</th>\n",
       "      <th id=\"T_20ce2_level0_col1\" class=\"col_heading level0 col1\" >Calinski-Harabasz</th>\n",
       "      <th id=\"T_20ce2_level0_col2\" class=\"col_heading level0 col2\" >Davies-Bouldin</th>\n",
       "      <th id=\"T_20ce2_level0_col3\" class=\"col_heading level0 col3\" >Homogeneity</th>\n",
       "      <th id=\"T_20ce2_level0_col4\" class=\"col_heading level0 col4\" >Rand Index</th>\n",
       "      <th id=\"T_20ce2_level0_col5\" class=\"col_heading level0 col5\" >Completeness</th>\n",
       "    </tr>\n",
       "  </thead>\n",
       "  <tbody>\n",
       "    <tr>\n",
       "      <th id=\"T_20ce2_level0_row0\" class=\"row_heading level0 row0\" >0</th>\n",
       "      <td id=\"T_20ce2_row0_col0\" class=\"data row0 col0\" >0.4411</td>\n",
       "      <td id=\"T_20ce2_row0_col1\" class=\"data row0 col1\" >285.5963</td>\n",
       "      <td id=\"T_20ce2_row0_col2\" class=\"data row0 col2\" >0.8695</td>\n",
       "      <td id=\"T_20ce2_row0_col3\" class=\"data row0 col3\" >0</td>\n",
       "      <td id=\"T_20ce2_row0_col4\" class=\"data row0 col4\" >0</td>\n",
       "      <td id=\"T_20ce2_row0_col5\" class=\"data row0 col5\" >0</td>\n",
       "    </tr>\n",
       "  </tbody>\n",
       "</table>\n"
      ],
      "text/plain": [
       "<pandas.io.formats.style.Styler at 0x330ed4e80>"
      ]
     },
     "metadata": {},
     "output_type": "display_data"
    },
    {
     "data": {
      "text/html": [],
      "text/plain": [
       "<IPython.core.display.HTML object>"
      ]
     },
     "metadata": {},
     "output_type": "display_data"
    },
    {
     "data": {
      "text/html": [],
      "text/plain": [
       "<IPython.core.display.HTML object>"
      ]
     },
     "metadata": {},
     "output_type": "display_data"
    },
    {
     "data": {
      "application/vnd.plotly.v1+json": {
       "config": {
        "plotlyServerURL": "https://plot.ly"
       },
       "data": [
        {
         "customdata": [
          [
           272
          ],
          [
           195
          ],
          [
           196
          ],
          [
           197
          ],
          [
           198
          ],
          [
           199
          ],
          [
           200
          ],
          [
           201
          ],
          [
           202
          ],
          [
           203
          ],
          [
           204
          ],
          [
           205
          ],
          [
           206
          ],
          [
           207
          ],
          [
           208
          ],
          [
           209
          ],
          [
           210
          ],
          [
           211
          ],
          [
           212
          ],
          [
           213
          ],
          [
           214
          ],
          [
           215
          ],
          [
           194
          ],
          [
           216
          ],
          [
           193
          ],
          [
           191
          ],
          [
           271
          ],
          [
           168
          ],
          [
           171
          ],
          [
           172
          ],
          [
           173
          ],
          [
           175
          ],
          [
           176
          ],
          [
           177
          ],
          [
           178
          ],
          [
           179
          ],
          [
           180
          ],
          [
           181
          ],
          [
           182
          ],
          [
           183
          ],
          [
           184
          ],
          [
           185
          ],
          [
           186
          ],
          [
           187
          ],
          [
           188
          ],
          [
           189
          ],
          [
           190
          ],
          [
           192
          ],
          [
           218
          ],
          [
           217
          ],
          [
           223
          ],
          [
           249
          ],
          [
           250
          ],
          [
           251
          ],
          [
           252
          ],
          [
           253
          ],
          [
           254
          ],
          [
           255
          ],
          [
           256
          ],
          [
           257
          ],
          [
           258
          ],
          [
           219
          ],
          [
           259
          ],
          [
           261
          ],
          [
           262
          ],
          [
           263
          ],
          [
           264
          ],
          [
           265
          ],
          [
           266
          ],
          [
           267
          ],
          [
           268
          ],
          [
           269
          ],
          [
           270
          ],
          [
           260
          ],
          [
           247
          ],
          [
           248
          ],
          [
           245
          ],
          [
           224
          ],
          [
           225
          ],
          [
           226
          ],
          [
           227
          ],
          [
           228
          ],
          [
           229
          ],
          [
           230
          ],
          [
           231
          ],
          [
           246
          ],
          [
           233
          ],
          [
           232
          ],
          [
           235
          ],
          [
           236
          ],
          [
           237
          ],
          [
           238
          ],
          [
           239
          ],
          [
           240
          ],
          [
           241
          ],
          [
           242
          ],
          [
           243
          ],
          [
           244
          ],
          [
           234
          ]
         ],
         "hovertemplate": "Cluster=Cluster 0<br>PCA1=%{x}<br>PCA2=%{y}<br>Feature=%{customdata[0]}<extra></extra>",
         "legendgroup": "Cluster 0",
         "marker": {
          "color": "#636efa",
          "opacity": 0.5,
          "symbol": "circle"
         },
         "mode": "markers",
         "name": "Cluster 0",
         "orientation": "v",
         "showlegend": true,
         "textposition": "top center",
         "type": "scatter",
         "x": [
          -140.99405608876967,
          -60.26286785486044,
          -60.74878527164174,
          -57.00966809837805,
          -65.61017092035193,
          -67.81649284301429,
          -64.36192865108094,
          -66.71376538324809,
          -68.74020020819184,
          -70.06385165984706,
          -69.49674398572314,
          -72.72102191115108,
          -75.38996625345389,
          -78.90167354929919,
          -77.7122241978911,
          -85.70151685540259,
          -80.36476555814797,
          -81.52370087447287,
          -82.68033126974137,
          -85.89166446739884,
          -97.91706438406531,
          -87.15313834776342,
          -59.15818390356621,
          -92.8702509622653,
          -64.00926357061611,
          -55.78432945069164,
          -150.06091256377013,
          -7.207493400219609,
          9.91800484373948,
          -6.3700151626056405,
          -12.56455532346539,
          -27.282520261029525,
          -30.587946646791366,
          -32.337045545822434,
          -30.898715810236112,
          -34.143547535828475,
          -38.041338633093204,
          -40.295663870319245,
          -47.04510554570081,
          -41.79209336385172,
          -42.33302410303776,
          -45.05254336604159,
          -45.57072967761292,
          -46.71969189992604,
          -46.15742265512718,
          -53.96241687279591,
          -57.23494574893413,
          -59.056656782617196,
          -74.64114700592293,
          -97.76887912720112,
          -109.31526347840229,
          -109.06288820559125,
          -112.17929201579136,
          -116.25008553482888,
          -109.89680690488494,
          -113.97398787381667,
          -120.9589635655576,
          -117.30747149030702,
          -113.2403126185904,
          -121.32739698511426,
          -118.97788052379782,
          -89.27350377735823,
          -121.14837140094657,
          -118.66661538779778,
          -129.63411974325194,
          -127.97091733765595,
          -128.34549373315755,
          -133.07551372326887,
          -131.47178209071564,
          -134.17936621946956,
          -136.1887602588146,
          -125.013262946932,
          -136.52790378685393,
          -125.3486595757,
          -106.00666182857495,
          -112.54871169879404,
          -115.1008283309391,
          -70.98417682423046,
          -66.71900427993856,
          -60.45180367959835,
          -75.04995872655344,
          -76.97970917137835,
          -76.09292228098143,
          -80.2727709491766,
          -80.45184813143726,
          -106.50550917685524,
          -83.09870240791116,
          -82.24595966233895,
          -92.80548323477805,
          -86.63393143853949,
          -91.19764123972175,
          -94.17988340529006,
          -94.95694473468703,
          -94.35901588478372,
          -100.71665302155394,
          -101.69729885994451,
          -100.83074193782801,
          -103.96768049925815,
          -84.07067243358426
         ],
         "xaxis": "x",
         "y": [
          4.648355468848093,
          4.005594825024347,
          5.571164141488259,
          19.995307019600506,
          -2.3214399333602573,
          -5.9917917491840065,
          7.566335629021114,
          3.4531204845194527,
          1.0912973296352664,
          0.1072864041045284,
          4.8776580257543065,
          -1.8907659750699453,
          -6.969074172654621,
          -14.61226774625292,
          -7.13403491773196,
          -28.40442124549227,
          -9.117999616729877,
          -9.600709429146608,
          -10.076404388471309,
          -16.017998487480003,
          -49.57197231931207,
          -13.768354410455789,
          4.323194706812114,
          -28.281798831965407,
          -13.485122009269023,
          4.530275008860563,
          -25.990359448528274,
          78.63014387834457,
          140.55769671881856,
          94.68630564349377,
          78.87811294073352,
          40.17394316062158,
          33.15854995176384,
          31.6671554647428,
          39.08902560719542,
          32.25804766846785,
          23.439837214958054,
          19.623390938044064,
          2.9402087319018806,
          21.97177668965129,
          23.36991711578639,
          18.137687968124496,
          19.605049341299967,
          19.940125487869395,
          24.695771715425156,
          3.986283765064887,
          -2.9289883587520564,
          -1.4566596952787283,
          34.09975765523818,
          -39.33216995319144,
          -55.23800540024859,
          28.657006002554926,
          22.216888721236234,
          12.872158467876623,
          35.2523042322023,
          26.70194558938671,
          8.488122067999697,
          22.645584580629773,
          38.068097583517826,
          17.23476771696901,
          27.429765816481336,
          -7.546558786323537,
          23.868463080542803,
          37.510344527010844,
          7.989807240473898,
          16.096060364343284,
          18.00048766694706,
          6.649451455273993,
          14.57470977457048,
          10.166237907121848,
          7.095221225723052,
          44.15142521645063,
          12.151908045417217,
          14.129625626194525,
          31.869555550530748,
          15.003743302663661,
          -2.824421668892861,
          64.46418307318194,
          80.48933572806726,
          102.44924312762318,
          61.87909476729448,
          59.050467348522,
          64.79375851224177,
          55.11712715184184,
          57.616541539433335,
          26.379205038234403,
          56.43731865110996,
          55.988154508143964,
          32.98430910296151,
          54.81138297887415,
          44.780310593715,
          38.74850414154654,
          39.42799895669964,
          44.29217249820815,
          27.98760647169607,
          28.83494081596127,
          34.51666359965016,
          28.01405035442065,
          56.52362357504271
         ],
         "yaxis": "y"
        },
        {
         "customdata": [
          [
           174
          ],
          [
           117
          ],
          [
           118
          ],
          [
           107
          ],
          [
           1
          ],
          [
           41
          ],
          [
           57
          ],
          [
           56
          ],
          [
           55
          ],
          [
           54
          ],
          [
           53
          ],
          [
           52
          ],
          [
           51
          ],
          [
           50
          ],
          [
           49
          ],
          [
           48
          ],
          [
           47
          ],
          [
           46
          ],
          [
           45
          ],
          [
           44
          ],
          [
           42
          ],
          [
           74
          ],
          [
           40
          ],
          [
           58
          ],
          [
           59
          ],
          [
           60
          ],
          [
           61
          ],
          [
           75
          ],
          [
           71
          ],
          [
           70
          ],
          [
           78
          ],
          [
           80
          ],
          [
           104
          ],
          [
           68
          ],
          [
           84
          ],
          [
           39
          ],
          [
           85
          ],
          [
           87
          ],
          [
           88
          ],
          [
           66
          ],
          [
           65
          ],
          [
           64
          ],
          [
           63
          ],
          [
           93
          ],
          [
           62
          ],
          [
           67
          ],
          [
           38
          ],
          [
           72
          ],
          [
           36
          ],
          [
           18
          ],
          [
           37
          ],
          [
           16
          ],
          [
           15
          ],
          [
           14
          ],
          [
           13
          ],
          [
           12
          ],
          [
           11
          ],
          [
           10
          ],
          [
           9
          ],
          [
           8
          ],
          [
           7
          ],
          [
           6
          ],
          [
           5
          ],
          [
           4
          ],
          [
           3
          ],
          [
           2
          ],
          [
           19
          ],
          [
           20
          ],
          [
           17
          ],
          [
           22
          ],
          [
           35
          ],
          [
           23
          ],
          [
           24
          ],
          [
           25
          ],
          [
           26
          ],
          [
           34
          ],
          [
           33
          ],
          [
           32
          ],
          [
           27
          ],
          [
           31
          ],
          [
           21
          ]
         ],
         "hovertemplate": "Cluster=Cluster 1<br>PCA1=%{x}<br>PCA2=%{y}<br>Feature=%{customdata[0]}<extra></extra>",
         "legendgroup": "Cluster 1",
         "marker": {
          "color": "#EF553B",
          "opacity": 0.5,
          "symbol": "circle"
         },
         "mode": "markers",
         "name": "Cluster 1",
         "orientation": "v",
         "showlegend": true,
         "textposition": "top center",
         "type": "scatter",
         "x": [
          23.894097279772662,
          54.16347279200725,
          42.82951109440148,
          40.202643178033995,
          140.1379088883715,
          87.292250033747,
          80.69797723527594,
          97.03759885261726,
          93.12660314470746,
          96.21123333241066,
          96.51211545779621,
          99.03600216501862,
          94.07881993363549,
          109.00177230331724,
          83.51770605179516,
          101.2700046346476,
          101.99020489500786,
          78.56910013579494,
          103.99283471308837,
          98.76969126030114,
          99.51361003721892,
          77.5958637380615,
          106.11836714975037,
          92.32645820601753,
          76.15990167719602,
          83.48646655885331,
          78.83890940554606,
          74.96185432576434,
          68.81980244315119,
          73.50437167590178,
          77.39165705759561,
          56.17332996994805,
          43.252638703947596,
          66.05066185547166,
          71.18869796801508,
          109.82152229270665,
          62.10393919386506,
          55.79129143271446,
          69.77490645083589,
          68.80667702712135,
          80.48462438123157,
          70.80416363292724,
          72.59829172206206,
          49.60191423332597,
          84.06698653233013,
          77.94942445657487,
          97.8129198369974,
          68.4301964384469,
          121.74946416209502,
          127.86406383103535,
          118.95352057447629,
          126.24889883573451,
          139.14825975568294,
          120.36215664688334,
          119.9336338594988,
          134.51773968022385,
          149.1611343322361,
          132.06617656615487,
          162.68097023649207,
          146.57509634558755,
          127.4432550783232,
          134.0532759891665,
          151.34301624932374,
          150.74992172401858,
          149.9968118450334,
          151.97497373809318,
          124.14951654866185,
          123.82450958506763,
          121.47942655042321,
          123.22954102126592,
          118.53575469609162,
          117.0860180113242,
          118.51749423527123,
          113.26141443127074,
          121.27953593032179,
          113.18402043509093,
          121.17833043444034,
          118.90439603990045,
          106.90578143474457,
          120.59117927924231,
          124.17318723371932
         ],
         "xaxis": "x",
         "y": [
          192.8816898477648,
          102.68181327863398,
          71.2321794264263,
          27.654235338548432,
          -8.037198613353668,
          -40.23209636860118,
          -9.21980864014983,
          37.46417298619744,
          22.516930773792637,
          28.860347435627784,
          25.91782585802626,
          30.55466210275294,
          12.423430248468387,
          54.79588605287872,
          -25.807366453329234,
          24.248266750770583,
          23.395719568016517,
          -50.92906549884592,
          23.4017275910316,
          4.461062853516118,
          0.007111706133731966,
          35.92752339197836,
          14.019346446250475,
          29.215016892135633,
          -16.207576073697723,
          9.134692863225037,
          -1.9653739349322958,
          31.29065086614932,
          -0.41230145071801483,
          10.800408814859285,
          47.99958447944666,
          -9.700512783087747,
          27.803399499930414,
          -18.760671999940904,
          48.17531431415931,
          21.431385746404604,
          23.570959625931774,
          11.261548958773366,
          56.86404702730993,
          -16.461792573704034,
          16.034735634998682,
          -16.471437528662914,
          -14.869377834493084,
          11.478614250135744,
          16.990306066639683,
          14.407890729776899,
          -18.160310806141066,
          1.446384371806303,
          48.59990885053127,
          9.433755531883355,
          43.135088044974935,
          -2.0680001866290794,
          34.30407431360503,
          -25.75616703242767,
          -30.874223671748563,
          10.625244646820478,
          51.517720443119266,
          -3.395647823099837,
          86.89200780256186,
          34.17503025068892,
          -26.93743905914849,
          -10.493929300293642,
          39.23993301645521,
          34.54873876172053,
          28.375992744676985,
          31.687981142114978,
          1.7760232693126756,
          3.673045007711589,
          -12.883561531411154,
          8.44842622085346,
          35.77480463344719,
          -7.362766022681941,
          -0.12002041020770812,
          -12.442912704415383,
          14.845790163406976,
          15.655349885672168,
          37.02013930679507,
          27.213435902187157,
          -25.19967845799709,
          28.647066041321082,
          7.620374964728515
         ],
         "yaxis": "y"
        },
        {
         "customdata": [
          [
           43
          ],
          [
           79
          ],
          [
           30
          ],
          [
           29
          ],
          [
           116
          ],
          [
           115
          ],
          [
           102
          ],
          [
           222
          ],
          [
           120
          ],
          [
           121
          ],
          [
           221
          ],
          [
           220
          ],
          [
           170
          ],
          [
           28
          ]
         ],
         "hovertemplate": "Cluster=Cluster 2<br>PCA1=%{x}<br>PCA2=%{y}<br>Feature=%{customdata[0]}<extra></extra>",
         "legendgroup": "Cluster 2",
         "marker": {
          "color": "#00cc96",
          "opacity": 0.5,
          "symbol": "circle"
         },
         "mode": "markers",
         "name": "Cluster 2",
         "orientation": "v",
         "showlegend": true,
         "textposition": "top center",
         "type": "scatter",
         "x": [
          65.11687493404082,
          3.7687848714806047,
          65.71335682971775,
          71.90334624742749,
          -13.233402744617129,
          -6.839637988837561,
          -7.373323311299393,
          -131.6833792924189,
          -28.598003551370155,
          -8.469151221805188,
          -127.26019953682827,
          -119.30334687638191,
          -73.09530991476089,
          80.62630484486226
         ],
         "xaxis": "x",
         "y": [
          -101.63233054904416,
          -173.02164234352966,
          -140.93906351788291,
          -125.80026560467965,
          -106.2673412579368,
          -89.53629078230004,
          -133.0964136239642,
          -127.01364311526063,
          -140.22148671098867,
          -75.10261184319401,
          -116.59645197471518,
          -95.89569515773445,
          -115.13147712311347,
          -102.60965686480995
         ],
         "yaxis": "y"
        },
        {
         "customdata": [
          [
           69
          ],
          [
           105
          ],
          [
           81
          ],
          [
           76
          ],
          [
           130
          ],
          [
           131
          ],
          [
           132
          ],
          [
           133
          ],
          [
           134
          ],
          [
           135
          ],
          [
           100
          ],
          [
           137
          ],
          [
           138
          ],
          [
           139
          ],
          [
           140
          ],
          [
           141
          ],
          [
           142
          ],
          [
           143
          ],
          [
           144
          ],
          [
           129
          ],
          [
           145
          ],
          [
           128
          ],
          [
           126
          ],
          [
           106
          ],
          [
           103
          ],
          [
           108
          ],
          [
           109
          ],
          [
           110
          ],
          [
           111
          ],
          [
           112
          ],
          [
           113
          ],
          [
           114
          ],
          [
           101
          ],
          [
           119
          ],
          [
           122
          ],
          [
           123
          ],
          [
           124
          ],
          [
           125
          ],
          [
           127
          ],
          [
           73
          ],
          [
           146
          ],
          [
           148
          ],
          [
           99
          ],
          [
           169
          ],
          [
           98
          ],
          [
           97
          ],
          [
           96
          ],
          [
           95
          ],
          [
           94
          ],
          [
           92
          ],
          [
           91
          ],
          [
           90
          ],
          [
           89
          ],
          [
           86
          ],
          [
           83
          ],
          [
           82
          ],
          [
           77
          ],
          [
           167
          ],
          [
           147
          ],
          [
           166
          ],
          [
           164
          ],
          [
           149
          ],
          [
           150
          ],
          [
           151
          ],
          [
           152
          ],
          [
           153
          ],
          [
           154
          ],
          [
           155
          ],
          [
           156
          ],
          [
           157
          ],
          [
           158
          ],
          [
           159
          ],
          [
           160
          ],
          [
           161
          ],
          [
           162
          ],
          [
           163
          ],
          [
           165
          ],
          [
           136
          ]
         ],
         "hovertemplate": "Cluster=Cluster 3<br>PCA1=%{x}<br>PCA2=%{y}<br>Feature=%{customdata[0]}<extra></extra>",
         "legendgroup": "Cluster 3",
         "marker": {
          "color": "#ab63fa",
          "opacity": 0.5,
          "symbol": "circle"
         },
         "mode": "markers",
         "name": "Cluster 3",
         "orientation": "v",
         "showlegend": true,
         "textposition": "top center",
         "type": "scatter",
         "x": [
          49.19895823732761,
          15.918467451690775,
          45.85633373052169,
          57.58567410625065,
          -5.652618579681223,
          -13.516188270478276,
          -4.373593232499558,
          -0.12301822880698397,
          12.951524495297253,
          -5.761575293203611,
          25.108608908811814,
          1.628672025558003,
          -10.925820590286373,
          -11.51686907574903,
          -10.934465107341513,
          -12.34292241472591,
          -14.00880702092531,
          -13.409697137092254,
          -13.839237702260743,
          2.4964755880980674,
          -17.04844792061734,
          0.9427283592810208,
          6.391490389395465,
          38.881540584441716,
          18.14943132588892,
          22.946329692935215,
          25.350529587885728,
          10.338409156508476,
          14.125910623022872,
          16.346237211573026,
          20.897989795556246,
          12.891513047100684,
          35.44611849278723,
          3.783487640047151,
          10.366163493876115,
          10.37461701341115,
          9.451736091559766,
          6.472713195896708,
          5.839282681073832,
          55.99735886495385,
          -15.738793736569818,
          -25.558934771757535,
          32.20431605593322,
          -32.19271606705994,
          32.99301628421848,
          37.54841469313714,
          36.546972266883515,
          35.40242319091846,
          40.99351216048325,
          32.609748621727924,
          44.00539076876115,
          43.068932805165616,
          41.13544507006788,
          49.27030598474716,
          35.5887141785023,
          43.310540748795994,
          52.68490162118709,
          -37.39959902118236,
          -19.09814765547842,
          -38.62252340713126,
          -35.3923040637559,
          -26.273521653371002,
          -23.422846778222716,
          -20.77605264742969,
          -19.135594669448384,
          -21.869376064336922,
          -22.30252793296685,
          -27.44920526413042,
          -28.84659514065708,
          -28.863680185199602,
          -31.91794637154782,
          -29.07674487365852,
          -35.781015468807944,
          -32.00431474807037,
          -28.541140437810544,
          -30.894691574069245,
          -35.54214113178826,
          -7.040480798069079
         ],
         "xaxis": "x",
         "y": [
          -66.21570290565086,
          -52.341663271376135,
          -38.0550890979047,
          -18.864551321226713,
          -38.00446140835674,
          -58.89221938564261,
          -28.02299987410163,
          -11.228462399438136,
          31.607342825205784,
          -22.30014029216635,
          -40.82623009821521,
          6.280363592718556,
          -28.096430293775224,
          -26.850819441897443,
          -22.033894704273266,
          -23.276005844396757,
          -25.30157751911291,
          -20.43380959006964,
          -17.76893755005701,
          -16.247731257546427,
          -24.491504122816824,
          -24.020865820533082,
          -14.314248375954465,
          20.589137145916972,
          -52.375415938996596,
          -21.81962872868994,
          -10.644394398690995,
          -53.28822646197571,
          -38.716829642923294,
          -28.915011160519693,
          -11.86330574632359,
          -32.53044560996494,
          -5.506567113354487,
          -44.71528704395347,
          -15.209131459903334,
          -11.325170218157222,
          -11.089466315561959,
          -17.111475162998577,
          -12.950428553377076,
          -33.34759518552541,
          -17.46124829967554,
          -41.25926107716843,
          -22.275403758448206,
          6.308054685236508,
          -22.91947646418619,
          -12.099887841725119,
          -18.192124466279076,
          -25.647619402216616,
          -11.675984807741155,
          -43.28018024525403,
          -11.64282660534391,
          -18.324721528411768,
          -27.253567631808703,
          -11.628999835488205,
          -63.21496893312412,
          -42.75859543400193,
          -30.23798128896437,
          -16.301670743243527,
          -24.640765881289823,
          -23.06797097854994,
          -19.3258869831145,
          -39.57581866859778,
          -27.85558280050487,
          -16.755842574097993,
          -8.718810397268976,
          -13.259767126623872,
          -11.533609850945693,
          -24.152711200486532,
          -25.36113945096977,
          -22.368714231191202,
          -28.619720348987524,
          -16.11450465713494,
          -33.47402342509904,
          -18.93549785979193,
          -5.351166236978559,
          -9.469599040804871,
          -16.737482517041432,
          -23.14797030932368
         ],
         "yaxis": "y"
        }
       ],
       "layout": {
        "height": 600,
        "legend": {
         "title": {
          "text": "Cluster"
         },
         "tracegroupgap": 0
        },
        "margin": {
         "t": 60
        },
        "plot_bgcolor": "rgb(240,240,240)",
        "template": {
         "data": {
          "bar": [
           {
            "error_x": {
             "color": "#2a3f5f"
            },
            "error_y": {
             "color": "#2a3f5f"
            },
            "marker": {
             "line": {
              "color": "#E5ECF6",
              "width": 0.5
             },
             "pattern": {
              "fillmode": "overlay",
              "size": 10,
              "solidity": 0.2
             }
            },
            "type": "bar"
           }
          ],
          "barpolar": [
           {
            "marker": {
             "line": {
              "color": "#E5ECF6",
              "width": 0.5
             },
             "pattern": {
              "fillmode": "overlay",
              "size": 10,
              "solidity": 0.2
             }
            },
            "type": "barpolar"
           }
          ],
          "carpet": [
           {
            "aaxis": {
             "endlinecolor": "#2a3f5f",
             "gridcolor": "white",
             "linecolor": "white",
             "minorgridcolor": "white",
             "startlinecolor": "#2a3f5f"
            },
            "baxis": {
             "endlinecolor": "#2a3f5f",
             "gridcolor": "white",
             "linecolor": "white",
             "minorgridcolor": "white",
             "startlinecolor": "#2a3f5f"
            },
            "type": "carpet"
           }
          ],
          "choropleth": [
           {
            "colorbar": {
             "outlinewidth": 0,
             "ticks": ""
            },
            "type": "choropleth"
           }
          ],
          "contour": [
           {
            "colorbar": {
             "outlinewidth": 0,
             "ticks": ""
            },
            "colorscale": [
             [
              0,
              "#0d0887"
             ],
             [
              0.1111111111111111,
              "#46039f"
             ],
             [
              0.2222222222222222,
              "#7201a8"
             ],
             [
              0.3333333333333333,
              "#9c179e"
             ],
             [
              0.4444444444444444,
              "#bd3786"
             ],
             [
              0.5555555555555556,
              "#d8576b"
             ],
             [
              0.6666666666666666,
              "#ed7953"
             ],
             [
              0.7777777777777778,
              "#fb9f3a"
             ],
             [
              0.8888888888888888,
              "#fdca26"
             ],
             [
              1,
              "#f0f921"
             ]
            ],
            "type": "contour"
           }
          ],
          "contourcarpet": [
           {
            "colorbar": {
             "outlinewidth": 0,
             "ticks": ""
            },
            "type": "contourcarpet"
           }
          ],
          "heatmap": [
           {
            "colorbar": {
             "outlinewidth": 0,
             "ticks": ""
            },
            "colorscale": [
             [
              0,
              "#0d0887"
             ],
             [
              0.1111111111111111,
              "#46039f"
             ],
             [
              0.2222222222222222,
              "#7201a8"
             ],
             [
              0.3333333333333333,
              "#9c179e"
             ],
             [
              0.4444444444444444,
              "#bd3786"
             ],
             [
              0.5555555555555556,
              "#d8576b"
             ],
             [
              0.6666666666666666,
              "#ed7953"
             ],
             [
              0.7777777777777778,
              "#fb9f3a"
             ],
             [
              0.8888888888888888,
              "#fdca26"
             ],
             [
              1,
              "#f0f921"
             ]
            ],
            "type": "heatmap"
           }
          ],
          "heatmapgl": [
           {
            "colorbar": {
             "outlinewidth": 0,
             "ticks": ""
            },
            "colorscale": [
             [
              0,
              "#0d0887"
             ],
             [
              0.1111111111111111,
              "#46039f"
             ],
             [
              0.2222222222222222,
              "#7201a8"
             ],
             [
              0.3333333333333333,
              "#9c179e"
             ],
             [
              0.4444444444444444,
              "#bd3786"
             ],
             [
              0.5555555555555556,
              "#d8576b"
             ],
             [
              0.6666666666666666,
              "#ed7953"
             ],
             [
              0.7777777777777778,
              "#fb9f3a"
             ],
             [
              0.8888888888888888,
              "#fdca26"
             ],
             [
              1,
              "#f0f921"
             ]
            ],
            "type": "heatmapgl"
           }
          ],
          "histogram": [
           {
            "marker": {
             "pattern": {
              "fillmode": "overlay",
              "size": 10,
              "solidity": 0.2
             }
            },
            "type": "histogram"
           }
          ],
          "histogram2d": [
           {
            "colorbar": {
             "outlinewidth": 0,
             "ticks": ""
            },
            "colorscale": [
             [
              0,
              "#0d0887"
             ],
             [
              0.1111111111111111,
              "#46039f"
             ],
             [
              0.2222222222222222,
              "#7201a8"
             ],
             [
              0.3333333333333333,
              "#9c179e"
             ],
             [
              0.4444444444444444,
              "#bd3786"
             ],
             [
              0.5555555555555556,
              "#d8576b"
             ],
             [
              0.6666666666666666,
              "#ed7953"
             ],
             [
              0.7777777777777778,
              "#fb9f3a"
             ],
             [
              0.8888888888888888,
              "#fdca26"
             ],
             [
              1,
              "#f0f921"
             ]
            ],
            "type": "histogram2d"
           }
          ],
          "histogram2dcontour": [
           {
            "colorbar": {
             "outlinewidth": 0,
             "ticks": ""
            },
            "colorscale": [
             [
              0,
              "#0d0887"
             ],
             [
              0.1111111111111111,
              "#46039f"
             ],
             [
              0.2222222222222222,
              "#7201a8"
             ],
             [
              0.3333333333333333,
              "#9c179e"
             ],
             [
              0.4444444444444444,
              "#bd3786"
             ],
             [
              0.5555555555555556,
              "#d8576b"
             ],
             [
              0.6666666666666666,
              "#ed7953"
             ],
             [
              0.7777777777777778,
              "#fb9f3a"
             ],
             [
              0.8888888888888888,
              "#fdca26"
             ],
             [
              1,
              "#f0f921"
             ]
            ],
            "type": "histogram2dcontour"
           }
          ],
          "mesh3d": [
           {
            "colorbar": {
             "outlinewidth": 0,
             "ticks": ""
            },
            "type": "mesh3d"
           }
          ],
          "parcoords": [
           {
            "line": {
             "colorbar": {
              "outlinewidth": 0,
              "ticks": ""
             }
            },
            "type": "parcoords"
           }
          ],
          "pie": [
           {
            "automargin": true,
            "type": "pie"
           }
          ],
          "scatter": [
           {
            "fillpattern": {
             "fillmode": "overlay",
             "size": 10,
             "solidity": 0.2
            },
            "type": "scatter"
           }
          ],
          "scatter3d": [
           {
            "line": {
             "colorbar": {
              "outlinewidth": 0,
              "ticks": ""
             }
            },
            "marker": {
             "colorbar": {
              "outlinewidth": 0,
              "ticks": ""
             }
            },
            "type": "scatter3d"
           }
          ],
          "scattercarpet": [
           {
            "marker": {
             "colorbar": {
              "outlinewidth": 0,
              "ticks": ""
             }
            },
            "type": "scattercarpet"
           }
          ],
          "scattergeo": [
           {
            "marker": {
             "colorbar": {
              "outlinewidth": 0,
              "ticks": ""
             }
            },
            "type": "scattergeo"
           }
          ],
          "scattergl": [
           {
            "marker": {
             "colorbar": {
              "outlinewidth": 0,
              "ticks": ""
             }
            },
            "type": "scattergl"
           }
          ],
          "scattermapbox": [
           {
            "marker": {
             "colorbar": {
              "outlinewidth": 0,
              "ticks": ""
             }
            },
            "type": "scattermapbox"
           }
          ],
          "scatterpolar": [
           {
            "marker": {
             "colorbar": {
              "outlinewidth": 0,
              "ticks": ""
             }
            },
            "type": "scatterpolar"
           }
          ],
          "scatterpolargl": [
           {
            "marker": {
             "colorbar": {
              "outlinewidth": 0,
              "ticks": ""
             }
            },
            "type": "scatterpolargl"
           }
          ],
          "scatterternary": [
           {
            "marker": {
             "colorbar": {
              "outlinewidth": 0,
              "ticks": ""
             }
            },
            "type": "scatterternary"
           }
          ],
          "surface": [
           {
            "colorbar": {
             "outlinewidth": 0,
             "ticks": ""
            },
            "colorscale": [
             [
              0,
              "#0d0887"
             ],
             [
              0.1111111111111111,
              "#46039f"
             ],
             [
              0.2222222222222222,
              "#7201a8"
             ],
             [
              0.3333333333333333,
              "#9c179e"
             ],
             [
              0.4444444444444444,
              "#bd3786"
             ],
             [
              0.5555555555555556,
              "#d8576b"
             ],
             [
              0.6666666666666666,
              "#ed7953"
             ],
             [
              0.7777777777777778,
              "#fb9f3a"
             ],
             [
              0.8888888888888888,
              "#fdca26"
             ],
             [
              1,
              "#f0f921"
             ]
            ],
            "type": "surface"
           }
          ],
          "table": [
           {
            "cells": {
             "fill": {
              "color": "#EBF0F8"
             },
             "line": {
              "color": "white"
             }
            },
            "header": {
             "fill": {
              "color": "#C8D4E3"
             },
             "line": {
              "color": "white"
             }
            },
            "type": "table"
           }
          ]
         },
         "layout": {
          "annotationdefaults": {
           "arrowcolor": "#2a3f5f",
           "arrowhead": 0,
           "arrowwidth": 1
          },
          "autotypenumbers": "strict",
          "coloraxis": {
           "colorbar": {
            "outlinewidth": 0,
            "ticks": ""
           }
          },
          "colorscale": {
           "diverging": [
            [
             0,
             "#8e0152"
            ],
            [
             0.1,
             "#c51b7d"
            ],
            [
             0.2,
             "#de77ae"
            ],
            [
             0.3,
             "#f1b6da"
            ],
            [
             0.4,
             "#fde0ef"
            ],
            [
             0.5,
             "#f7f7f7"
            ],
            [
             0.6,
             "#e6f5d0"
            ],
            [
             0.7,
             "#b8e186"
            ],
            [
             0.8,
             "#7fbc41"
            ],
            [
             0.9,
             "#4d9221"
            ],
            [
             1,
             "#276419"
            ]
           ],
           "sequential": [
            [
             0,
             "#0d0887"
            ],
            [
             0.1111111111111111,
             "#46039f"
            ],
            [
             0.2222222222222222,
             "#7201a8"
            ],
            [
             0.3333333333333333,
             "#9c179e"
            ],
            [
             0.4444444444444444,
             "#bd3786"
            ],
            [
             0.5555555555555556,
             "#d8576b"
            ],
            [
             0.6666666666666666,
             "#ed7953"
            ],
            [
             0.7777777777777778,
             "#fb9f3a"
            ],
            [
             0.8888888888888888,
             "#fdca26"
            ],
            [
             1,
             "#f0f921"
            ]
           ],
           "sequentialminus": [
            [
             0,
             "#0d0887"
            ],
            [
             0.1111111111111111,
             "#46039f"
            ],
            [
             0.2222222222222222,
             "#7201a8"
            ],
            [
             0.3333333333333333,
             "#9c179e"
            ],
            [
             0.4444444444444444,
             "#bd3786"
            ],
            [
             0.5555555555555556,
             "#d8576b"
            ],
            [
             0.6666666666666666,
             "#ed7953"
            ],
            [
             0.7777777777777778,
             "#fb9f3a"
            ],
            [
             0.8888888888888888,
             "#fdca26"
            ],
            [
             1,
             "#f0f921"
            ]
           ]
          },
          "colorway": [
           "#636efa",
           "#EF553B",
           "#00cc96",
           "#ab63fa",
           "#FFA15A",
           "#19d3f3",
           "#FF6692",
           "#B6E880",
           "#FF97FF",
           "#FECB52"
          ],
          "font": {
           "color": "#2a3f5f"
          },
          "geo": {
           "bgcolor": "white",
           "lakecolor": "white",
           "landcolor": "#E5ECF6",
           "showlakes": true,
           "showland": true,
           "subunitcolor": "white"
          },
          "hoverlabel": {
           "align": "left"
          },
          "hovermode": "closest",
          "mapbox": {
           "style": "light"
          },
          "paper_bgcolor": "white",
          "plot_bgcolor": "#E5ECF6",
          "polar": {
           "angularaxis": {
            "gridcolor": "white",
            "linecolor": "white",
            "ticks": ""
           },
           "bgcolor": "#E5ECF6",
           "radialaxis": {
            "gridcolor": "white",
            "linecolor": "white",
            "ticks": ""
           }
          },
          "scene": {
           "xaxis": {
            "backgroundcolor": "#E5ECF6",
            "gridcolor": "white",
            "gridwidth": 2,
            "linecolor": "white",
            "showbackground": true,
            "ticks": "",
            "zerolinecolor": "white"
           },
           "yaxis": {
            "backgroundcolor": "#E5ECF6",
            "gridcolor": "white",
            "gridwidth": 2,
            "linecolor": "white",
            "showbackground": true,
            "ticks": "",
            "zerolinecolor": "white"
           },
           "zaxis": {
            "backgroundcolor": "#E5ECF6",
            "gridcolor": "white",
            "gridwidth": 2,
            "linecolor": "white",
            "showbackground": true,
            "ticks": "",
            "zerolinecolor": "white"
           }
          },
          "shapedefaults": {
           "line": {
            "color": "#2a3f5f"
           }
          },
          "ternary": {
           "aaxis": {
            "gridcolor": "white",
            "linecolor": "white",
            "ticks": ""
           },
           "baxis": {
            "gridcolor": "white",
            "linecolor": "white",
            "ticks": ""
           },
           "bgcolor": "#E5ECF6",
           "caxis": {
            "gridcolor": "white",
            "linecolor": "white",
            "ticks": ""
           }
          },
          "title": {
           "x": 0.05
          },
          "xaxis": {
           "automargin": true,
           "gridcolor": "white",
           "linecolor": "white",
           "ticks": "",
           "title": {
            "standoff": 15
           },
           "zerolinecolor": "white",
           "zerolinewidth": 2
          },
          "yaxis": {
           "automargin": true,
           "gridcolor": "white",
           "linecolor": "white",
           "ticks": "",
           "title": {
            "standoff": 15
           },
           "zerolinecolor": "white",
           "zerolinewidth": 2
          }
         }
        },
        "title": {
         "text": "2D Cluster PCA Plot"
        },
        "xaxis": {
         "anchor": "y",
         "domain": [
          0,
          1
         ],
         "title": {
          "text": "PCA1"
         }
        },
        "yaxis": {
         "anchor": "x",
         "domain": [
          0,
          1
         ],
         "title": {
          "text": "PCA2"
         }
        }
       }
      }
     },
     "metadata": {},
     "output_type": "display_data"
    }
   ],
   "source": [
    "kmeans = create_model('kmeans')\n",
    "plot_model(kmeans, plot = 'cluster')"
   ]
  }
 ],
 "metadata": {
  "kernelspec": {
   "display_name": "mlgeo-jensencc",
   "language": "python",
   "name": "python3"
  },
  "language_info": {
   "codemirror_mode": {
    "name": "ipython",
    "version": 3
   },
   "file_extension": ".py",
   "mimetype": "text/x-python",
   "name": "python",
   "nbconvert_exporter": "python",
   "pygments_lexer": "ipython3",
   "version": "3.10.15"
  }
 },
 "nbformat": 4,
 "nbformat_minor": 2
}
